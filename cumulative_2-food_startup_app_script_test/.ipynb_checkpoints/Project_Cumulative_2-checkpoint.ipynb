{
 "cells": [
  {
   "cell_type": "markdown",
   "metadata": {
    "toc": true
   },
   "source": [
    "<h1>Table of Contents<span class=\"tocSkip\"></span></h1>\n",
    "<div class=\"toc\"><ul class=\"toc-item\"><li><ul class=\"toc-item\"><li><ul class=\"toc-item\"><li><span><a href=\"#Комментарий-от-ревьюера-№1\" data-toc-modified-id=\"Комментарий-от-ревьюера-№1-0.0.1\"><span class=\"toc-item-num\">0.0.1&nbsp;&nbsp;</span>Комментарий от ревьюера №1</a></span></li><li><span><a href=\"#Комментарий-от-ревьюера-№1\" data-toc-modified-id=\"Комментарий-от-ревьюера-№1-0.0.2\"><span class=\"toc-item-num\">0.0.2&nbsp;&nbsp;</span>Комментарий от ревьюера №1</a></span></li><li><span><a href=\"#Комментарий-от-ревьюера-№1\" data-toc-modified-id=\"Комментарий-от-ревьюера-№1-0.0.3\"><span class=\"toc-item-num\">0.0.3&nbsp;&nbsp;</span>Комментарий от ревьюера №1</a></span></li><li><span><a href=\"#Комментарий-от-ревьюера-№1\" data-toc-modified-id=\"Комментарий-от-ревьюера-№1-0.0.4\"><span class=\"toc-item-num\">0.0.4&nbsp;&nbsp;</span>Комментарий от ревьюера №1</a></span></li><li><span><a href=\"#Комментарий-от-ревьюера-№2\" data-toc-modified-id=\"Комментарий-от-ревьюера-№2-0.0.5\"><span class=\"toc-item-num\">0.0.5&nbsp;&nbsp;</span>Комментарий от ревьюера №2</a></span></li><li><span><a href=\"#Комментарий-от-ревьюера-№3\" data-toc-modified-id=\"Комментарий-от-ревьюера-№3-0.0.6\"><span class=\"toc-item-num\">0.0.6&nbsp;&nbsp;</span>Комментарий от ревьюера №3</a></span></li></ul></li></ul></li><li><span><a href=\"#Imports\" data-toc-modified-id=\"Imports-1\"><span class=\"toc-item-num\">1&nbsp;&nbsp;</span>Imports</a></span></li><li><span><a href=\"#Исследование-поведения-пользователей-мобильного-приложения-для-стартапа,-продающего-продукты-питания.\" data-toc-modified-id=\"Исследование-поведения-пользователей-мобильного-приложения-для-стартапа,-продающего-продукты-питания.-2\"><span class=\"toc-item-num\">2&nbsp;&nbsp;</span>Исследование поведения пользователей мобильного приложения для стартапа, продающего продукты питания.</a></span><ul class=\"toc-item\"><li><span><a href=\"#Описание-проекта\" data-toc-modified-id=\"Описание-проекта-2.1\"><span class=\"toc-item-num\">2.1&nbsp;&nbsp;</span>Описание проекта</a></span></li><li><span><a href=\"#Описание-данных\" data-toc-modified-id=\"Описание-данных-2.2\"><span class=\"toc-item-num\">2.2&nbsp;&nbsp;</span>Описание данных</a></span></li></ul></li><li><span><a href=\"#Загрузка-данных\" data-toc-modified-id=\"Загрузка-данных-3\"><span class=\"toc-item-num\">3&nbsp;&nbsp;</span>Загрузка данных</a></span><ul class=\"toc-item\"><li><ul class=\"toc-item\"><li><span><a href=\"#Комментарий-от-ревьюера-№1\" data-toc-modified-id=\"Комментарий-от-ревьюера-№1-3.0.1\"><span class=\"toc-item-num\">3.0.1&nbsp;&nbsp;</span>Комментарий от ревьюера №1</a></span></li></ul></li><li><span><a href=\"#Вывод-по-загрузке\" data-toc-modified-id=\"Вывод-по-загрузке-3.1\"><span class=\"toc-item-num\">3.1&nbsp;&nbsp;</span>Вывод по загрузке</a></span><ul class=\"toc-item\"><li><span><a href=\"#Комментарий-от-ревьюера-№1\" data-toc-modified-id=\"Комментарий-от-ревьюера-№1-3.1.1\"><span class=\"toc-item-num\">3.1.1&nbsp;&nbsp;</span>Комментарий от ревьюера №1</a></span></li></ul></li></ul></li><li><span><a href=\"#Подготовка-данных\" data-toc-modified-id=\"Подготовка-данных-4\"><span class=\"toc-item-num\">4&nbsp;&nbsp;</span>Подготовка данных</a></span><ul class=\"toc-item\"><li><span><a href=\"#Названия-столбцов\" data-toc-modified-id=\"Названия-столбцов-4.1\"><span class=\"toc-item-num\">4.1&nbsp;&nbsp;</span>Названия столбцов</a></span></li><li><span><a href=\"#Чистим-от-дубликатов\" data-toc-modified-id=\"Чистим-от-дубликатов-4.2\"><span class=\"toc-item-num\">4.2&nbsp;&nbsp;</span>Чистим от дубликатов</a></span></li><li><span><a href=\"#Конвертируем-юниксовские-даты\" data-toc-modified-id=\"Конвертируем-юниксовские-даты-4.3\"><span class=\"toc-item-num\">4.3&nbsp;&nbsp;</span>Конвертируем юниксовские даты</a></span></li><li><span><a href=\"#Столбец-с-датой-временем-и-столбец-с-датой\" data-toc-modified-id=\"Столбец-с-датой-временем-и-столбец-с-датой-4.4\"><span class=\"toc-item-num\">4.4&nbsp;&nbsp;</span>Столбец с датой-временем и столбец с датой</a></span></li><li><span><a href=\"#Вывод-по-подготовке-данных\" data-toc-modified-id=\"Вывод-по-подготовке-данных-4.5\"><span class=\"toc-item-num\">4.5&nbsp;&nbsp;</span>Вывод по подготовке данных</a></span></li></ul></li><li><span><a href=\"#Анализ-данных\" data-toc-modified-id=\"Анализ-данных-5\"><span class=\"toc-item-num\">5&nbsp;&nbsp;</span>Анализ данных</a></span><ul class=\"toc-item\"><li><span><a href=\"#Количество-событий\" data-toc-modified-id=\"Количество-событий-5.1\"><span class=\"toc-item-num\">5.1&nbsp;&nbsp;</span>Количество событий</a></span></li><li><span><a href=\"#Количество-пользователей\" data-toc-modified-id=\"Количество-пользователей-5.2\"><span class=\"toc-item-num\">5.2&nbsp;&nbsp;</span>Количество пользователей</a></span></li><li><span><a href=\"#Среднее-количество-событий-на-пользователя\" data-toc-modified-id=\"Среднее-количество-событий-на-пользователя-5.3\"><span class=\"toc-item-num\">5.3&nbsp;&nbsp;</span>Среднее количество событий на пользователя</a></span><ul class=\"toc-item\"><li><span><a href=\"#Комментарий-от-ревьюера-№1\" data-toc-modified-id=\"Комментарий-от-ревьюера-№1-5.3.1\"><span class=\"toc-item-num\">5.3.1&nbsp;&nbsp;</span>Комментарий от ревьюера №1</a></span></li><li><span><a href=\"#Комментарий-от-ревьюера-№2\" data-toc-modified-id=\"Комментарий-от-ревьюера-№2-5.3.2\"><span class=\"toc-item-num\">5.3.2&nbsp;&nbsp;</span>Комментарий от ревьюера №2</a></span></li></ul></li><li><span><a href=\"#Старые-и-новые-данные\" data-toc-modified-id=\"Старые-и-новые-данные-5.4\"><span class=\"toc-item-num\">5.4&nbsp;&nbsp;</span>Старые и новые данные</a></span><ul class=\"toc-item\"><li><span><a href=\"#Комментарий-от-ревьюера-№1\" data-toc-modified-id=\"Комментарий-от-ревьюера-№1-5.4.1\"><span class=\"toc-item-num\">5.4.1&nbsp;&nbsp;</span>Комментарий от ревьюера №1</a></span></li></ul></li><li><span><a href=\"#Проверка-групп-пользователей\" data-toc-modified-id=\"Проверка-групп-пользователей-5.5\"><span class=\"toc-item-num\">5.5&nbsp;&nbsp;</span>Проверка групп пользователей</a></span><ul class=\"toc-item\"><li><span><a href=\"#Комментарий-от-ревьюера-№1\" data-toc-modified-id=\"Комментарий-от-ревьюера-№1-5.5.1\"><span class=\"toc-item-num\">5.5.1&nbsp;&nbsp;</span>Комментарий от ревьюера №1</a></span></li><li><span><a href=\"#Комментарий-от-ревьюера-№2\" data-toc-modified-id=\"Комментарий-от-ревьюера-№2-5.5.2\"><span class=\"toc-item-num\">5.5.2&nbsp;&nbsp;</span>Комментарий от ревьюера №2</a></span></li><li><span><a href=\"#Комментарий-от-ревьюера-№1\" data-toc-modified-id=\"Комментарий-от-ревьюера-№1-5.5.3\"><span class=\"toc-item-num\">5.5.3&nbsp;&nbsp;</span>Комментарий от ревьюера №1</a></span></li><li><span><a href=\"#Комментарий-от-ревьюера-№2\" data-toc-modified-id=\"Комментарий-от-ревьюера-№2-5.5.4\"><span class=\"toc-item-num\">5.5.4&nbsp;&nbsp;</span>Комментарий от ревьюера №2</a></span></li><li><span><a href=\"#Комментарий-от-ревьюера-№1\" data-toc-modified-id=\"Комментарий-от-ревьюера-№1-5.5.5\"><span class=\"toc-item-num\">5.5.5&nbsp;&nbsp;</span>Комментарий от ревьюера №1</a></span></li><li><span><a href=\"#Комментарий-от-ревьюера-№2\" data-toc-modified-id=\"Комментарий-от-ревьюера-№2-5.5.6\"><span class=\"toc-item-num\">5.5.6&nbsp;&nbsp;</span>Комментарий от ревьюера №2</a></span></li></ul></li><li><span><a href=\"#Вывод-по-анализу-данных\" data-toc-modified-id=\"Вывод-по-анализу-данных-5.6\"><span class=\"toc-item-num\">5.6&nbsp;&nbsp;</span>Вывод по анализу данных</a></span></li></ul></li><li><span><a href=\"#Исследование-воронки-событий\" data-toc-modified-id=\"Исследование-воронки-событий-6\"><span class=\"toc-item-num\">6&nbsp;&nbsp;</span>Исследование воронки событий</a></span><ul class=\"toc-item\"><li><span><a href=\"#Типы-событий\" data-toc-modified-id=\"Типы-событий-6.1\"><span class=\"toc-item-num\">6.1&nbsp;&nbsp;</span>Типы событий</a></span></li><li><span><a href=\"#Количество-пользователей-по-событиям\" data-toc-modified-id=\"Количество-пользователей-по-событиям-6.2\"><span class=\"toc-item-num\">6.2&nbsp;&nbsp;</span>Количество пользователей по событиям</a></span><ul class=\"toc-item\"><li><span><a href=\"#Комментарий-от-ревьюера-#1\" data-toc-modified-id=\"Комментарий-от-ревьюера-#1-6.2.1\"><span class=\"toc-item-num\">6.2.1&nbsp;&nbsp;</span>Комментарий от ревьюера #1</a></span></li><li><span><a href=\"#Комментарий-от-ревьюера-№2\" data-toc-modified-id=\"Комментарий-от-ревьюера-№2-6.2.2\"><span class=\"toc-item-num\">6.2.2&nbsp;&nbsp;</span>Комментарий от ревьюера №2</a></span></li></ul></li><li><span><a href=\"#Порядок-событий\" data-toc-modified-id=\"Порядок-событий-6.3\"><span class=\"toc-item-num\">6.3&nbsp;&nbsp;</span>Порядок событий</a></span><ul class=\"toc-item\"><li><span><a href=\"#Комментарий-от-ревьюера-#1\" data-toc-modified-id=\"Комментарий-от-ревьюера-#1-6.3.1\"><span class=\"toc-item-num\">6.3.1&nbsp;&nbsp;</span>Комментарий от ревьюера #1</a></span></li></ul></li><li><span><a href=\"#Воронка\" data-toc-modified-id=\"Воронка-6.4\"><span class=\"toc-item-num\">6.4&nbsp;&nbsp;</span>Воронка</a></span><ul class=\"toc-item\"><li><span><a href=\"#Комментарий-от-ревьюера-№1\" data-toc-modified-id=\"Комментарий-от-ревьюера-№1-6.4.1\"><span class=\"toc-item-num\">6.4.1&nbsp;&nbsp;</span>Комментарий от ревьюера №1</a></span></li><li><span><a href=\"#Комментарий-от-ревьюера-№2\" data-toc-modified-id=\"Комментарий-от-ревьюера-№2-6.4.2\"><span class=\"toc-item-num\">6.4.2&nbsp;&nbsp;</span>Комментарий от ревьюера №2</a></span></li><li><span><a href=\"#Комментарий-от-ревьюера-№1\" data-toc-modified-id=\"Комментарий-от-ревьюера-№1-6.4.3\"><span class=\"toc-item-num\">6.4.3&nbsp;&nbsp;</span>Комментарий от ревьюера №1</a></span></li></ul></li></ul></li><li><span><a href=\"#A/A/B-тест\" data-toc-modified-id=\"A/A/B-тест-7\"><span class=\"toc-item-num\">7&nbsp;&nbsp;</span>A/A/B-тест</a></span><ul class=\"toc-item\"><li><span><a href=\"#Количество-пользователей-в-группах\" data-toc-modified-id=\"Количество-пользователей-в-группах-7.1\"><span class=\"toc-item-num\">7.1&nbsp;&nbsp;</span>Количество пользователей в группах</a></span><ul class=\"toc-item\"><li><span><a href=\"#Комментарий-от-ревьюера-№1\" data-toc-modified-id=\"Комментарий-от-ревьюера-№1-7.1.1\"><span class=\"toc-item-num\">7.1.1&nbsp;&nbsp;</span>Комментарий от ревьюера №1</a></span></li><li><span><a href=\"#Комментарий-от-ревьюера-№2\" data-toc-modified-id=\"Комментарий-от-ревьюера-№2-7.1.2\"><span class=\"toc-item-num\">7.1.2&nbsp;&nbsp;</span>Комментарий от ревьюера №2</a></span></li></ul></li><li><span><a href=\"#A/A-тест.-Проверка-гипотезы-о-равных-долях\" data-toc-modified-id=\"A/A-тест.-Проверка-гипотезы-о-равных-долях-7.2\"><span class=\"toc-item-num\">7.2&nbsp;&nbsp;</span>A/A-тест. Проверка гипотезы о равных долях</a></span><ul class=\"toc-item\"><li><span><a href=\"#Комментарий-от-ревьюера-№2\" data-toc-modified-id=\"Комментарий-от-ревьюера-№2-7.2.1\"><span class=\"toc-item-num\">7.2.1&nbsp;&nbsp;</span>Комментарий от ревьюера №2</a></span></li><li><span><a href=\"#Комментарий-от-ревьюера-№3\" data-toc-modified-id=\"Комментарий-от-ревьюера-№3-7.2.2\"><span class=\"toc-item-num\">7.2.2&nbsp;&nbsp;</span>Комментарий от ревьюера №3</a></span></li><li><span><a href=\"#Комментарий-от-ревьюера-№1\" data-toc-modified-id=\"Комментарий-от-ревьюера-№1-7.2.3\"><span class=\"toc-item-num\">7.2.3&nbsp;&nbsp;</span>Комментарий от ревьюера №1</a></span></li></ul></li><li><span><a href=\"#A/B---тест.-Проверка-гипотезы-о-равенстве-долей\" data-toc-modified-id=\"A/B---тест.-Проверка-гипотезы-о-равенстве-долей-7.3\"><span class=\"toc-item-num\">7.3&nbsp;&nbsp;</span>A/B - тест. Проверка гипотезы о равенстве долей</a></span><ul class=\"toc-item\"><li><span><a href=\"#A-=-246\" data-toc-modified-id=\"A-=-246-7.3.1\"><span class=\"toc-item-num\">7.3.1&nbsp;&nbsp;</span>A = 246</a></span></li><li><span><a href=\"#A-=-247\" data-toc-modified-id=\"A-=-247-7.3.2\"><span class=\"toc-item-num\">7.3.2&nbsp;&nbsp;</span>A = 247</a></span></li><li><span><a href=\"#A---объединенная-контрольная-группа-246+247\" data-toc-modified-id=\"A---объединенная-контрольная-группа-246+247-7.3.3\"><span class=\"toc-item-num\">7.3.3&nbsp;&nbsp;</span>A - объединенная контрольная группа 246+247</a></span></li><li><span><a href=\"#Комментарий-от-ревьюера-№1\" data-toc-modified-id=\"Комментарий-от-ревьюера-№1-7.3.4\"><span class=\"toc-item-num\">7.3.4&nbsp;&nbsp;</span>Комментарий от ревьюера №1</a></span></li><li><span><a href=\"#Комментарий-от-ревьюера-№2\" data-toc-modified-id=\"Комментарий-от-ревьюера-№2-7.3.5\"><span class=\"toc-item-num\">7.3.5&nbsp;&nbsp;</span>Комментарий от ревьюера №2</a></span></li></ul></li><li><span><a href=\"#Исследование-уровня-значимости\" data-toc-modified-id=\"Исследование-уровня-значимости-7.4\"><span class=\"toc-item-num\">7.4&nbsp;&nbsp;</span>Исследование уровня значимости</a></span><ul class=\"toc-item\"><li><span><a href=\"#Комментарий-от-ревьюера-№1\" data-toc-modified-id=\"Комментарий-от-ревьюера-№1-7.4.1\"><span class=\"toc-item-num\">7.4.1&nbsp;&nbsp;</span>Комментарий от ревьюера №1</a></span></li><li><span><a href=\"#Комментарий-от-ревьюера-№2\" data-toc-modified-id=\"Комментарий-от-ревьюера-№2-7.4.2\"><span class=\"toc-item-num\">7.4.2&nbsp;&nbsp;</span>Комментарий от ревьюера №2</a></span></li></ul></li></ul></li><li><span><a href=\"#Вывод\" data-toc-modified-id=\"Вывод-8\"><span class=\"toc-item-num\">8&nbsp;&nbsp;</span>Вывод</a></span><ul class=\"toc-item\"><li><ul class=\"toc-item\"><li><span><a href=\"#Комментарий-от-ревьюера-№1\" data-toc-modified-id=\"Комментарий-от-ревьюера-№1-8.0.1\"><span class=\"toc-item-num\">8.0.1&nbsp;&nbsp;</span>Комментарий от ревьюера №1</a></span></li><li><span><a href=\"#Комментарий-от-ревьюера-№2\" data-toc-modified-id=\"Комментарий-от-ревьюера-№2-8.0.2\"><span class=\"toc-item-num\">8.0.2&nbsp;&nbsp;</span>Комментарий от ревьюера №2</a></span></li></ul></li></ul></li></ul></div>"
   ]
  },
  {
   "cell_type": "markdown",
   "metadata": {},
   "source": [
    "# Imports"
   ]
  },
  {
   "cell_type": "code",
   "execution_count": 1,
   "metadata": {},
   "outputs": [],
   "source": [
    "import pandas as pd\n",
    "import seaborn as sns\n",
    "import matplotlib.pyplot as plt\n",
    "from plotly import graph_objects as go\n",
    "import numpy as np\n",
    "import warnings\n",
    "from datetime import datetime, date, time\n",
    "from scipy import stats as st\n",
    "import math as mth\n",
    "from scipy.stats import binom\n",
    "\n",
    "warnings.filterwarnings(\"ignore\")"
   ]
  },
  {
   "cell_type": "markdown",
   "metadata": {},
   "source": [
    "# Исследование поведения пользователей мобильного приложения для стартапа, продающего продукты питания."
   ]
  },
  {
   "cell_type": "markdown",
   "metadata": {},
   "source": [
    "## Описание проекта"
   ]
  },
  {
   "cell_type": "markdown",
   "metadata": {},
   "source": [
    "Мы работаем в стартапе, который продаёт продукты питания. Нужно разобраться, как ведут себя пользователи нашего мобильного приложения.\n",
    "\n",
    "__Изучим воронку продаж__. Узнаем, как пользователи доходят до покупки. Сколько пользователей доходит до покупки, а сколько — «застревает» на предыдущих шагах? На каких именно?\n",
    "\n",
    "После этого __исследуем результаты A/A/B-эксперимента__. Дизайнеры захотели поменять шрифты во всём приложении, а менеджеры испугались, что пользователям будет непривычно. Договорились принять решение по результатам A/A/B-теста. Пользователей разбили на 3 группы: 2 контрольные со старыми шрифтами и одну экспериментальную — с новыми. Выясним, какой шрифт лучше.\n",
    "\n",
    "Создание двух групп A вместо одной имеет определённые преимущества. Если две контрольные группы окажутся равны, мы можем быть уверены в точности проведенного тестирования. Если же между значениями A и A будут существенные различия, это поможет обнаружить факторы, которые привели к искажению результатов. Сравнение контрольных групп также помогает понять, сколько времени и данных потребуется для дальнейших тестов.\n",
    "\n",
    "В случае общей аналитики и A/A/B-эксперимента работаем с одними и теми же данными. В реальных проектах всегда идут эксперименты. Аналитики исследуют качество работы приложения по общим данным, не учитывая принадлежность пользователей к экспериментам."
   ]
  },
  {
   "cell_type": "markdown",
   "metadata": {},
   "source": [
    "## Описание данных"
   ]
  },
  {
   "cell_type": "markdown",
   "metadata": {},
   "source": [
    "Каждая запись в логе — это действие пользователя, или событие.\n",
    "- `EventName` — название события;\n",
    "- `DeviceIDHash` — уникальный идентификатор пользователя;\n",
    "- `EventTimestamp` — время события;\n",
    "- `ExpId` — номер эксперимента: __246 и 247 — контрольные группы__, а __248 — экспериментальная__."
   ]
  },
  {
   "cell_type": "markdown",
   "metadata": {},
   "source": [
    "# Загрузка данных"
   ]
  },
  {
   "cell_type": "code",
   "execution_count": 2,
   "metadata": {},
   "outputs": [
    {
     "ename": "FileNotFoundError",
     "evalue": "[Errno 2] File b'datasets/logs_exp.csv' does not exist: b'datasets/logs_exp.csv'",
     "output_type": "error",
     "traceback": [
      "\u001b[0;31m---------------------------------------------------------------------------\u001b[0m",
      "\u001b[0;31mFileNotFoundError\u001b[0m                         Traceback (most recent call last)",
      "\u001b[0;32m<ipython-input-2-8b3b2ece17ab>\u001b[0m in \u001b[0;36m<module>\u001b[0;34m\u001b[0m\n\u001b[0;32m----> 1\u001b[0;31m \u001b[0mdf\u001b[0m \u001b[0;34m=\u001b[0m \u001b[0mpd\u001b[0m\u001b[0;34m.\u001b[0m\u001b[0mread_csv\u001b[0m\u001b[0;34m(\u001b[0m\u001b[0;34m'datasets/logs_exp.csv'\u001b[0m\u001b[0;34m,\u001b[0m\u001b[0;34m'\\t'\u001b[0m\u001b[0;34m)\u001b[0m\u001b[0;34m\u001b[0m\u001b[0;34m\u001b[0m\u001b[0m\n\u001b[0m\u001b[1;32m      2\u001b[0m \u001b[0mdf\u001b[0m\u001b[0;34m\u001b[0m\u001b[0;34m\u001b[0m\u001b[0m\n",
      "\u001b[0;32m/opt/anaconda3/envs/practicum/lib/python3.7/site-packages/pandas/io/parsers.py\u001b[0m in \u001b[0;36mparser_f\u001b[0;34m(filepath_or_buffer, sep, delimiter, header, names, index_col, usecols, squeeze, prefix, mangle_dupe_cols, dtype, engine, converters, true_values, false_values, skipinitialspace, skiprows, skipfooter, nrows, na_values, keep_default_na, na_filter, verbose, skip_blank_lines, parse_dates, infer_datetime_format, keep_date_col, date_parser, dayfirst, cache_dates, iterator, chunksize, compression, thousands, decimal, lineterminator, quotechar, quoting, doublequote, escapechar, comment, encoding, dialect, error_bad_lines, warn_bad_lines, delim_whitespace, low_memory, memory_map, float_precision)\u001b[0m\n\u001b[1;32m    683\u001b[0m         )\n\u001b[1;32m    684\u001b[0m \u001b[0;34m\u001b[0m\u001b[0m\n\u001b[0;32m--> 685\u001b[0;31m         \u001b[0;32mreturn\u001b[0m \u001b[0m_read\u001b[0m\u001b[0;34m(\u001b[0m\u001b[0mfilepath_or_buffer\u001b[0m\u001b[0;34m,\u001b[0m \u001b[0mkwds\u001b[0m\u001b[0;34m)\u001b[0m\u001b[0;34m\u001b[0m\u001b[0;34m\u001b[0m\u001b[0m\n\u001b[0m\u001b[1;32m    686\u001b[0m \u001b[0;34m\u001b[0m\u001b[0m\n\u001b[1;32m    687\u001b[0m     \u001b[0mparser_f\u001b[0m\u001b[0;34m.\u001b[0m\u001b[0m__name__\u001b[0m \u001b[0;34m=\u001b[0m \u001b[0mname\u001b[0m\u001b[0;34m\u001b[0m\u001b[0;34m\u001b[0m\u001b[0m\n",
      "\u001b[0;32m/opt/anaconda3/envs/practicum/lib/python3.7/site-packages/pandas/io/parsers.py\u001b[0m in \u001b[0;36m_read\u001b[0;34m(filepath_or_buffer, kwds)\u001b[0m\n\u001b[1;32m    455\u001b[0m \u001b[0;34m\u001b[0m\u001b[0m\n\u001b[1;32m    456\u001b[0m     \u001b[0;31m# Create the parser.\u001b[0m\u001b[0;34m\u001b[0m\u001b[0;34m\u001b[0m\u001b[0;34m\u001b[0m\u001b[0m\n\u001b[0;32m--> 457\u001b[0;31m     \u001b[0mparser\u001b[0m \u001b[0;34m=\u001b[0m \u001b[0mTextFileReader\u001b[0m\u001b[0;34m(\u001b[0m\u001b[0mfp_or_buf\u001b[0m\u001b[0;34m,\u001b[0m \u001b[0;34m**\u001b[0m\u001b[0mkwds\u001b[0m\u001b[0;34m)\u001b[0m\u001b[0;34m\u001b[0m\u001b[0;34m\u001b[0m\u001b[0m\n\u001b[0m\u001b[1;32m    458\u001b[0m \u001b[0;34m\u001b[0m\u001b[0m\n\u001b[1;32m    459\u001b[0m     \u001b[0;32mif\u001b[0m \u001b[0mchunksize\u001b[0m \u001b[0;32mor\u001b[0m \u001b[0miterator\u001b[0m\u001b[0;34m:\u001b[0m\u001b[0;34m\u001b[0m\u001b[0;34m\u001b[0m\u001b[0m\n",
      "\u001b[0;32m/opt/anaconda3/envs/practicum/lib/python3.7/site-packages/pandas/io/parsers.py\u001b[0m in \u001b[0;36m__init__\u001b[0;34m(self, f, engine, **kwds)\u001b[0m\n\u001b[1;32m    893\u001b[0m             \u001b[0mself\u001b[0m\u001b[0;34m.\u001b[0m\u001b[0moptions\u001b[0m\u001b[0;34m[\u001b[0m\u001b[0;34m\"has_index_names\"\u001b[0m\u001b[0;34m]\u001b[0m \u001b[0;34m=\u001b[0m \u001b[0mkwds\u001b[0m\u001b[0;34m[\u001b[0m\u001b[0;34m\"has_index_names\"\u001b[0m\u001b[0;34m]\u001b[0m\u001b[0;34m\u001b[0m\u001b[0;34m\u001b[0m\u001b[0m\n\u001b[1;32m    894\u001b[0m \u001b[0;34m\u001b[0m\u001b[0m\n\u001b[0;32m--> 895\u001b[0;31m         \u001b[0mself\u001b[0m\u001b[0;34m.\u001b[0m\u001b[0m_make_engine\u001b[0m\u001b[0;34m(\u001b[0m\u001b[0mself\u001b[0m\u001b[0;34m.\u001b[0m\u001b[0mengine\u001b[0m\u001b[0;34m)\u001b[0m\u001b[0;34m\u001b[0m\u001b[0;34m\u001b[0m\u001b[0m\n\u001b[0m\u001b[1;32m    896\u001b[0m \u001b[0;34m\u001b[0m\u001b[0m\n\u001b[1;32m    897\u001b[0m     \u001b[0;32mdef\u001b[0m \u001b[0mclose\u001b[0m\u001b[0;34m(\u001b[0m\u001b[0mself\u001b[0m\u001b[0;34m)\u001b[0m\u001b[0;34m:\u001b[0m\u001b[0;34m\u001b[0m\u001b[0;34m\u001b[0m\u001b[0m\n",
      "\u001b[0;32m/opt/anaconda3/envs/practicum/lib/python3.7/site-packages/pandas/io/parsers.py\u001b[0m in \u001b[0;36m_make_engine\u001b[0;34m(self, engine)\u001b[0m\n\u001b[1;32m   1133\u001b[0m     \u001b[0;32mdef\u001b[0m \u001b[0m_make_engine\u001b[0m\u001b[0;34m(\u001b[0m\u001b[0mself\u001b[0m\u001b[0;34m,\u001b[0m \u001b[0mengine\u001b[0m\u001b[0;34m=\u001b[0m\u001b[0;34m\"c\"\u001b[0m\u001b[0;34m)\u001b[0m\u001b[0;34m:\u001b[0m\u001b[0;34m\u001b[0m\u001b[0;34m\u001b[0m\u001b[0m\n\u001b[1;32m   1134\u001b[0m         \u001b[0;32mif\u001b[0m \u001b[0mengine\u001b[0m \u001b[0;34m==\u001b[0m \u001b[0;34m\"c\"\u001b[0m\u001b[0;34m:\u001b[0m\u001b[0;34m\u001b[0m\u001b[0;34m\u001b[0m\u001b[0m\n\u001b[0;32m-> 1135\u001b[0;31m             \u001b[0mself\u001b[0m\u001b[0;34m.\u001b[0m\u001b[0m_engine\u001b[0m \u001b[0;34m=\u001b[0m \u001b[0mCParserWrapper\u001b[0m\u001b[0;34m(\u001b[0m\u001b[0mself\u001b[0m\u001b[0;34m.\u001b[0m\u001b[0mf\u001b[0m\u001b[0;34m,\u001b[0m \u001b[0;34m**\u001b[0m\u001b[0mself\u001b[0m\u001b[0;34m.\u001b[0m\u001b[0moptions\u001b[0m\u001b[0;34m)\u001b[0m\u001b[0;34m\u001b[0m\u001b[0;34m\u001b[0m\u001b[0m\n\u001b[0m\u001b[1;32m   1136\u001b[0m         \u001b[0;32melse\u001b[0m\u001b[0;34m:\u001b[0m\u001b[0;34m\u001b[0m\u001b[0;34m\u001b[0m\u001b[0m\n\u001b[1;32m   1137\u001b[0m             \u001b[0;32mif\u001b[0m \u001b[0mengine\u001b[0m \u001b[0;34m==\u001b[0m \u001b[0;34m\"python\"\u001b[0m\u001b[0;34m:\u001b[0m\u001b[0;34m\u001b[0m\u001b[0;34m\u001b[0m\u001b[0m\n",
      "\u001b[0;32m/opt/anaconda3/envs/practicum/lib/python3.7/site-packages/pandas/io/parsers.py\u001b[0m in \u001b[0;36m__init__\u001b[0;34m(self, src, **kwds)\u001b[0m\n\u001b[1;32m   1915\u001b[0m         \u001b[0mkwds\u001b[0m\u001b[0;34m[\u001b[0m\u001b[0;34m\"usecols\"\u001b[0m\u001b[0;34m]\u001b[0m \u001b[0;34m=\u001b[0m \u001b[0mself\u001b[0m\u001b[0;34m.\u001b[0m\u001b[0musecols\u001b[0m\u001b[0;34m\u001b[0m\u001b[0;34m\u001b[0m\u001b[0m\n\u001b[1;32m   1916\u001b[0m \u001b[0;34m\u001b[0m\u001b[0m\n\u001b[0;32m-> 1917\u001b[0;31m         \u001b[0mself\u001b[0m\u001b[0;34m.\u001b[0m\u001b[0m_reader\u001b[0m \u001b[0;34m=\u001b[0m \u001b[0mparsers\u001b[0m\u001b[0;34m.\u001b[0m\u001b[0mTextReader\u001b[0m\u001b[0;34m(\u001b[0m\u001b[0msrc\u001b[0m\u001b[0;34m,\u001b[0m \u001b[0;34m**\u001b[0m\u001b[0mkwds\u001b[0m\u001b[0;34m)\u001b[0m\u001b[0;34m\u001b[0m\u001b[0;34m\u001b[0m\u001b[0m\n\u001b[0m\u001b[1;32m   1918\u001b[0m         \u001b[0mself\u001b[0m\u001b[0;34m.\u001b[0m\u001b[0munnamed_cols\u001b[0m \u001b[0;34m=\u001b[0m \u001b[0mself\u001b[0m\u001b[0;34m.\u001b[0m\u001b[0m_reader\u001b[0m\u001b[0;34m.\u001b[0m\u001b[0munnamed_cols\u001b[0m\u001b[0;34m\u001b[0m\u001b[0;34m\u001b[0m\u001b[0m\n\u001b[1;32m   1919\u001b[0m \u001b[0;34m\u001b[0m\u001b[0m\n",
      "\u001b[0;32mpandas/_libs/parsers.pyx\u001b[0m in \u001b[0;36mpandas._libs.parsers.TextReader.__cinit__\u001b[0;34m()\u001b[0m\n",
      "\u001b[0;32mpandas/_libs/parsers.pyx\u001b[0m in \u001b[0;36mpandas._libs.parsers.TextReader._setup_parser_source\u001b[0;34m()\u001b[0m\n",
      "\u001b[0;31mFileNotFoundError\u001b[0m: [Errno 2] File b'datasets/logs_exp.csv' does not exist: b'datasets/logs_exp.csv'"
     ]
    }
   ],
   "source": [
    "df = pd.read_csv('datasets/logs_exp.csv','\\t')\n",
    "df"
   ]
  },
  {
   "cell_type": "code",
   "execution_count": null,
   "metadata": {},
   "outputs": [],
   "source": [
    "df.info()"
   ]
  },
  {
   "cell_type": "code",
   "execution_count": null,
   "metadata": {},
   "outputs": [],
   "source": [
    "df.EventTimestamp.describe()"
   ]
  },
  {
   "cell_type": "code",
   "execution_count": null,
   "metadata": {},
   "outputs": [],
   "source": [
    "2**32>df.EventTimestamp.max()"
   ]
  },
  {
   "cell_type": "markdown",
   "metadata": {},
   "source": [
    "Значит, можно тут обойтись типом `uint32`"
   ]
  },
  {
   "cell_type": "code",
   "execution_count": null,
   "metadata": {},
   "outputs": [],
   "source": [
    "df.duplicated().sum()"
   ]
  },
  {
   "cell_type": "code",
   "execution_count": null,
   "metadata": {},
   "outputs": [],
   "source": [
    "df[df.duplicated(keep=False)]"
   ]
  },
  {
   "cell_type": "code",
   "execution_count": null,
   "metadata": {},
   "outputs": [],
   "source": [
    "df.duplicated().sum()"
   ]
  },
  {
   "cell_type": "markdown",
   "metadata": {},
   "source": [
    "У нас 413 дубликатов. Нужно будет их почистить"
   ]
  },
  {
   "cell_type": "code",
   "execution_count": null,
   "metadata": {},
   "outputs": [],
   "source": [
    "df.EventName.value_counts()"
   ]
  },
  {
   "cell_type": "markdown",
   "metadata": {},
   "source": [
    "Видим, что события бывают 5 типов"
   ]
  },
  {
   "cell_type": "code",
   "execution_count": null,
   "metadata": {},
   "outputs": [],
   "source": [
    "df.ExpId.value_counts()"
   ]
  },
  {
   "cell_type": "markdown",
   "metadata": {},
   "source": [
    "Группы разного размера, но порядок один, примерно 80 тысяч. На таких больших выборках - это ок."
   ]
  },
  {
   "cell_type": "code",
   "execution_count": null,
   "metadata": {},
   "outputs": [],
   "source": [
    "len(df.DeviceIDHash.unique())"
   ]
  },
  {
   "cell_type": "markdown",
   "metadata": {},
   "source": [
    "7551 уникальный пользователь участвуют в исследовании"
   ]
  },
  {
   "cell_type": "markdown",
   "metadata": {},
   "source": [
    "## Вывод по загрузке"
   ]
  },
  {
   "cell_type": "markdown",
   "metadata": {},
   "source": [
    "- 244126 строк, 4 столбца. Пропущенных значений нет\n",
    "- Обнаружено 413 дубликатов строк\n",
    "- Лучше избавиться от заглавных букв в названиях столбцов и дописать нижние подчеркивания\n",
    "- Столбец с юниксовскими датами можно конвертировать в uint32 для экономии памяти"
   ]
  },
  {
   "cell_type": "markdown",
   "metadata": {},
   "source": [
    "# Подготовка данных"
   ]
  },
  {
   "cell_type": "markdown",
   "metadata": {},
   "source": [
    "## Названия столбцов"
   ]
  },
  {
   "cell_type": "code",
   "execution_count": null,
   "metadata": {
    "scrolled": true
   },
   "outputs": [],
   "source": [
    "df.columns = ['event_name', 'user_id', 'unix_timestamp', 'group_id']\n",
    "df"
   ]
  },
  {
   "cell_type": "markdown",
   "metadata": {},
   "source": [
    "## Чистим от дубликатов"
   ]
  },
  {
   "cell_type": "code",
   "execution_count": null,
   "metadata": {
    "scrolled": true
   },
   "outputs": [],
   "source": [
    "df = df.drop_duplicates().reset_index(drop=True)\n",
    "df"
   ]
  },
  {
   "cell_type": "markdown",
   "metadata": {},
   "source": [
    "## Конвертируем юниксовские даты"
   ]
  },
  {
   "cell_type": "code",
   "execution_count": null,
   "metadata": {},
   "outputs": [],
   "source": [
    "df.info()"
   ]
  },
  {
   "cell_type": "code",
   "execution_count": null,
   "metadata": {},
   "outputs": [],
   "source": [
    "df['unix_timestamp'] = df['unix_timestamp'].astype('uint32')\n",
    "df.info()"
   ]
  },
  {
   "cell_type": "markdown",
   "metadata": {},
   "source": [
    "Видим, что мы сэкономили примерно 1 мб памяти"
   ]
  },
  {
   "cell_type": "markdown",
   "metadata": {},
   "source": [
    "## Столбец с датой-временем и столбец с датой"
   ]
  },
  {
   "cell_type": "code",
   "execution_count": null,
   "metadata": {},
   "outputs": [],
   "source": [
    "df['date_time'] = pd.to_datetime(df['unix_timestamp'], unit='s')\n",
    "df['date'] = df['date_time'].dt.date\n",
    "df"
   ]
  },
  {
   "cell_type": "markdown",
   "metadata": {},
   "source": [
    "## Вывод по подготовке данных"
   ]
  },
  {
   "cell_type": "markdown",
   "metadata": {},
   "source": [
    "Выполнили все действия, заявленные в конце раздела \"Загрузка данных\", а также добавили два новых столбца с датой-временем и датой.\n",
    "\n"
   ]
  },
  {
   "cell_type": "markdown",
   "metadata": {},
   "source": [
    "# Анализ данных"
   ]
  },
  {
   "cell_type": "markdown",
   "metadata": {},
   "source": [
    "## Количество событий"
   ]
  },
  {
   "cell_type": "code",
   "execution_count": null,
   "metadata": {},
   "outputs": [],
   "source": [
    "len(df)"
   ]
  },
  {
   "cell_type": "markdown",
   "metadata": {},
   "source": [
    "После удаления дубликатов у нас осталось __243713 строк__."
   ]
  },
  {
   "cell_type": "markdown",
   "metadata": {},
   "source": [
    "## Количество пользователей"
   ]
  },
  {
   "cell_type": "code",
   "execution_count": null,
   "metadata": {},
   "outputs": [],
   "source": [
    "total_users = len(df.user_id.unique())\n",
    "print(total_users)"
   ]
  },
  {
   "cell_type": "markdown",
   "metadata": {},
   "source": [
    "У нас __7551 уникальный пользователь__"
   ]
  },
  {
   "cell_type": "markdown",
   "metadata": {},
   "source": [
    "## Среднее количество событий на пользователя"
   ]
  },
  {
   "cell_type": "code",
   "execution_count": null,
   "metadata": {},
   "outputs": [],
   "source": [
    "sns.set_style('darkgrid')\n",
    "events_per_user = df.groupby('user_id')['event_name'].count()\n",
    "sns.boxplot(events_per_user)\n",
    "plt.title('Количество событий на пользователя')\n",
    "plt.xlim(0,200)\n",
    "plt.xlabel('Количество событий')\n",
    "plt.show()"
   ]
  },
  {
   "cell_type": "code",
   "execution_count": null,
   "metadata": {},
   "outputs": [],
   "source": [
    "sns.distplot(events_per_user, kde=False, bins=100)\n",
    "plt.title('Количество событий на пользователя')\n",
    "plt.xlim(0,200)\n",
    "plt.xlabel('Количество событий')\n",
    "plt.show()"
   ]
  },
  {
   "cell_type": "code",
   "execution_count": null,
   "metadata": {},
   "outputs": [],
   "source": [
    "events_per_user.describe()"
   ]
  },
  {
   "cell_type": "markdown",
   "metadata": {},
   "source": [
    "Мы видим, что распределения количества событий на пользователя очень несимметрично и положительно скошено, очень много выбросов."
   ]
  },
  {
   "cell_type": "code",
   "execution_count": null,
   "metadata": {},
   "outputs": [],
   "source": [
    "events_per_user.mode()"
   ]
  },
  {
   "cell_type": "markdown",
   "metadata": {},
   "source": [
    "__Самое частое для количества событий на пользователя значение - 5, медиана - 20__, при этом средние 50% значений между 9 и 37. Заметим, что арифмитическое среднее тут 32, но оно плохо характеризуют данные в целом из-за скошенности."
   ]
  },
  {
   "cell_type": "markdown",
   "metadata": {},
   "source": [
    "## Старые и новые данные"
   ]
  },
  {
   "cell_type": "code",
   "execution_count": null,
   "metadata": {},
   "outputs": [],
   "source": [
    "min_time = df['date_time'].min()\n",
    "max_time = df['date_time'].max()\n",
    "print(f'Первое событие в системе имеет дату {min_time}')\n",
    "print(f'Последнее событие в системе имеет дату {max_time}')"
   ]
  },
  {
   "cell_type": "markdown",
   "metadata": {},
   "source": [
    "Посмотрим на распределение дат:"
   ]
  },
  {
   "cell_type": "code",
   "execution_count": null,
   "metadata": {},
   "outputs": [],
   "source": [
    "dates = df['date'].unique()\n",
    "plt.hist(df['date_time'], bins=13)\n",
    "plt.xticks(dates, rotation=45)\n",
    "plt.title('Гистограма распределения событий по датам')\n",
    "plt.xlabel('Даты событий')\n",
    "plt.ylabel('Плотность событий')\n",
    "plt.show()"
   ]
  },
  {
   "cell_type": "markdown",
   "metadata": {},
   "source": [
    "Видим, что реально плотность появляется лишь __начиная с 1 августа__. Изучим более детально 31 июля и 1 августа, что понять когда точно начался тест."
   ]
  },
  {
   "cell_type": "code",
   "execution_count": null,
   "metadata": {
    "scrolled": true
   },
   "outputs": [],
   "source": [
    "df.query('datetime(2019, 7, 31, 0, 0)<=date_time< datetime(2019, 8, 2, 0, 0)')['date_time'].hist(bins=48)\n",
    "plt.xticks(rotation=45)\n",
    "plt.show()"
   ]
  },
  {
   "cell_type": "markdown",
   "metadata": {},
   "source": [
    "Из графика следует, что __тест начался именно в 00:00 01 августа__."
   ]
  },
  {
   "cell_type": "code",
   "execution_count": null,
   "metadata": {
    "scrolled": true
   },
   "outputs": [],
   "source": [
    "len(df.query('date_time < datetime(2019, 8, 1, 0, 0)'))/len(df)*100"
   ]
  },
  {
   "cell_type": "markdown",
   "metadata": {},
   "source": [
    "Теперь разберемся __сколько пользователей реально потеряли__:"
   ]
  },
  {
   "cell_type": "code",
   "execution_count": null,
   "metadata": {},
   "outputs": [],
   "source": [
    "users_lost = []\n",
    "for user in df.query('date_time < datetime(2019, 8, 1, 0, 0)')['user_id'].unique():\n",
    "    if user not in df.query('date_time >= datetime(2019, 8, 1, 0, 0)')['user_id'].unique():\n",
    "        users_lost.append(user)\n",
    "print(f'Число потерянных пользователей {len(users_lost)}')        "
   ]
  },
  {
   "cell_type": "code",
   "execution_count": null,
   "metadata": {},
   "outputs": [],
   "source": [
    "len(users_lost)/total_users * 100"
   ]
  },
  {
   "cell_type": "code",
   "execution_count": null,
   "metadata": {},
   "outputs": [],
   "source": [
    "df.query('date_time < datetime(2019, 8, 1, 0, 0)')['user_id'].nunique()/df['user_id'].nunique() * 100"
   ]
  },
  {
   "cell_type": "markdown",
   "metadata": {},
   "source": [
    "Действительно, речь идет об __1.16% данных__ и о __0.2%__ пользователей. Можем их отбросить. Скорее всего это \"хвост\" из прошлого. __Реальный период, таким образом, начинается только с августа__, т.е. у нас данные за первую неделю августа."
   ]
  },
  {
   "cell_type": "code",
   "execution_count": null,
   "metadata": {},
   "outputs": [],
   "source": [
    "df = df.query('date_time >= datetime(2019, 8, 1, 0, 0)')\n",
    "df"
   ]
  },
  {
   "cell_type": "markdown",
   "metadata": {},
   "source": [
    "## Проверка групп пользователей "
   ]
  },
  {
   "cell_type": "code",
   "execution_count": null,
   "metadata": {},
   "outputs": [],
   "source": [
    "group_users_unique = df.groupby('group_id')['user_id'].agg(['nunique', 'count'])\n",
    "group_users_unique.columns = ['users_total', 'total_events']\n",
    "group_users_unique"
   ]
  },
  {
   "cell_type": "markdown",
   "metadata": {},
   "source": [
    "Есть некоторые расхождения в количестве событий в группах, но порядок примерно 80 тысяч. Все ок. Тоже самое по количеству уникальных пользователей."
   ]
  },
  {
   "cell_type": "markdown",
   "metadata": {},
   "source": [
    "## Вывод по анализу данных"
   ]
  },
  {
   "cell_type": "markdown",
   "metadata": {},
   "source": [
    "- Всего у нас 7551 пользователей\n",
    "\n",
    "- Медиана количества действий на пользователя равна 20. Мы выбрали медиану, так как данные сильно положительно скошены.\n",
    "\n",
    "- Мы обнаружили небольшой (1.16%) хвост данных, которые видимо доехали из прошлого. Реальное исследование началось 1 августа в 00:00.\n",
    "\n",
    "- Отбросив этот хвост, мы потеряли данные о 17 пользователях, что составляет 0.2% от всех уникальных пользователей.\n",
    "\n"
   ]
  },
  {
   "cell_type": "markdown",
   "metadata": {},
   "source": [
    "# Исследование воронки событий"
   ]
  },
  {
   "cell_type": "markdown",
   "metadata": {},
   "source": [
    "## Типы событий"
   ]
  },
  {
   "cell_type": "code",
   "execution_count": null,
   "metadata": {},
   "outputs": [],
   "source": [
    "sns.set_style('whitegrid')\n",
    "events_count = df['event_name'].value_counts()\n",
    "ax=sns.barplot(y=events_count.index, x=events_count, orient='h')\n",
    "total=events_count.sum()\n",
    "for p in ax.patches:\n",
    "    width = p.get_width()\n",
    "    plt.text(p.get_width()+5500., p.get_y()+0.6*p.get_height(),\n",
    "             '{:1.1%}'.format(width/total),\n",
    "             ha='center', va='center')\n",
    "plt.title('Количество событий по типам события')\n",
    "plt.xlabel('Количество событий')\n",
    "plt.grid(axis='x', linestyle='--')\n",
    "sns.despine(left=True, bottom=True)\n",
    "plt.show()"
   ]
  },
  {
   "cell_type": "markdown",
   "metadata": {},
   "source": [
    "Видим, что у нас 5 типов событий, причем из них Tutorial, т.е. обучение имеет долю в всего лишь 0.4%."
   ]
  },
  {
   "cell_type": "markdown",
   "metadata": {},
   "source": [
    "## Количество пользователей по событиям"
   ]
  },
  {
   "cell_type": "code",
   "execution_count": null,
   "metadata": {},
   "outputs": [],
   "source": [
    "events_users_count = df.groupby('event_name').agg({'user_id':'nunique'})\\\n",
    ".sort_values(by='user_id',ascending=False)\n",
    "\n",
    "events_users_count['%_of_all_users'] = events_users_count['user_id'] / total_users *100\n",
    "display(events_users_count.round(1))\n",
    "\n",
    "ax=sns.barplot(y=events_users_count.index, x=events_users_count['user_id'], orient='h')\n",
    "\n",
    "\n",
    "for p in ax.patches:\n",
    "    width = p.get_width()\n",
    "    plt.text(p.get_width()+400., p.get_y()+0.6*p.get_height(),\n",
    "             '{:.1%}'.format(width/total_users),\n",
    "             ha='center', va='center')\n",
    "    \n",
    "plt.title('Количество пользователей по типам события и доля от всех пользователей')\n",
    "plt.xlabel('Количество пользователей')\n",
    "plt.grid(axis='x', linestyle='--')\n",
    "sns.despine(left=True, bottom=True)\n",
    "plt.show()\n"
   ]
  },
  {
   "cell_type": "markdown",
   "metadata": {},
   "source": [
    "Почти все пользователи (98.5%) зашли на главный экран, а далее их число стало убывать. Обучение начали проходить лишь 11.1% пользователей. \n",
    "\n",
    "Почему же лишь 98.5% зашли на главный экран, куда делись 1,5%? Возможно, что они теряются на этапе начального обучения? Или не регистрируются в приложении, если там нужна регистрация для использования. Но скорее эта связано с тем, что ты была отброшена часть событий, которые были в июле, а там пользователи как раз проходили первый этап воронки. А уже в августе у них были новые этапы. Поэтому они считаются в униках, но их нет на первом этапе."
   ]
  },
  {
   "cell_type": "markdown",
   "metadata": {},
   "source": [
    "## Порядок событий"
   ]
  },
  {
   "cell_type": "markdown",
   "metadata": {},
   "source": [
    "Скорее всего порядок следования событий такой:\n",
    "\n",
    "1. Посещение главного экрана\n",
    "2. Посещение экрана с предложеними\n",
    "3. Посещение корзины\n",
    "4. Экран удачной оплаты\n",
    "\n",
    "Что касается экрана обучения, то его можно пропустить, а потому не нужно учитывать при построении воронки."
   ]
  },
  {
   "cell_type": "markdown",
   "metadata": {},
   "source": [
    "## Воронка"
   ]
  },
  {
   "cell_type": "code",
   "execution_count": null,
   "metadata": {},
   "outputs": [],
   "source": [
    "fig = go.Figure(go.Funnel(\n",
    "    #y = [\"Посетителей\",\"Добавили товар в корзину\", \"Начали оформлять заказ\", \"Оплатили\"],\n",
    "    y = events_users_count.index[:4],\n",
    "    x = events_users_count.iloc[:4]['user_id'],\n",
    "    textposition = \"inside\",\n",
    "    textinfo = \"value + percent initial + percent previous\",\n",
    "    opacity = 0.9, marker = {\"color\": [\"deepskyblue\", \"lightsalmon\", \"teal\", \"silver\"],\n",
    "    \"line\": {\"width\": [4, 2, 2, 3, 1, 1], \"color\": [\"wheat\", \"wheat\", \"wheat\", \"wheat\"]}},\n",
    "    connector = {\"line\": {\"color\": \"wheat\", \"dash\": \"dot\", \"width\": 3}},\n",
    "    hoverinfo = 'skip',\n",
    "    #name = 'Воронка событий'\n",
    "    )\n",
    "    )\n",
    "fig.update_layout(\n",
    "    title=\"Воронка событий, количество пользователей\"\n",
    "    #xaxis_title=\"X Axis Title\",\n",
    "    #yaxis_title=\"Y Axis Title\",\n",
    "    #legend_title=\"Legend Title\",\n",
    "    #font=dict(\n",
    "        #family=\"Courier New, monospace\",\n",
    "        #size=18,\n",
    "        #color=\"RebeccaPurple\"\n",
    "    )\n",
    "\n",
    "fig.show()"
   ]
  },
  {
   "cell_type": "markdown",
   "metadata": {},
   "source": [
    "По воронке ясно, что 62% пользователей, перешедших на главный экран, доходят до экрана преложений, из них, 81% доходят до корзины, а затем 95% успешно оплачивают покупку.\n",
    "\n",
    "Таким образом, __больше всего пользователей теряется при переходе с главного экрана на экран предложений__.\n",
    "\n",
    "__До оплаты доходят 48% пользователей__."
   ]
  },
  {
   "cell_type": "markdown",
   "metadata": {},
   "source": [
    "# A/A/B-тест"
   ]
  },
  {
   "cell_type": "markdown",
   "metadata": {},
   "source": [
    "## Количество пользователей в группах"
   ]
  },
  {
   "cell_type": "code",
   "execution_count": null,
   "metadata": {},
   "outputs": [],
   "source": [
    "group_users_unique['users_total']"
   ]
  },
  {
   "cell_type": "markdown",
   "metadata": {},
   "source": [
    "##  A/A-тест. Проверка гипотезы о равных долях"
   ]
  },
  {
   "cell_type": "code",
   "execution_count": null,
   "metadata": {},
   "outputs": [],
   "source": [
    "ALPHA = .05 #Уровень значимости наших тестов"
   ]
  },
  {
   "cell_type": "code",
   "execution_count": null,
   "metadata": {
    "scrolled": false
   },
   "outputs": [],
   "source": [
    "event_user_count_groups = df.groupby(['event_name', 'group_id']).agg({'user_id':'nunique'}).reset_index()\n",
    "event_user_count_groups = event_user_count_groups.join(group_users_unique['users_total'], on='group_id')\n",
    "event_user_count_groups = event_user_count_groups.rename(columns={'users_total':'group_total'})\n",
    "event_user_count_groups\n",
    "#event_user_count_groups['share'] = event_user_count_groups['user_id']/"
   ]
  },
  {
   "cell_type": "code",
   "execution_count": null,
   "metadata": {},
   "outputs": [],
   "source": [
    "def test_share_eq (event_name, group_id_1, group_id_2):\n",
    "    # Функция проводит z-test для равенства долей события в двух группах\n",
    "    # На вход получает название события и два id групп\n",
    "    #print('Тест на равенство долей')\n",
    "    print(f'Нулевая гипотеза: доли события {event_name} равны в группах {group_id_1}, {group_id_2}')\n",
    "    print('Альтернативная гипотеза: доли неравны')\n",
    "    print('Уровень значимости:', ALPHA)\n",
    "    print(' ')\n",
    "    data = event_user_count_groups.query('event_name == @event_name')\n",
    "    data_1 = data.query('group_id == @group_id_1').reset_index()\n",
    "    data_2 = data.query('group_id == @group_id_2').reset_index()\n",
    "    #print(data_1)\n",
    "    #print(data_2)\n",
    "\n",
    "    # пропорция успехов в первой группе:\n",
    "    p1 = data_1['user_id']/ data_1['group_total']\n",
    "    p1 = p1[0]\n",
    "    print('Доля первой группы:', p1)\n",
    "\n",
    "    # пропорция успехов во второй группе:\n",
    "    p2 = data_2['user_id']/ data_2['group_total']\n",
    "    p2 = p2[0]\n",
    "    print('Доля второй группы:', p2)\n",
    "\n",
    "    # пропорция успехов в комбинированном датасете:\n",
    "    p_combined = (data_1['user_id']+ data_2['user_id']) / (data_1['group_total']+ data_2['group_total'])\n",
    "    p_combined = p_combined[0]\n",
    "    print('Общая доля:', p_combined)\n",
    "    print(' ')\n",
    "    # разница пропорций в датасетах\n",
    "    difference = p1 - p2\n",
    "    \n",
    "    z_value = difference / mth.sqrt(p_combined * (1 - p_combined) * (1/data_1['group_total'][0] + 1/data_2['group_total'][0]))\n",
    "\n",
    "    # задаем стандартное нормальное распределение (среднее 0, ст.отклонение 1)\n",
    "    distr = st.norm(0, 1) \n",
    "\n",
    "    p_value = (1 - distr.cdf(abs(z_value))) * 2\n",
    "\n",
    "    print('p-значение: ', p_value)\n",
    "\n",
    "    if (p_value < ALPHA):\n",
    "        print(\"Отвергаем нулевую гипотезу: между долями есть значимая разница\")\n",
    "    else:\n",
    "        print(\"Не получилось отвергнуть нулевую гипотезу, нет оснований считать доли разными\")\n",
    "    print(' ')\n",
    "    print('--------------------------------------------------------------')\n",
    "    print(' ')\n"
   ]
  },
  {
   "cell_type": "code",
   "execution_count": null,
   "metadata": {},
   "outputs": [],
   "source": [
    "events_list = events_users_count.index"
   ]
  },
  {
   "cell_type": "code",
   "execution_count": null,
   "metadata": {},
   "outputs": [],
   "source": [
    "test_counter = 0\n",
    "for event in events_list:\n",
    "    test_share_eq(event, 246, 247)\n",
    "    test_counter+=1"
   ]
  },
  {
   "cell_type": "markdown",
   "metadata": {},
   "source": [
    "Из полученных результатов следует, что группы выбраны вполне удачно, т.к. __A/A-тест везде ожидаемо не смог опровергнуть равенство долей__."
   ]
  },
  {
   "cell_type": "markdown",
   "metadata": {},
   "source": [
    "## A/B - тест. Проверка гипотезы о равенстве долей"
   ]
  },
  {
   "cell_type": "markdown",
   "metadata": {},
   "source": [
    "### A = 246"
   ]
  },
  {
   "cell_type": "markdown",
   "metadata": {},
   "source": [
    "Для начала сравним группы 246 и 248"
   ]
  },
  {
   "cell_type": "code",
   "execution_count": null,
   "metadata": {},
   "outputs": [],
   "source": [
    "for event in events_list:\n",
    "    test_share_eq(event, 246, 248)\n",
    "    test_counter+=1"
   ]
  },
  {
   "cell_type": "markdown",
   "metadata": {},
   "source": [
    "Можно заметить, что для события CartScreenAppear p-значение чуть меньше 0.08, т.е. при уровне значимсти 8% мы бы отвергнули гипотезу о равенстве."
   ]
  },
  {
   "cell_type": "markdown",
   "metadata": {},
   "source": [
    "### A = 247"
   ]
  },
  {
   "cell_type": "markdown",
   "metadata": {},
   "source": [
    "Тоже самое для групп 247 и 248."
   ]
  },
  {
   "cell_type": "code",
   "execution_count": null,
   "metadata": {},
   "outputs": [],
   "source": [
    "for event in events_list:\n",
    "    test_share_eq(event, 247, 248)\n",
    "    test_counter+=1"
   ]
  },
  {
   "cell_type": "markdown",
   "metadata": {},
   "source": [
    "Для 247 группы p-значения еще выше, а значит нигде нет повода отвергнуть нуль-гипотезу о равенстве долей событий."
   ]
  },
  {
   "cell_type": "markdown",
   "metadata": {},
   "source": [
    "### A - объединенная контрольная группа 246+247"
   ]
  },
  {
   "cell_type": "code",
   "execution_count": null,
   "metadata": {},
   "outputs": [],
   "source": [
    "\n",
    "\n",
    "def test_share_eq_pool(event_name):\n",
    "    # Функция проводит z-test для равенства долей события в двух группах\n",
    "    # На вход получает название события\n",
    "    #print('Тест на равенство долей')\n",
    "    print(f'Нулевая гипотеза: доли события {event_name} равны в группах 246+247 и 248')\n",
    "    print('Альтернативная гипотеза: доли неравны')\n",
    "    print('Уровень значимости:', ALPHA)\n",
    "    print(' ')\n",
    "    data = event_user_count_groups.query('event_name == @event_name')\n",
    "    data_1 = data.query('group_id == 246 or group_id == 247').reset_index()\n",
    "    data_2 = data.query('group_id == 248').reset_index()\n",
    "    #print(data_1)\n",
    "    #print(data_2)\n",
    "\n",
    "    # пропорция успехов в первой группе:\n",
    "    p1 = data_1['user_id']/ data_1['group_total']\n",
    "    p1 = p1[0]\n",
    "    print('Доля первой группы:', p1)\n",
    "\n",
    "    # пропорция успехов во второй группе:\n",
    "    p2 = data_2['user_id']/ data_2['group_total']\n",
    "    p2 = p2[0]\n",
    "    print('Доля второй группы:', p2)\n",
    "\n",
    "    # пропорция успехов в комбинированном датасете:\n",
    "    p_combined = (data_1['user_id']+ data_2['user_id']) / (data_1['group_total']+ data_2['group_total'])\n",
    "    p_combined = p_combined[0]\n",
    "    print('Общая доля:', p_combined)\n",
    "    print(' ')\n",
    "    # разница пропорций в датасетах\n",
    "    difference = p1 - p2\n",
    "    \n",
    "    z_value = difference / mth.sqrt(p_combined * (1 - p_combined) * (1/data_1['group_total'][0] + 1/data_2['group_total'][0]))\n",
    "\n",
    "    # задаем стандартное нормальное распределение (среднее 0, ст.отклонение 1)\n",
    "    distr = st.norm(0, 1) \n",
    "\n",
    "    p_value = (1 - distr.cdf(abs(z_value))) * 2\n",
    "\n",
    "    print('p-значение: ', p_value)\n",
    "\n",
    "    if (p_value < ALPHA):\n",
    "        print(\"Отвергаем нулевую гипотезу: между долями есть значимая разница\")\n",
    "    else:\n",
    "        print(\"Не получилось отвергнуть нулевую гипотезу, нет оснований считать доли разными\")\n",
    "    print(' ')\n",
    "    print('--------------------------------------------------------------')\n",
    "    print(' ')\n"
   ]
  },
  {
   "cell_type": "code",
   "execution_count": null,
   "metadata": {},
   "outputs": [],
   "source": [
    "for event in events_list:\n",
    "    test_share_eq_pool(event)\n",
    "    test_counter+=1"
   ]
  },
  {
   "cell_type": "markdown",
   "metadata": {},
   "source": [
    "Сравнивая объединенную контрольную группу 246+247 с группой 248, которой были предложены другие шрифты мы видим, что 5% уровень значимости __нигде не позволил отвергнуть гипотезу о равенстве долей__.\n",
    "\n",
    "Для события \"Появление Экрана с Корзиной\" p-значение около 0.078 позволило бы отвергнуть гипотезу при уровне значимости выше, чем 8%. Но такой уровень значимости увеличил бы вероятность ошибки первого рода в каждом тесте."
   ]
  },
  {
   "cell_type": "markdown",
   "metadata": {},
   "source": [
    "## Исследование уровня значимости"
   ]
  },
  {
   "cell_type": "code",
   "execution_count": null,
   "metadata": {},
   "outputs": [],
   "source": [
    "test_counter"
   ]
  },
  {
   "cell_type": "code",
   "execution_count": null,
   "metadata": {},
   "outputs": [],
   "source": [
    "ALPHA"
   ]
  },
  {
   "cell_type": "markdown",
   "metadata": {},
   "source": [
    "Мы сделали 20 проверок гипотезы о равенстве долей для различных событий и групп c уровнем значимости 5%. При этом мы ни разу не отвергли нулевую гипотезу. Вероятность такого исхода при условии, что нулевая гипотеза везде верна:"
   ]
  },
  {
   "cell_type": "code",
   "execution_count": null,
   "metadata": {},
   "outputs": [],
   "source": [
    "binom.pmf(0, test_counter, ALPHA)"
   ]
  },
  {
   "cell_type": "markdown",
   "metadata": {},
   "source": [
    "Это означает, что если бы мы проделали наш тест (из 20 повторений) еще много раз, то только в 36 случаях из ста не получили бы ни одного ложнопозитивного результата, при условии, что нулевая гипотеза верна.\n",
    "\n",
    "p-значения показывают, что мы могли бы получить позитивные результаты в некоторых тестах при уровне значимости не менее 8%. Но принятие такого уровня значимости увеличит и вероятность коллективной ошибки первого рода:"
   ]
  },
  {
   "cell_type": "code",
   "execution_count": null,
   "metadata": {},
   "outputs": [],
   "source": [
    "1-binom.cdf(0, test_counter, 0.08)"
   ]
  },
  {
   "cell_type": "markdown",
   "metadata": {},
   "source": [
    "Т.е. мы бы с вероятностью 81% где-то получили хоть одно ложное отклонение нуль-гипотезы, а значит у нас было бы мало доверия к полученным одиночным позитивным результатам. "
   ]
  },
  {
   "cell_type": "markdown",
   "metadata": {},
   "source": [
    "На основании всего выше изложенного, можно заключить, что уровень значимости выбран корректно и менять его не стоит."
   ]
  },
  {
   "cell_type": "markdown",
   "metadata": {},
   "source": [
    "# Вывод"
   ]
  },
  {
   "cell_type": "markdown",
   "metadata": {},
   "source": [
    "- Первичный анализ данных показал наличие 413 дубликатов строк, которые мы благополучно удалили. \n",
    "\n",
    "- Также был обнаружен феномен просачивания старых данных в наше исследование. Мы отсекли этот хвост, длина которого составляла 1.16% данных. При этом потеряли 17 уникальных пользователей (0.2% от общего количества). Реальные данные для данного исследования начинаются с 1 августа 00:00.\n",
    "\n",
    "- Медианное среднее количество событий на пользователя оказалось равно __20__.\n",
    "\n",
    "- Построили __воронку событий__, которая позволила определить потери пользователей в цепочке главный экран - экран продаж - корзина - покупка. \n",
    "\n",
    "- Фирме стоит обратить внимание на переход пользователей __с основного экрана на экран с оферами__, т.к. на этом этапе __теряется 38% пользователей__.\n",
    "\n",
    "- По итогам A/A/B-теста с 5% уровнем значимости, мы можем заключить, что доля пользователей на всех экранах не изменилась при переходе на новый шрифт, т.е. он __не оказал никакого значительного влияния на поведение пользователей__.\n",
    "\n",
    "\n"
   ]
  }
 ],
 "metadata": {
  "kernelspec": {
   "display_name": "Python 3",
   "language": "python",
   "name": "python3"
  },
  "language_info": {
   "codemirror_mode": {
    "name": "ipython",
    "version": 3
   },
   "file_extension": ".py",
   "mimetype": "text/x-python",
   "name": "python",
   "nbconvert_exporter": "python",
   "pygments_lexer": "ipython3",
   "version": "3.7.8"
  },
  "toc": {
   "base_numbering": 1,
   "nav_menu": {},
   "number_sections": true,
   "sideBar": true,
   "skip_h1_title": false,
   "title_cell": "Table of Contents",
   "title_sidebar": "Contents",
   "toc_cell": true,
   "toc_position": {},
   "toc_section_display": true,
   "toc_window_display": true
  }
 },
 "nbformat": 4,
 "nbformat_minor": 2
}
