{
 "cells": [
  {
   "cell_type": "markdown",
   "metadata": {
    "toc": true
   },
   "source": [
    "<h1>Table of Contents<span class=\"tocSkip\"></span></h1>\n",
    "<div class=\"toc\"><ul class=\"toc-item\"><li><span><a href=\"#Определение-перспективного-тарифа-для-телеком-компании\" data-toc-modified-id=\"Определение-перспективного-тарифа-для-телеком-компании-1\"><span class=\"toc-item-num\">1&nbsp;&nbsp;</span>Определение перспективного тарифа для телеком компании</a></span></li><li><span><a href=\"#Вводные\" data-toc-modified-id=\"Вводные-2\"><span class=\"toc-item-num\">2&nbsp;&nbsp;</span>Вводные</a></span><ul class=\"toc-item\"><li><span><a href=\"#Описание-проекта\" data-toc-modified-id=\"Описание-проекта-2.1\"><span class=\"toc-item-num\">2.1&nbsp;&nbsp;</span>Описание проекта</a></span><ul class=\"toc-item\"><li><span><a href=\"#Таблица-users-(информация-о-пользователях):\" data-toc-modified-id=\"Таблица-users-(информация-о-пользователях):-2.1.1\"><span class=\"toc-item-num\">2.1.1&nbsp;&nbsp;</span>Таблица users (информация о пользователях):</a></span></li><li><span><a href=\"#Таблица-calls-(информация-о-звонках):\" data-toc-modified-id=\"Таблица-calls-(информация-о-звонках):-2.1.2\"><span class=\"toc-item-num\">2.1.2&nbsp;&nbsp;</span>Таблица calls (информация о звонках):</a></span></li><li><span><a href=\"#Таблица-messages-(информация-о-сообщениях):\" data-toc-modified-id=\"Таблица-messages-(информация-о-сообщениях):-2.1.3\"><span class=\"toc-item-num\">2.1.3&nbsp;&nbsp;</span>Таблица messages (информация о сообщениях):</a></span></li><li><span><a href=\"#Таблица-internet-(информация-об-интернет-сессиях):\" data-toc-modified-id=\"Таблица-internet-(информация-об-интернет-сессиях):-2.1.4\"><span class=\"toc-item-num\">2.1.4&nbsp;&nbsp;</span>Таблица internet (информация об интернет-сессиях):</a></span></li><li><span><a href=\"#Таблица-tariffs-(информация-о-тарифах):\" data-toc-modified-id=\"Таблица-tariffs-(информация-о-тарифах):-2.1.5\"><span class=\"toc-item-num\">2.1.5&nbsp;&nbsp;</span>Таблица tariffs (информация о тарифах):</a></span></li></ul></li></ul></li><li><span><a href=\"#Imports\" data-toc-modified-id=\"Imports-3\"><span class=\"toc-item-num\">3&nbsp;&nbsp;</span>Imports</a></span></li><li><span><a href=\"#Шаг-1.-Загружаем-данные\" data-toc-modified-id=\"Шаг-1.-Загружаем-данные-4\"><span class=\"toc-item-num\">4&nbsp;&nbsp;</span>Шаг 1. Загружаем данные</a></span><ul class=\"toc-item\"><li><span><a href=\"#Вывод\" data-toc-modified-id=\"Вывод-4.1\"><span class=\"toc-item-num\">4.1&nbsp;&nbsp;</span>Вывод</a></span></li></ul></li><li><span><a href=\"#Шаг-2.-Предобработка-данных\" data-toc-modified-id=\"Шаг-2.-Предобработка-данных-5\"><span class=\"toc-item-num\">5&nbsp;&nbsp;</span>Шаг 2. Предобработка данных</a></span><ul class=\"toc-item\"><li><span><a href=\"#Пропуски\" data-toc-modified-id=\"Пропуски-5.1\"><span class=\"toc-item-num\">5.1&nbsp;&nbsp;</span>Пропуски</a></span></li><li><span><a href=\"#Удаление-лишних-столбцов\" data-toc-modified-id=\"Удаление-лишних-столбцов-5.2\"><span class=\"toc-item-num\">5.2&nbsp;&nbsp;</span>Удаление лишних столбцов</a></span></li><li><span><a href=\"#Конвертируем-даты-в-формат-datetime64\" data-toc-modified-id=\"Конвертируем-даты-в-формат-datetime64-5.3\"><span class=\"toc-item-num\">5.3&nbsp;&nbsp;</span>Конвертируем даты в формат <code>datetime64</code></a></span></li><li><span><a href=\"#Дубликаты\" data-toc-modified-id=\"Дубликаты-5.4\"><span class=\"toc-item-num\">5.4&nbsp;&nbsp;</span>Дубликаты</a></span></li><li><span><a href=\"#Исправляем-user_id---А-надо-ли?\" data-toc-modified-id=\"Исправляем-user_id---А-надо-ли?-5.5\"><span class=\"toc-item-num\">5.5&nbsp;&nbsp;</span>Исправляем user_id - А надо ли?</a></span></li><li><span><a href=\"#Ищем-и-исправляем-другие-ошибки-в-данных.\" data-toc-modified-id=\"Ищем-и-исправляем-другие-ошибки-в-данных.-5.6\"><span class=\"toc-item-num\">5.6&nbsp;&nbsp;</span>Ищем и исправляем другие ошибки в данных.</a></span><ul class=\"toc-item\"><li><span><a href=\"#Users\" data-toc-modified-id=\"Users-5.6.1\"><span class=\"toc-item-num\">5.6.1&nbsp;&nbsp;</span>Users</a></span></li><li><span><a href=\"#Calls\" data-toc-modified-id=\"Calls-5.6.2\"><span class=\"toc-item-num\">5.6.2&nbsp;&nbsp;</span>Calls</a></span></li><li><span><a href=\"#Messages\" data-toc-modified-id=\"Messages-5.6.3\"><span class=\"toc-item-num\">5.6.3&nbsp;&nbsp;</span>Messages</a></span></li><li><span><a href=\"#Internet\" data-toc-modified-id=\"Internet-5.6.4\"><span class=\"toc-item-num\">5.6.4&nbsp;&nbsp;</span>Internet</a></span></li></ul></li><li><span><a href=\"#Вычисления-основных-параметров-для-каждого-абонента\" data-toc-modified-id=\"Вычисления-основных-параметров-для-каждого-абонента-5.7\"><span class=\"toc-item-num\">5.7&nbsp;&nbsp;</span>Вычисления основных параметров для каждого абонента</a></span><ul class=\"toc-item\"><li><span><a href=\"#Количество-сделанных-звонков-и-минуты-разговора-по-месяцам.\" data-toc-modified-id=\"Количество-сделанных-звонков-и-минуты-разговора-по-месяцам.-5.7.1\"><span class=\"toc-item-num\">5.7.1&nbsp;&nbsp;</span>Количество сделанных звонков и минуты разговора по месяцам.</a></span></li><li><span><a href=\"#Количество-SMS\" data-toc-modified-id=\"Количество-SMS-5.7.2\"><span class=\"toc-item-num\">5.7.2&nbsp;&nbsp;</span>Количество SMS</a></span></li><li><span><a href=\"#Трафик,-мб\" data-toc-modified-id=\"Трафик,-мб-5.7.3\"><span class=\"toc-item-num\">5.7.3&nbsp;&nbsp;</span>Трафик, мб</a></span></li><li><span><a href=\"#Выручка\" data-toc-modified-id=\"Выручка-5.7.4\"><span class=\"toc-item-num\">5.7.4&nbsp;&nbsp;</span>Выручка</a></span></li></ul></li><li><span><a href=\"#Вывод\" data-toc-modified-id=\"Вывод-5.8\"><span class=\"toc-item-num\">5.8&nbsp;&nbsp;</span>Вывод</a></span></li></ul></li><li><span><a href=\"#Шаг-3.-Анализируем-полученные-данные.\" data-toc-modified-id=\"Шаг-3.-Анализируем-полученные-данные.-6\"><span class=\"toc-item-num\">6&nbsp;&nbsp;</span>Шаг 3. Анализируем полученные данные.</a></span><ul class=\"toc-item\"><li><span><a href=\"#Средние-по-больнице-тарифам.\" data-toc-modified-id=\"Средние-по-больнице-тарифам.-6.1\"><span class=\"toc-item-num\">6.1&nbsp;&nbsp;</span>Средние по <del>больнице</del> тарифам.</a></span><ul class=\"toc-item\"><li><span><a href=\"#Минуты\" data-toc-modified-id=\"Минуты-6.1.1\"><span class=\"toc-item-num\">6.1.1&nbsp;&nbsp;</span>Минуты</a></span></li><li><span><a href=\"#SMS\" data-toc-modified-id=\"SMS-6.1.2\"><span class=\"toc-item-num\">6.1.2&nbsp;&nbsp;</span>SMS</a></span></li><li><span><a href=\"#Трафик\" data-toc-modified-id=\"Трафик-6.1.3\"><span class=\"toc-item-num\">6.1.3&nbsp;&nbsp;</span>Трафик</a></span></li></ul></li><li><span><a href=\"#Вывод\" data-toc-modified-id=\"Вывод-6.2\"><span class=\"toc-item-num\">6.2&nbsp;&nbsp;</span>Вывод</a></span></li></ul></li><li><span><a href=\"#Шаг-4.-Проверка-гипотез\" data-toc-modified-id=\"Шаг-4.-Проверка-гипотез-7\"><span class=\"toc-item-num\">7&nbsp;&nbsp;</span>Шаг 4. Проверка гипотез</a></span><ul class=\"toc-item\"><li><span><a href=\"#Гипотеза-о-средней-выручке-в-тарифах-Smart-и-Ultra\" data-toc-modified-id=\"Гипотеза-о-средней-выручке-в-тарифах-Smart-и-Ultra-7.1\"><span class=\"toc-item-num\">7.1&nbsp;&nbsp;</span>Гипотеза о средней выручке в тарифах Smart и Ultra</a></span></li><li><span><a href=\"#Гипотеза-о-Москвичах\" data-toc-modified-id=\"Гипотеза-о-Москвичах-7.2\"><span class=\"toc-item-num\">7.2&nbsp;&nbsp;</span>Гипотеза о Москвичах</a></span></li></ul></li><li><span><a href=\"#Общий-вывод\" data-toc-modified-id=\"Общий-вывод-8\"><span class=\"toc-item-num\">8&nbsp;&nbsp;</span>Общий вывод</a></span></li></ul></div>"
   ]
  },
  {
   "cell_type": "markdown",
   "metadata": {
    "id": "nXmoIbb0TdfL"
   },
   "source": [
    "# Определение перспективного тарифа для телеком компании\n",
    "\n",
    "# Вводные"
   ]
  },
  {
   "cell_type": "markdown",
   "metadata": {
    "id": "K-Yf6ORsy58f"
   },
   "source": [
    "## Описание проекта\n",
    "\n",
    "Итак, мы аналитики компании «Мегалайн» — федерального оператора сотовой связи. Клиентам предлагают **два тарифных плана: «Смарт» и «Ультра».** Чтобы скорректировать рекламный бюджет, коммерческий департамент хочет понять, какой тариф приносит больше денег.\n",
    "\n",
    "Нам предстоит сделать предварительный анализ тарифов на небольшой выборке клиентов. В вашем распоряжении данные **500** пользователей «Мегалайна»: кто они, откуда, каким тарифом пользуются, сколько звонков и сообщений каждый отправил за 2018 год. **Нужно проанализировать поведение клиентов и сделать вывод — какой тариф лучше.**"
   ]
  },
  {
   "cell_type": "markdown",
   "metadata": {
    "id": "sFk1DZppzqZx"
   },
   "source": [
    "## Описание тарифов\n",
    "\n",
    "### Тариф «Смарт»\n",
    "1. Ежемесячная плата: 550 рублей\n",
    "2. Включено 500 минут разговора, 50 сообщений и 15 Гб интернет-трафика\n",
    "3. Стоимость услуг сверх тарифного пакета:\n",
    ">- минута разговора: 3 рубля\n",
    ">- сообщение: 3 рубля\n",
    ">- 1 Гб интернет-трафика: 200 рублей\n",
    "\n",
    "### Тариф «Ультра»\n",
    "1. Ежемесячная плата: 1950 рублей\n",
    "2. Включено 3000 минут разговора, 1000 сообщений и 30 Гб интернет-трафика\n",
    "3. Стоимость услуг сверх тарифного пакета:\n",
    ">- минута разговора: 1 рубль\n",
    ">- сообщение: 1 рубль\n",
    ">- 1 Гб интернет-трафика: 150 рублей\n",
    "\n",
    "**Обратите внимание**: «Мегалайн» всегда округляет вверх значения минут и мегабайтов. Если пользователь проговорил всего 1 секунду, в тарифе засчитывается целая минута."
   ]
  },
  {
   "cell_type": "markdown",
   "metadata": {
    "id": "8YAq8wJS1Oqq"
   },
   "source": [
    "## Описание данных\n",
    "\n",
    "### Таблица users (информация о пользователях):\n",
    "- `user_id` — уникальный идентификатор пользователя\n",
    "- `first_name` — имя пользователя\n",
    "- `last_name` — фамилия пользователя\n",
    "- `age` — возраст пользователя (годы)\n",
    "- `reg_date` — дата подключения тарифа (день, месяц, год)\n",
    "- `churn_date` — дата прекращения пользования тарифом (если значение пропущено, то тариф ещё действовал на момент выгрузки данных)\n",
    "- `cit` — город проживания пользователя\n",
    "- `tariff` — название тарифного плана\n",
    "\n",
    "### Таблица calls (информация о звонках):\n",
    "- `id` — уникальный номер звонка\n",
    "- `call_date` — дата звонка\n",
    "- `duration` — длительность звонка в минутах\n",
    "- `user_id` — идентификатор пользователя, сделавшего звонок\n",
    "\n",
    "### Таблица messages (информация о сообщениях):\n",
    "- `id` — уникальный номер сообщения\n",
    "- `message_date` — дата сообщения\n",
    "- `user_id` — идентификатор пользователя, отправившего сообщение\n",
    "\n",
    "### Таблица internet (информация об интернет-сессиях):\n",
    "- `id` — уникальный номер сессии\n",
    "- `mb_used` — объём потраченного за сессию интернет-трафика (в мегабайтах)\n",
    "- `session_date` — дата интернет-сессии\n",
    "- `user_id` — идентификатор пользователя\n",
    "\n",
    "### Таблица tariffs (информация о тарифах):\n",
    "- `tariff_name` — название тарифа\n",
    "- `rub_monthly_fee` — ежемесячная абонентская плата в рублях\n",
    "- `minutes_included` — количество минут разговора в месяц, включённых в абонентскую плату\n",
    "- `messages_included` — количество сообщений в месяц, включённых в абонентскую плату\n",
    "- `mb_per_month_included` — объём интернет-трафика, включённого в абонентскую плату (в мегабайтах)\n",
    "- `rub_per_minute` — стоимость минуты разговора сверх тарифного пакета (например, если в тарифе 100 минут разговора в месяц, то со 101 минуты будет взиматься плата)\n",
    "- `rub_per_message` — стоимость отправки сообщения сверх тарифного пакета\n",
    "- `rub_per_gb` — стоимость дополнительного гигабайта интернет-трафика сверх тарифного пакета (1 гигабайт = 1024 мегабайта)\n",
    "\n",
    "**Примечание.** Если объединение таблиц методом merge приводит к ошибке dead kernell, примените метод join — это облегчит нагрузку на Jupyter Notebook."
   ]
  },
  {
   "cell_type": "markdown",
   "metadata": {
    "id": "xAXobTau2sbE"
   },
   "source": [
    "# Imports"
   ]
  },
  {
   "cell_type": "code",
   "execution_count": 1,
   "metadata": {
    "executionInfo": {
     "elapsed": 8556,
     "status": "ok",
     "timestamp": 1602256744793,
     "user": {
      "displayName": "Eugene Puninskiy",
      "photoUrl": "https://lh3.googleusercontent.com/a-/AOh14Gg7VvTZjgiAHFG2tTBqY9aSHC2Bal55-nPnXXzzL-c=s64",
      "userId": "07244295768072477419"
     },
     "user_tz": -180
    },
    "id": "YBaKKFw4xKyS"
   },
   "outputs": [],
   "source": [
    "import pandas as pd\n",
    "import numpy as np\n",
    "import matplotlib.pyplot as plt\n",
    "from scipy import stats as st"
   ]
  },
  {
   "cell_type": "markdown",
   "metadata": {
    "id": "5K1F1Jun3NiO"
   },
   "source": [
    "# Шаг 1. Загружаем данные"
   ]
  },
  {
   "cell_type": "markdown",
   "metadata": {
    "id": "6dhxcRjaPI7u"
   },
   "source": [
    "В цикле загрузим необходимые данные и посмотрим на первые и последние строки и на общую инфу:"
   ]
  },
  {
   "cell_type": "code",
   "execution_count": 3,
   "metadata": {
    "colab": {
     "base_uri": "https://localhost:8080/",
     "height": 1000
    },
    "executionInfo": {
     "elapsed": 9321,
     "status": "ok",
     "timestamp": 1602256745693,
     "user": {
      "displayName": "Eugene Puninskiy",
      "photoUrl": "https://lh3.googleusercontent.com/a-/AOh14Gg7VvTZjgiAHFG2tTBqY9aSHC2Bal55-nPnXXzzL-c=s64",
      "userId": "07244295768072477419"
     },
     "user_tz": -180
    },
    "id": "wJP7bD8Y4H8i",
    "outputId": "c8f57318-0d0a-4aa8-8d2a-78c67c3f12f6"
   },
   "outputs": [
    {
     "name": "stdout",
     "output_type": "stream",
     "text": [
      "Таблица users\n"
     ]
    },
    {
     "data": {
      "text/html": [
       "<div>\n",
       "<style scoped>\n",
       "    .dataframe tbody tr th:only-of-type {\n",
       "        vertical-align: middle;\n",
       "    }\n",
       "\n",
       "    .dataframe tbody tr th {\n",
       "        vertical-align: top;\n",
       "    }\n",
       "\n",
       "    .dataframe thead th {\n",
       "        text-align: right;\n",
       "    }\n",
       "</style>\n",
       "<table border=\"1\" class=\"dataframe\">\n",
       "  <thead>\n",
       "    <tr style=\"text-align: right;\">\n",
       "      <th></th>\n",
       "      <th>user_id</th>\n",
       "      <th>age</th>\n",
       "      <th>churn_date</th>\n",
       "      <th>city</th>\n",
       "      <th>first_name</th>\n",
       "      <th>last_name</th>\n",
       "      <th>reg_date</th>\n",
       "      <th>tariff</th>\n",
       "    </tr>\n",
       "  </thead>\n",
       "  <tbody>\n",
       "    <tr>\n",
       "      <td>0</td>\n",
       "      <td>1000</td>\n",
       "      <td>52</td>\n",
       "      <td>NaN</td>\n",
       "      <td>Краснодар</td>\n",
       "      <td>Рафаил</td>\n",
       "      <td>Верещагин</td>\n",
       "      <td>2018-05-25</td>\n",
       "      <td>ultra</td>\n",
       "    </tr>\n",
       "    <tr>\n",
       "      <td>1</td>\n",
       "      <td>1001</td>\n",
       "      <td>41</td>\n",
       "      <td>NaN</td>\n",
       "      <td>Москва</td>\n",
       "      <td>Иван</td>\n",
       "      <td>Ежов</td>\n",
       "      <td>2018-11-01</td>\n",
       "      <td>smart</td>\n",
       "    </tr>\n",
       "    <tr>\n",
       "      <td>2</td>\n",
       "      <td>1002</td>\n",
       "      <td>59</td>\n",
       "      <td>NaN</td>\n",
       "      <td>Стерлитамак</td>\n",
       "      <td>Евгений</td>\n",
       "      <td>Абрамович</td>\n",
       "      <td>2018-06-17</td>\n",
       "      <td>smart</td>\n",
       "    </tr>\n",
       "    <tr>\n",
       "      <td>3</td>\n",
       "      <td>1003</td>\n",
       "      <td>23</td>\n",
       "      <td>NaN</td>\n",
       "      <td>Москва</td>\n",
       "      <td>Белла</td>\n",
       "      <td>Белякова</td>\n",
       "      <td>2018-08-17</td>\n",
       "      <td>ultra</td>\n",
       "    </tr>\n",
       "    <tr>\n",
       "      <td>4</td>\n",
       "      <td>1004</td>\n",
       "      <td>68</td>\n",
       "      <td>NaN</td>\n",
       "      <td>Новокузнецк</td>\n",
       "      <td>Татьяна</td>\n",
       "      <td>Авдеенко</td>\n",
       "      <td>2018-05-14</td>\n",
       "      <td>ultra</td>\n",
       "    </tr>\n",
       "  </tbody>\n",
       "</table>\n",
       "</div>"
      ],
      "text/plain": [
       "   user_id  age churn_date         city first_name  last_name    reg_date  \\\n",
       "0     1000   52        NaN    Краснодар     Рафаил  Верещагин  2018-05-25   \n",
       "1     1001   41        NaN       Москва       Иван       Ежов  2018-11-01   \n",
       "2     1002   59        NaN  Стерлитамак    Евгений  Абрамович  2018-06-17   \n",
       "3     1003   23        NaN       Москва      Белла   Белякова  2018-08-17   \n",
       "4     1004   68        NaN  Новокузнецк    Татьяна   Авдеенко  2018-05-14   \n",
       "\n",
       "  tariff  \n",
       "0  ultra  \n",
       "1  smart  \n",
       "2  smart  \n",
       "3  ultra  \n",
       "4  ultra  "
      ]
     },
     "metadata": {},
     "output_type": "display_data"
    },
    {
     "data": {
      "text/html": [
       "<div>\n",
       "<style scoped>\n",
       "    .dataframe tbody tr th:only-of-type {\n",
       "        vertical-align: middle;\n",
       "    }\n",
       "\n",
       "    .dataframe tbody tr th {\n",
       "        vertical-align: top;\n",
       "    }\n",
       "\n",
       "    .dataframe thead th {\n",
       "        text-align: right;\n",
       "    }\n",
       "</style>\n",
       "<table border=\"1\" class=\"dataframe\">\n",
       "  <thead>\n",
       "    <tr style=\"text-align: right;\">\n",
       "      <th></th>\n",
       "      <th>user_id</th>\n",
       "      <th>age</th>\n",
       "      <th>churn_date</th>\n",
       "      <th>city</th>\n",
       "      <th>first_name</th>\n",
       "      <th>last_name</th>\n",
       "      <th>reg_date</th>\n",
       "      <th>tariff</th>\n",
       "    </tr>\n",
       "  </thead>\n",
       "  <tbody>\n",
       "    <tr>\n",
       "      <td>495</td>\n",
       "      <td>1495</td>\n",
       "      <td>65</td>\n",
       "      <td>NaN</td>\n",
       "      <td>Иркутск</td>\n",
       "      <td>Авксентий</td>\n",
       "      <td>Фокин</td>\n",
       "      <td>2018-08-28</td>\n",
       "      <td>ultra</td>\n",
       "    </tr>\n",
       "    <tr>\n",
       "      <td>496</td>\n",
       "      <td>1496</td>\n",
       "      <td>36</td>\n",
       "      <td>NaN</td>\n",
       "      <td>Вологда</td>\n",
       "      <td>Трифон</td>\n",
       "      <td>Блохин</td>\n",
       "      <td>2018-01-27</td>\n",
       "      <td>smart</td>\n",
       "    </tr>\n",
       "    <tr>\n",
       "      <td>497</td>\n",
       "      <td>1497</td>\n",
       "      <td>32</td>\n",
       "      <td>NaN</td>\n",
       "      <td>Челябинск</td>\n",
       "      <td>Каролина</td>\n",
       "      <td>Агеева</td>\n",
       "      <td>2018-10-09</td>\n",
       "      <td>smart</td>\n",
       "    </tr>\n",
       "    <tr>\n",
       "      <td>498</td>\n",
       "      <td>1498</td>\n",
       "      <td>68</td>\n",
       "      <td>2018-10-25</td>\n",
       "      <td>Владикавказ</td>\n",
       "      <td>Всеволод</td>\n",
       "      <td>Акимчин</td>\n",
       "      <td>2018-07-19</td>\n",
       "      <td>smart</td>\n",
       "    </tr>\n",
       "    <tr>\n",
       "      <td>499</td>\n",
       "      <td>1499</td>\n",
       "      <td>35</td>\n",
       "      <td>NaN</td>\n",
       "      <td>Пермь</td>\n",
       "      <td>Гектор</td>\n",
       "      <td>Корнилов</td>\n",
       "      <td>2018-09-27</td>\n",
       "      <td>smart</td>\n",
       "    </tr>\n",
       "  </tbody>\n",
       "</table>\n",
       "</div>"
      ],
      "text/plain": [
       "     user_id  age  churn_date         city first_name last_name    reg_date  \\\n",
       "495     1495   65         NaN      Иркутск  Авксентий     Фокин  2018-08-28   \n",
       "496     1496   36         NaN      Вологда     Трифон    Блохин  2018-01-27   \n",
       "497     1497   32         NaN    Челябинск   Каролина    Агеева  2018-10-09   \n",
       "498     1498   68  2018-10-25  Владикавказ   Всеволод   Акимчин  2018-07-19   \n",
       "499     1499   35         NaN        Пермь     Гектор  Корнилов  2018-09-27   \n",
       "\n",
       "    tariff  \n",
       "495  ultra  \n",
       "496  smart  \n",
       "497  smart  \n",
       "498  smart  \n",
       "499  smart  "
      ]
     },
     "metadata": {},
     "output_type": "display_data"
    },
    {
     "name": "stdout",
     "output_type": "stream",
     "text": [
      " \n",
      "<class 'pandas.core.frame.DataFrame'>\n",
      "RangeIndex: 500 entries, 0 to 499\n",
      "Data columns (total 8 columns):\n",
      "user_id       500 non-null int64\n",
      "age           500 non-null int64\n",
      "churn_date    38 non-null object\n",
      "city          500 non-null object\n",
      "first_name    500 non-null object\n",
      "last_name     500 non-null object\n",
      "reg_date      500 non-null object\n",
      "tariff        500 non-null object\n",
      "dtypes: int64(2), object(6)\n",
      "memory usage: 31.4+ KB\n",
      " \n",
      "Таблица calls\n"
     ]
    },
    {
     "data": {
      "text/html": [
       "<div>\n",
       "<style scoped>\n",
       "    .dataframe tbody tr th:only-of-type {\n",
       "        vertical-align: middle;\n",
       "    }\n",
       "\n",
       "    .dataframe tbody tr th {\n",
       "        vertical-align: top;\n",
       "    }\n",
       "\n",
       "    .dataframe thead th {\n",
       "        text-align: right;\n",
       "    }\n",
       "</style>\n",
       "<table border=\"1\" class=\"dataframe\">\n",
       "  <thead>\n",
       "    <tr style=\"text-align: right;\">\n",
       "      <th></th>\n",
       "      <th>id</th>\n",
       "      <th>call_date</th>\n",
       "      <th>duration</th>\n",
       "      <th>user_id</th>\n",
       "    </tr>\n",
       "  </thead>\n",
       "  <tbody>\n",
       "    <tr>\n",
       "      <td>0</td>\n",
       "      <td>1000_0</td>\n",
       "      <td>2018-07-25</td>\n",
       "      <td>0.00</td>\n",
       "      <td>1000</td>\n",
       "    </tr>\n",
       "    <tr>\n",
       "      <td>1</td>\n",
       "      <td>1000_1</td>\n",
       "      <td>2018-08-17</td>\n",
       "      <td>0.00</td>\n",
       "      <td>1000</td>\n",
       "    </tr>\n",
       "    <tr>\n",
       "      <td>2</td>\n",
       "      <td>1000_2</td>\n",
       "      <td>2018-06-11</td>\n",
       "      <td>2.85</td>\n",
       "      <td>1000</td>\n",
       "    </tr>\n",
       "    <tr>\n",
       "      <td>3</td>\n",
       "      <td>1000_3</td>\n",
       "      <td>2018-09-21</td>\n",
       "      <td>13.80</td>\n",
       "      <td>1000</td>\n",
       "    </tr>\n",
       "    <tr>\n",
       "      <td>4</td>\n",
       "      <td>1000_4</td>\n",
       "      <td>2018-12-15</td>\n",
       "      <td>5.18</td>\n",
       "      <td>1000</td>\n",
       "    </tr>\n",
       "  </tbody>\n",
       "</table>\n",
       "</div>"
      ],
      "text/plain": [
       "       id   call_date  duration  user_id\n",
       "0  1000_0  2018-07-25      0.00     1000\n",
       "1  1000_1  2018-08-17      0.00     1000\n",
       "2  1000_2  2018-06-11      2.85     1000\n",
       "3  1000_3  2018-09-21     13.80     1000\n",
       "4  1000_4  2018-12-15      5.18     1000"
      ]
     },
     "metadata": {},
     "output_type": "display_data"
    },
    {
     "data": {
      "text/html": [
       "<div>\n",
       "<style scoped>\n",
       "    .dataframe tbody tr th:only-of-type {\n",
       "        vertical-align: middle;\n",
       "    }\n",
       "\n",
       "    .dataframe tbody tr th {\n",
       "        vertical-align: top;\n",
       "    }\n",
       "\n",
       "    .dataframe thead th {\n",
       "        text-align: right;\n",
       "    }\n",
       "</style>\n",
       "<table border=\"1\" class=\"dataframe\">\n",
       "  <thead>\n",
       "    <tr style=\"text-align: right;\">\n",
       "      <th></th>\n",
       "      <th>id</th>\n",
       "      <th>call_date</th>\n",
       "      <th>duration</th>\n",
       "      <th>user_id</th>\n",
       "    </tr>\n",
       "  </thead>\n",
       "  <tbody>\n",
       "    <tr>\n",
       "      <td>202602</td>\n",
       "      <td>1499_215</td>\n",
       "      <td>2018-12-26</td>\n",
       "      <td>0.76</td>\n",
       "      <td>1499</td>\n",
       "    </tr>\n",
       "    <tr>\n",
       "      <td>202603</td>\n",
       "      <td>1499_216</td>\n",
       "      <td>2018-10-18</td>\n",
       "      <td>18.83</td>\n",
       "      <td>1499</td>\n",
       "    </tr>\n",
       "    <tr>\n",
       "      <td>202604</td>\n",
       "      <td>1499_217</td>\n",
       "      <td>2018-11-10</td>\n",
       "      <td>10.81</td>\n",
       "      <td>1499</td>\n",
       "    </tr>\n",
       "    <tr>\n",
       "      <td>202605</td>\n",
       "      <td>1499_218</td>\n",
       "      <td>2018-10-06</td>\n",
       "      <td>4.27</td>\n",
       "      <td>1499</td>\n",
       "    </tr>\n",
       "    <tr>\n",
       "      <td>202606</td>\n",
       "      <td>1499_219</td>\n",
       "      <td>2018-12-14</td>\n",
       "      <td>19.62</td>\n",
       "      <td>1499</td>\n",
       "    </tr>\n",
       "  </tbody>\n",
       "</table>\n",
       "</div>"
      ],
      "text/plain": [
       "              id   call_date  duration  user_id\n",
       "202602  1499_215  2018-12-26      0.76     1499\n",
       "202603  1499_216  2018-10-18     18.83     1499\n",
       "202604  1499_217  2018-11-10     10.81     1499\n",
       "202605  1499_218  2018-10-06      4.27     1499\n",
       "202606  1499_219  2018-12-14     19.62     1499"
      ]
     },
     "metadata": {},
     "output_type": "display_data"
    },
    {
     "name": "stdout",
     "output_type": "stream",
     "text": [
      " \n",
      "<class 'pandas.core.frame.DataFrame'>\n",
      "RangeIndex: 202607 entries, 0 to 202606\n",
      "Data columns (total 4 columns):\n",
      "id           202607 non-null object\n",
      "call_date    202607 non-null object\n",
      "duration     202607 non-null float64\n",
      "user_id      202607 non-null int64\n",
      "dtypes: float64(1), int64(1), object(2)\n",
      "memory usage: 6.2+ MB\n",
      " \n",
      "Таблица messages\n"
     ]
    },
    {
     "data": {
      "text/html": [
       "<div>\n",
       "<style scoped>\n",
       "    .dataframe tbody tr th:only-of-type {\n",
       "        vertical-align: middle;\n",
       "    }\n",
       "\n",
       "    .dataframe tbody tr th {\n",
       "        vertical-align: top;\n",
       "    }\n",
       "\n",
       "    .dataframe thead th {\n",
       "        text-align: right;\n",
       "    }\n",
       "</style>\n",
       "<table border=\"1\" class=\"dataframe\">\n",
       "  <thead>\n",
       "    <tr style=\"text-align: right;\">\n",
       "      <th></th>\n",
       "      <th>id</th>\n",
       "      <th>message_date</th>\n",
       "      <th>user_id</th>\n",
       "    </tr>\n",
       "  </thead>\n",
       "  <tbody>\n",
       "    <tr>\n",
       "      <td>0</td>\n",
       "      <td>1000_0</td>\n",
       "      <td>2018-06-27</td>\n",
       "      <td>1000</td>\n",
       "    </tr>\n",
       "    <tr>\n",
       "      <td>1</td>\n",
       "      <td>1000_1</td>\n",
       "      <td>2018-10-08</td>\n",
       "      <td>1000</td>\n",
       "    </tr>\n",
       "    <tr>\n",
       "      <td>2</td>\n",
       "      <td>1000_2</td>\n",
       "      <td>2018-08-04</td>\n",
       "      <td>1000</td>\n",
       "    </tr>\n",
       "    <tr>\n",
       "      <td>3</td>\n",
       "      <td>1000_3</td>\n",
       "      <td>2018-06-16</td>\n",
       "      <td>1000</td>\n",
       "    </tr>\n",
       "    <tr>\n",
       "      <td>4</td>\n",
       "      <td>1000_4</td>\n",
       "      <td>2018-12-05</td>\n",
       "      <td>1000</td>\n",
       "    </tr>\n",
       "  </tbody>\n",
       "</table>\n",
       "</div>"
      ],
      "text/plain": [
       "       id message_date  user_id\n",
       "0  1000_0   2018-06-27     1000\n",
       "1  1000_1   2018-10-08     1000\n",
       "2  1000_2   2018-08-04     1000\n",
       "3  1000_3   2018-06-16     1000\n",
       "4  1000_4   2018-12-05     1000"
      ]
     },
     "metadata": {},
     "output_type": "display_data"
    },
    {
     "data": {
      "text/html": [
       "<div>\n",
       "<style scoped>\n",
       "    .dataframe tbody tr th:only-of-type {\n",
       "        vertical-align: middle;\n",
       "    }\n",
       "\n",
       "    .dataframe tbody tr th {\n",
       "        vertical-align: top;\n",
       "    }\n",
       "\n",
       "    .dataframe thead th {\n",
       "        text-align: right;\n",
       "    }\n",
       "</style>\n",
       "<table border=\"1\" class=\"dataframe\">\n",
       "  <thead>\n",
       "    <tr style=\"text-align: right;\">\n",
       "      <th></th>\n",
       "      <th>id</th>\n",
       "      <th>message_date</th>\n",
       "      <th>user_id</th>\n",
       "    </tr>\n",
       "  </thead>\n",
       "  <tbody>\n",
       "    <tr>\n",
       "      <td>123031</td>\n",
       "      <td>1499_179</td>\n",
       "      <td>2018-12-12</td>\n",
       "      <td>1499</td>\n",
       "    </tr>\n",
       "    <tr>\n",
       "      <td>123032</td>\n",
       "      <td>1499_180</td>\n",
       "      <td>2018-09-28</td>\n",
       "      <td>1499</td>\n",
       "    </tr>\n",
       "    <tr>\n",
       "      <td>123033</td>\n",
       "      <td>1499_181</td>\n",
       "      <td>2018-09-27</td>\n",
       "      <td>1499</td>\n",
       "    </tr>\n",
       "    <tr>\n",
       "      <td>123034</td>\n",
       "      <td>1499_182</td>\n",
       "      <td>2018-11-15</td>\n",
       "      <td>1499</td>\n",
       "    </tr>\n",
       "    <tr>\n",
       "      <td>123035</td>\n",
       "      <td>1499_183</td>\n",
       "      <td>2018-11-16</td>\n",
       "      <td>1499</td>\n",
       "    </tr>\n",
       "  </tbody>\n",
       "</table>\n",
       "</div>"
      ],
      "text/plain": [
       "              id message_date  user_id\n",
       "123031  1499_179   2018-12-12     1499\n",
       "123032  1499_180   2018-09-28     1499\n",
       "123033  1499_181   2018-09-27     1499\n",
       "123034  1499_182   2018-11-15     1499\n",
       "123035  1499_183   2018-11-16     1499"
      ]
     },
     "metadata": {},
     "output_type": "display_data"
    },
    {
     "name": "stdout",
     "output_type": "stream",
     "text": [
      " \n",
      "<class 'pandas.core.frame.DataFrame'>\n",
      "RangeIndex: 123036 entries, 0 to 123035\n",
      "Data columns (total 3 columns):\n",
      "id              123036 non-null object\n",
      "message_date    123036 non-null object\n",
      "user_id         123036 non-null int64\n",
      "dtypes: int64(1), object(2)\n",
      "memory usage: 2.8+ MB\n",
      " \n",
      "Таблица internet\n"
     ]
    },
    {
     "data": {
      "text/html": [
       "<div>\n",
       "<style scoped>\n",
       "    .dataframe tbody tr th:only-of-type {\n",
       "        vertical-align: middle;\n",
       "    }\n",
       "\n",
       "    .dataframe tbody tr th {\n",
       "        vertical-align: top;\n",
       "    }\n",
       "\n",
       "    .dataframe thead th {\n",
       "        text-align: right;\n",
       "    }\n",
       "</style>\n",
       "<table border=\"1\" class=\"dataframe\">\n",
       "  <thead>\n",
       "    <tr style=\"text-align: right;\">\n",
       "      <th></th>\n",
       "      <th>Unnamed: 0</th>\n",
       "      <th>id</th>\n",
       "      <th>mb_used</th>\n",
       "      <th>session_date</th>\n",
       "      <th>user_id</th>\n",
       "    </tr>\n",
       "  </thead>\n",
       "  <tbody>\n",
       "    <tr>\n",
       "      <td>0</td>\n",
       "      <td>0</td>\n",
       "      <td>1000_0</td>\n",
       "      <td>112.95</td>\n",
       "      <td>2018-11-25</td>\n",
       "      <td>1000</td>\n",
       "    </tr>\n",
       "    <tr>\n",
       "      <td>1</td>\n",
       "      <td>1</td>\n",
       "      <td>1000_1</td>\n",
       "      <td>1052.81</td>\n",
       "      <td>2018-09-07</td>\n",
       "      <td>1000</td>\n",
       "    </tr>\n",
       "    <tr>\n",
       "      <td>2</td>\n",
       "      <td>2</td>\n",
       "      <td>1000_2</td>\n",
       "      <td>1197.26</td>\n",
       "      <td>2018-06-25</td>\n",
       "      <td>1000</td>\n",
       "    </tr>\n",
       "    <tr>\n",
       "      <td>3</td>\n",
       "      <td>3</td>\n",
       "      <td>1000_3</td>\n",
       "      <td>550.27</td>\n",
       "      <td>2018-08-22</td>\n",
       "      <td>1000</td>\n",
       "    </tr>\n",
       "    <tr>\n",
       "      <td>4</td>\n",
       "      <td>4</td>\n",
       "      <td>1000_4</td>\n",
       "      <td>302.56</td>\n",
       "      <td>2018-09-24</td>\n",
       "      <td>1000</td>\n",
       "    </tr>\n",
       "  </tbody>\n",
       "</table>\n",
       "</div>"
      ],
      "text/plain": [
       "   Unnamed: 0      id  mb_used session_date  user_id\n",
       "0           0  1000_0   112.95   2018-11-25     1000\n",
       "1           1  1000_1  1052.81   2018-09-07     1000\n",
       "2           2  1000_2  1197.26   2018-06-25     1000\n",
       "3           3  1000_3   550.27   2018-08-22     1000\n",
       "4           4  1000_4   302.56   2018-09-24     1000"
      ]
     },
     "metadata": {},
     "output_type": "display_data"
    },
    {
     "data": {
      "text/html": [
       "<div>\n",
       "<style scoped>\n",
       "    .dataframe tbody tr th:only-of-type {\n",
       "        vertical-align: middle;\n",
       "    }\n",
       "\n",
       "    .dataframe tbody tr th {\n",
       "        vertical-align: top;\n",
       "    }\n",
       "\n",
       "    .dataframe thead th {\n",
       "        text-align: right;\n",
       "    }\n",
       "</style>\n",
       "<table border=\"1\" class=\"dataframe\">\n",
       "  <thead>\n",
       "    <tr style=\"text-align: right;\">\n",
       "      <th></th>\n",
       "      <th>Unnamed: 0</th>\n",
       "      <th>id</th>\n",
       "      <th>mb_used</th>\n",
       "      <th>session_date</th>\n",
       "      <th>user_id</th>\n",
       "    </tr>\n",
       "  </thead>\n",
       "  <tbody>\n",
       "    <tr>\n",
       "      <td>149391</td>\n",
       "      <td>149391</td>\n",
       "      <td>1499_152</td>\n",
       "      <td>318.90</td>\n",
       "      <td>2018-10-03</td>\n",
       "      <td>1499</td>\n",
       "    </tr>\n",
       "    <tr>\n",
       "      <td>149392</td>\n",
       "      <td>149392</td>\n",
       "      <td>1499_153</td>\n",
       "      <td>490.13</td>\n",
       "      <td>2018-12-14</td>\n",
       "      <td>1499</td>\n",
       "    </tr>\n",
       "    <tr>\n",
       "      <td>149393</td>\n",
       "      <td>149393</td>\n",
       "      <td>1499_154</td>\n",
       "      <td>0.00</td>\n",
       "      <td>2018-10-27</td>\n",
       "      <td>1499</td>\n",
       "    </tr>\n",
       "    <tr>\n",
       "      <td>149394</td>\n",
       "      <td>149394</td>\n",
       "      <td>1499_155</td>\n",
       "      <td>1246.32</td>\n",
       "      <td>2018-11-26</td>\n",
       "      <td>1499</td>\n",
       "    </tr>\n",
       "    <tr>\n",
       "      <td>149395</td>\n",
       "      <td>149395</td>\n",
       "      <td>1499_156</td>\n",
       "      <td>544.37</td>\n",
       "      <td>2018-10-26</td>\n",
       "      <td>1499</td>\n",
       "    </tr>\n",
       "  </tbody>\n",
       "</table>\n",
       "</div>"
      ],
      "text/plain": [
       "        Unnamed: 0        id  mb_used session_date  user_id\n",
       "149391      149391  1499_152   318.90   2018-10-03     1499\n",
       "149392      149392  1499_153   490.13   2018-12-14     1499\n",
       "149393      149393  1499_154     0.00   2018-10-27     1499\n",
       "149394      149394  1499_155  1246.32   2018-11-26     1499\n",
       "149395      149395  1499_156   544.37   2018-10-26     1499"
      ]
     },
     "metadata": {},
     "output_type": "display_data"
    },
    {
     "name": "stdout",
     "output_type": "stream",
     "text": [
      " \n",
      "<class 'pandas.core.frame.DataFrame'>\n",
      "RangeIndex: 149396 entries, 0 to 149395\n",
      "Data columns (total 5 columns):\n",
      "Unnamed: 0      149396 non-null int64\n",
      "id              149396 non-null object\n",
      "mb_used         149396 non-null float64\n",
      "session_date    149396 non-null object\n",
      "user_id         149396 non-null int64\n",
      "dtypes: float64(1), int64(2), object(2)\n",
      "memory usage: 5.7+ MB\n",
      " \n",
      "Таблица tariffs\n"
     ]
    },
    {
     "data": {
      "text/html": [
       "<div>\n",
       "<style scoped>\n",
       "    .dataframe tbody tr th:only-of-type {\n",
       "        vertical-align: middle;\n",
       "    }\n",
       "\n",
       "    .dataframe tbody tr th {\n",
       "        vertical-align: top;\n",
       "    }\n",
       "\n",
       "    .dataframe thead th {\n",
       "        text-align: right;\n",
       "    }\n",
       "</style>\n",
       "<table border=\"1\" class=\"dataframe\">\n",
       "  <thead>\n",
       "    <tr style=\"text-align: right;\">\n",
       "      <th></th>\n",
       "      <th>messages_included</th>\n",
       "      <th>mb_per_month_included</th>\n",
       "      <th>minutes_included</th>\n",
       "      <th>rub_monthly_fee</th>\n",
       "      <th>rub_per_gb</th>\n",
       "      <th>rub_per_message</th>\n",
       "      <th>rub_per_minute</th>\n",
       "      <th>tariff_name</th>\n",
       "    </tr>\n",
       "  </thead>\n",
       "  <tbody>\n",
       "    <tr>\n",
       "      <td>0</td>\n",
       "      <td>50</td>\n",
       "      <td>15360</td>\n",
       "      <td>500</td>\n",
       "      <td>550</td>\n",
       "      <td>200</td>\n",
       "      <td>3</td>\n",
       "      <td>3</td>\n",
       "      <td>smart</td>\n",
       "    </tr>\n",
       "    <tr>\n",
       "      <td>1</td>\n",
       "      <td>1000</td>\n",
       "      <td>30720</td>\n",
       "      <td>3000</td>\n",
       "      <td>1950</td>\n",
       "      <td>150</td>\n",
       "      <td>1</td>\n",
       "      <td>1</td>\n",
       "      <td>ultra</td>\n",
       "    </tr>\n",
       "  </tbody>\n",
       "</table>\n",
       "</div>"
      ],
      "text/plain": [
       "   messages_included  mb_per_month_included  minutes_included  \\\n",
       "0                 50                  15360               500   \n",
       "1               1000                  30720              3000   \n",
       "\n",
       "   rub_monthly_fee  rub_per_gb  rub_per_message  rub_per_minute tariff_name  \n",
       "0              550         200                3               3       smart  \n",
       "1             1950         150                1               1       ultra  "
      ]
     },
     "metadata": {},
     "output_type": "display_data"
    },
    {
     "data": {
      "text/html": [
       "<div>\n",
       "<style scoped>\n",
       "    .dataframe tbody tr th:only-of-type {\n",
       "        vertical-align: middle;\n",
       "    }\n",
       "\n",
       "    .dataframe tbody tr th {\n",
       "        vertical-align: top;\n",
       "    }\n",
       "\n",
       "    .dataframe thead th {\n",
       "        text-align: right;\n",
       "    }\n",
       "</style>\n",
       "<table border=\"1\" class=\"dataframe\">\n",
       "  <thead>\n",
       "    <tr style=\"text-align: right;\">\n",
       "      <th></th>\n",
       "      <th>messages_included</th>\n",
       "      <th>mb_per_month_included</th>\n",
       "      <th>minutes_included</th>\n",
       "      <th>rub_monthly_fee</th>\n",
       "      <th>rub_per_gb</th>\n",
       "      <th>rub_per_message</th>\n",
       "      <th>rub_per_minute</th>\n",
       "      <th>tariff_name</th>\n",
       "    </tr>\n",
       "  </thead>\n",
       "  <tbody>\n",
       "    <tr>\n",
       "      <td>0</td>\n",
       "      <td>50</td>\n",
       "      <td>15360</td>\n",
       "      <td>500</td>\n",
       "      <td>550</td>\n",
       "      <td>200</td>\n",
       "      <td>3</td>\n",
       "      <td>3</td>\n",
       "      <td>smart</td>\n",
       "    </tr>\n",
       "    <tr>\n",
       "      <td>1</td>\n",
       "      <td>1000</td>\n",
       "      <td>30720</td>\n",
       "      <td>3000</td>\n",
       "      <td>1950</td>\n",
       "      <td>150</td>\n",
       "      <td>1</td>\n",
       "      <td>1</td>\n",
       "      <td>ultra</td>\n",
       "    </tr>\n",
       "  </tbody>\n",
       "</table>\n",
       "</div>"
      ],
      "text/plain": [
       "   messages_included  mb_per_month_included  minutes_included  \\\n",
       "0                 50                  15360               500   \n",
       "1               1000                  30720              3000   \n",
       "\n",
       "   rub_monthly_fee  rub_per_gb  rub_per_message  rub_per_minute tariff_name  \n",
       "0              550         200                3               3       smart  \n",
       "1             1950         150                1               1       ultra  "
      ]
     },
     "metadata": {},
     "output_type": "display_data"
    },
    {
     "name": "stdout",
     "output_type": "stream",
     "text": [
      " \n",
      "<class 'pandas.core.frame.DataFrame'>\n",
      "RangeIndex: 2 entries, 0 to 1\n",
      "Data columns (total 8 columns):\n",
      "messages_included        2 non-null int64\n",
      "mb_per_month_included    2 non-null int64\n",
      "minutes_included         2 non-null int64\n",
      "rub_monthly_fee          2 non-null int64\n",
      "rub_per_gb               2 non-null int64\n",
      "rub_per_message          2 non-null int64\n",
      "rub_per_minute           2 non-null int64\n",
      "tariff_name              2 non-null object\n",
      "dtypes: int64(7), object(1)\n",
      "memory usage: 256.0+ bytes\n",
      " \n"
     ]
    }
   ],
   "source": [
    "data_names = {'1':\"users\", '2':\"calls\", '3':\"messages\", '4':\"internet\", '5':\"tariffs\"}\n",
    "for i in data_names.keys():\n",
    "    #берем локацию файла data_name.csv\n",
    "    location = \"datasets/\"+data_names[i]+\".csv\"\n",
    "    #c помощью exec пишем\n",
    "    exec(data_names[i] + \" = pd.read_csv('{}')\".format(location))\n",
    "    print('Таблица', data_names[i])\n",
    "    comand = \"display(\"+data_names[i]+\".head())\"\n",
    "    exec(comand)\n",
    "    comand = \"display(\"+data_names[i]+\".tail())\"\n",
    "    exec(comand)\n",
    "    print(' ')\n",
    "    exec(data_names[i] +\".info()\")\n",
    "    print(' ')"
   ]
  },
  {
   "cell_type": "markdown",
   "metadata": {
    "id": "ZoOrIMGeBtmT"
   },
   "source": [
    "## Вывод\n",
    "\n",
    "1. Таблица **users**\n",
    ">- 500 строк\n",
    ">- 8 столбцов: 2 - `int64`, 6 - `object`\n",
    ">- Время задано в стобцах *churn_date* и *reg_date* как `object`, надо `datetime64`\n",
    ">- Id пользователя начинается с \"100+\" собственно порядковый номер, разумно вычесть 1000.\n",
    ">- Пропущенные значения только в столбце churn_date, но мы знаем, что они соотвествуют дате прекращения пользованием тарифом.\n",
    "\n",
    "2. Таблица **calls**\n",
    ">- 202607 строк\n",
    ">- 4 столбца: 2 типа `object`, 1 типа `float64`, один типа `int64`\n",
    ">- В столбце *call_date* время хорошо бы перевести в формат `datetime64`\n",
    ">- Опять же везде *user_id* зачем-то начинается с 1000 \n",
    ">- *id* звонка тоже начинается с 1000, записан в форме \"(user_id)_id\" и задан типом `object`\n",
    ">- Зато нет пропущенных значений\n",
    "\n",
    "3. Таблица **messages**\n",
    ">- 123036 строк\n",
    ">- 3 столбца: 2 типа `object`, 1 типа `int64`.\n",
    ">- Опять же *id* задан как `object` в форме \"(user_id)_id\"\n",
    ">- *user_id* как и везде начинается с 1000.\n",
    ">- Дата записана как `object`.\n",
    ">- Пропусков нет\n",
    "\n",
    "4. Таблица **internet**\n",
    ">- 149396 строк\n",
    ">- 5 столбцов: 2 - `object`, 2 - `int64`, 1 - `float`\n",
    ">- Первый столбец *Unndamed: 0* - это просто номера строк с нуля. Точно надо удалять.\n",
    ">- Все те же моменты с *id* и *user_id*\n",
    ">- Дата в виде `object` - хорошо бы поменять на `datetime64`.\n",
    ">- Нет пропусков\n",
    "\n",
    "5. Таблица **tariffs**\n",
    ">- 2 строки\n",
    ">- 8 столбцов: 7 - `int64`, 1 - 'object'\n",
    ">- Пропусков нет\n",
    "\n",
    "Основные задачи для обработки данных ясны.\n",
    "\n",
    "\n",
    "\n",
    "\n",
    "\n"
   ]
  },
  {
   "cell_type": "markdown",
   "metadata": {
    "id": "aJEE2MR9MVud"
   },
   "source": [
    "# Шаг 2. Предобработка данных"
   ]
  },
  {
   "cell_type": "markdown",
   "metadata": {
    "id": "CJB0RCfwMqqW"
   },
   "source": [
    "## Пропуски"
   ]
  },
  {
   "cell_type": "markdown",
   "metadata": {
    "id": "at2rIfEKZ4bU"
   },
   "source": [
    "Мы уже поняли, что пропуски есть только в столбце *churn_date* дата фрейма `users`. Они соотвествуют еще действующим договорам. Наверное удалять их не стоит. Для удобства можно их заменить на какую-то заведомо большую любых значений дату. Удобно заменить на последний день года.\n",
    " "
   ]
  },
  {
   "cell_type": "markdown",
   "metadata": {
    "id": "19wAoKAaaTYs"
   },
   "source": [
    "## Удаление лишних столбцов"
   ]
  },
  {
   "cell_type": "markdown",
   "metadata": {
    "id": "Nvi2ARujabI6"
   },
   "source": [
    "В дата-фрейме `internet` есть заведомо лишний столбец *Unnamed: 0*. Удаляем его:"
   ]
  },
  {
   "cell_type": "code",
   "execution_count": 3,
   "metadata": {
    "colab": {
     "base_uri": "https://localhost:8080/",
     "height": 419
    },
    "executionInfo": {
     "elapsed": 9150,
     "status": "ok",
     "timestamp": 1602256745695,
     "user": {
      "displayName": "Eugene Puninskiy",
      "photoUrl": "https://lh3.googleusercontent.com/a-/AOh14Gg7VvTZjgiAHFG2tTBqY9aSHC2Bal55-nPnXXzzL-c=s64",
      "userId": "07244295768072477419"
     },
     "user_tz": -180
    },
    "id": "Z9F5HZZzaYl9",
    "outputId": "04096d50-39d1-4016-b902-0992e180a69a"
   },
   "outputs": [
    {
     "data": {
      "text/html": [
       "<div>\n",
       "<style scoped>\n",
       "    .dataframe tbody tr th:only-of-type {\n",
       "        vertical-align: middle;\n",
       "    }\n",
       "\n",
       "    .dataframe tbody tr th {\n",
       "        vertical-align: top;\n",
       "    }\n",
       "\n",
       "    .dataframe thead th {\n",
       "        text-align: right;\n",
       "    }\n",
       "</style>\n",
       "<table border=\"1\" class=\"dataframe\">\n",
       "  <thead>\n",
       "    <tr style=\"text-align: right;\">\n",
       "      <th></th>\n",
       "      <th>id</th>\n",
       "      <th>mb_used</th>\n",
       "      <th>session_date</th>\n",
       "      <th>user_id</th>\n",
       "    </tr>\n",
       "  </thead>\n",
       "  <tbody>\n",
       "    <tr>\n",
       "      <th>0</th>\n",
       "      <td>1000_0</td>\n",
       "      <td>112.95</td>\n",
       "      <td>2018-11-25</td>\n",
       "      <td>1000</td>\n",
       "    </tr>\n",
       "    <tr>\n",
       "      <th>1</th>\n",
       "      <td>1000_1</td>\n",
       "      <td>1052.81</td>\n",
       "      <td>2018-09-07</td>\n",
       "      <td>1000</td>\n",
       "    </tr>\n",
       "    <tr>\n",
       "      <th>2</th>\n",
       "      <td>1000_2</td>\n",
       "      <td>1197.26</td>\n",
       "      <td>2018-06-25</td>\n",
       "      <td>1000</td>\n",
       "    </tr>\n",
       "    <tr>\n",
       "      <th>3</th>\n",
       "      <td>1000_3</td>\n",
       "      <td>550.27</td>\n",
       "      <td>2018-08-22</td>\n",
       "      <td>1000</td>\n",
       "    </tr>\n",
       "    <tr>\n",
       "      <th>4</th>\n",
       "      <td>1000_4</td>\n",
       "      <td>302.56</td>\n",
       "      <td>2018-09-24</td>\n",
       "      <td>1000</td>\n",
       "    </tr>\n",
       "    <tr>\n",
       "      <th>...</th>\n",
       "      <td>...</td>\n",
       "      <td>...</td>\n",
       "      <td>...</td>\n",
       "      <td>...</td>\n",
       "    </tr>\n",
       "    <tr>\n",
       "      <th>149391</th>\n",
       "      <td>1499_152</td>\n",
       "      <td>318.90</td>\n",
       "      <td>2018-10-03</td>\n",
       "      <td>1499</td>\n",
       "    </tr>\n",
       "    <tr>\n",
       "      <th>149392</th>\n",
       "      <td>1499_153</td>\n",
       "      <td>490.13</td>\n",
       "      <td>2018-12-14</td>\n",
       "      <td>1499</td>\n",
       "    </tr>\n",
       "    <tr>\n",
       "      <th>149393</th>\n",
       "      <td>1499_154</td>\n",
       "      <td>0.00</td>\n",
       "      <td>2018-10-27</td>\n",
       "      <td>1499</td>\n",
       "    </tr>\n",
       "    <tr>\n",
       "      <th>149394</th>\n",
       "      <td>1499_155</td>\n",
       "      <td>1246.32</td>\n",
       "      <td>2018-11-26</td>\n",
       "      <td>1499</td>\n",
       "    </tr>\n",
       "    <tr>\n",
       "      <th>149395</th>\n",
       "      <td>1499_156</td>\n",
       "      <td>544.37</td>\n",
       "      <td>2018-10-26</td>\n",
       "      <td>1499</td>\n",
       "    </tr>\n",
       "  </tbody>\n",
       "</table>\n",
       "<p>149396 rows × 4 columns</p>\n",
       "</div>"
      ],
      "text/plain": [
       "              id  mb_used session_date  user_id\n",
       "0         1000_0   112.95   2018-11-25     1000\n",
       "1         1000_1  1052.81   2018-09-07     1000\n",
       "2         1000_2  1197.26   2018-06-25     1000\n",
       "3         1000_3   550.27   2018-08-22     1000\n",
       "4         1000_4   302.56   2018-09-24     1000\n",
       "...          ...      ...          ...      ...\n",
       "149391  1499_152   318.90   2018-10-03     1499\n",
       "149392  1499_153   490.13   2018-12-14     1499\n",
       "149393  1499_154     0.00   2018-10-27     1499\n",
       "149394  1499_155  1246.32   2018-11-26     1499\n",
       "149395  1499_156   544.37   2018-10-26     1499\n",
       "\n",
       "[149396 rows x 4 columns]"
      ]
     },
     "metadata": {
      "tags": []
     },
     "output_type": "display_data"
    }
   ],
   "source": [
    "internet = internet.drop('Unnamed: 0', axis=1)\n",
    "display(internet)"
   ]
  },
  {
   "cell_type": "markdown",
   "metadata": {
    "id": "FmfxRsrkb7Dd"
   },
   "source": [
    "## Конвертируем даты в формат `datetime64`"
   ]
  },
  {
   "cell_type": "markdown",
   "metadata": {
    "id": "iRBfjhYbcC3V"
   },
   "source": [
    "Все даты у нас пока заданы форматом `object`. Преобразуем в `datetime64`."
   ]
  },
  {
   "cell_type": "code",
   "execution_count": 4,
   "metadata": {
    "executionInfo": {
     "elapsed": 9621,
     "status": "ok",
     "timestamp": 1602256746270,
     "user": {
      "displayName": "Eugene Puninskiy",
      "photoUrl": "https://lh3.googleusercontent.com/a-/AOh14Gg7VvTZjgiAHFG2tTBqY9aSHC2Bal55-nPnXXzzL-c=s64",
      "userId": "07244295768072477419"
     },
     "user_tz": -180
    },
    "id": "m1AgDeUfdAIl"
   },
   "outputs": [],
   "source": [
    "def dateconvert(df, column_name):\n",
    "    df[column_name]= pd.to_datetime(df[column_name],format='%Y-%m-%d')   "
   ]
  },
  {
   "cell_type": "code",
   "execution_count": 5,
   "metadata": {
    "colab": {
     "base_uri": "https://localhost:8080/",
     "height": 287
    },
    "executionInfo": {
     "elapsed": 9507,
     "status": "ok",
     "timestamp": 1602256746274,
     "user": {
      "displayName": "Eugene Puninskiy",
      "photoUrl": "https://lh3.googleusercontent.com/a-/AOh14Gg7VvTZjgiAHFG2tTBqY9aSHC2Bal55-nPnXXzzL-c=s64",
      "userId": "07244295768072477419"
     },
     "user_tz": -180
    },
    "id": "BMiHi3MEbj_u",
    "outputId": "c04d1a27-6d43-4079-dd37-b29a52026a04"
   },
   "outputs": [
    {
     "name": "stdout",
     "output_type": "stream",
     "text": [
      "<class 'pandas.core.frame.DataFrame'>\n",
      "RangeIndex: 500 entries, 0 to 499\n",
      "Data columns (total 8 columns):\n",
      " #   Column      Non-Null Count  Dtype         \n",
      "---  ------      --------------  -----         \n",
      " 0   user_id     500 non-null    int64         \n",
      " 1   age         500 non-null    int64         \n",
      " 2   churn_date  500 non-null    datetime64[ns]\n",
      " 3   city        500 non-null    object        \n",
      " 4   first_name  500 non-null    object        \n",
      " 5   last_name   500 non-null    object        \n",
      " 6   reg_date    500 non-null    datetime64[ns]\n",
      " 7   tariff      500 non-null    object        \n",
      "dtypes: datetime64[ns](2), int64(2), object(4)\n",
      "memory usage: 31.4+ KB\n"
     ]
    }
   ],
   "source": [
    "dateconvert(users, 'reg_date')\n",
    "dateconvert(users, 'churn_date')\n",
    "#Заменим пропущенную дату окончания на последний день года\n",
    "users['churn_date'] = users['churn_date'].fillna(pd.Timestamp('2018-12-31'))\n",
    "users.info()"
   ]
  },
  {
   "cell_type": "code",
   "execution_count": 6,
   "metadata": {
    "colab": {
     "base_uri": "https://localhost:8080/",
     "height": 204
    },
    "executionInfo": {
     "elapsed": 9435,
     "status": "ok",
     "timestamp": 1602256746275,
     "user": {
      "displayName": "Eugene Puninskiy",
      "photoUrl": "https://lh3.googleusercontent.com/a-/AOh14Gg7VvTZjgiAHFG2tTBqY9aSHC2Bal55-nPnXXzzL-c=s64",
      "userId": "07244295768072477419"
     },
     "user_tz": -180
    },
    "id": "Y0HCWVwBLalO",
    "outputId": "226e68b2-21ef-476a-ec1d-474291158122"
   },
   "outputs": [
    {
     "data": {
      "text/html": [
       "<div>\n",
       "<style scoped>\n",
       "    .dataframe tbody tr th:only-of-type {\n",
       "        vertical-align: middle;\n",
       "    }\n",
       "\n",
       "    .dataframe tbody tr th {\n",
       "        vertical-align: top;\n",
       "    }\n",
       "\n",
       "    .dataframe thead th {\n",
       "        text-align: right;\n",
       "    }\n",
       "</style>\n",
       "<table border=\"1\" class=\"dataframe\">\n",
       "  <thead>\n",
       "    <tr style=\"text-align: right;\">\n",
       "      <th></th>\n",
       "      <th>user_id</th>\n",
       "      <th>age</th>\n",
       "      <th>churn_date</th>\n",
       "      <th>city</th>\n",
       "      <th>first_name</th>\n",
       "      <th>last_name</th>\n",
       "      <th>reg_date</th>\n",
       "      <th>tariff</th>\n",
       "    </tr>\n",
       "  </thead>\n",
       "  <tbody>\n",
       "    <tr>\n",
       "      <th>0</th>\n",
       "      <td>1000</td>\n",
       "      <td>52</td>\n",
       "      <td>2018-12-31</td>\n",
       "      <td>Краснодар</td>\n",
       "      <td>Рафаил</td>\n",
       "      <td>Верещагин</td>\n",
       "      <td>2018-05-25</td>\n",
       "      <td>ultra</td>\n",
       "    </tr>\n",
       "    <tr>\n",
       "      <th>1</th>\n",
       "      <td>1001</td>\n",
       "      <td>41</td>\n",
       "      <td>2018-12-31</td>\n",
       "      <td>Москва</td>\n",
       "      <td>Иван</td>\n",
       "      <td>Ежов</td>\n",
       "      <td>2018-11-01</td>\n",
       "      <td>smart</td>\n",
       "    </tr>\n",
       "    <tr>\n",
       "      <th>2</th>\n",
       "      <td>1002</td>\n",
       "      <td>59</td>\n",
       "      <td>2018-12-31</td>\n",
       "      <td>Стерлитамак</td>\n",
       "      <td>Евгений</td>\n",
       "      <td>Абрамович</td>\n",
       "      <td>2018-06-17</td>\n",
       "      <td>smart</td>\n",
       "    </tr>\n",
       "    <tr>\n",
       "      <th>3</th>\n",
       "      <td>1003</td>\n",
       "      <td>23</td>\n",
       "      <td>2018-12-31</td>\n",
       "      <td>Москва</td>\n",
       "      <td>Белла</td>\n",
       "      <td>Белякова</td>\n",
       "      <td>2018-08-17</td>\n",
       "      <td>ultra</td>\n",
       "    </tr>\n",
       "    <tr>\n",
       "      <th>4</th>\n",
       "      <td>1004</td>\n",
       "      <td>68</td>\n",
       "      <td>2018-12-31</td>\n",
       "      <td>Новокузнецк</td>\n",
       "      <td>Татьяна</td>\n",
       "      <td>Авдеенко</td>\n",
       "      <td>2018-05-14</td>\n",
       "      <td>ultra</td>\n",
       "    </tr>\n",
       "  </tbody>\n",
       "</table>\n",
       "</div>"
      ],
      "text/plain": [
       "   user_id  age churn_date         city first_name  last_name   reg_date tariff\n",
       "0     1000   52 2018-12-31    Краснодар     Рафаил  Верещагин 2018-05-25  ultra\n",
       "1     1001   41 2018-12-31       Москва       Иван       Ежов 2018-11-01  smart\n",
       "2     1002   59 2018-12-31  Стерлитамак    Евгений  Абрамович 2018-06-17  smart\n",
       "3     1003   23 2018-12-31       Москва      Белла   Белякова 2018-08-17  ultra\n",
       "4     1004   68 2018-12-31  Новокузнецк    Татьяна   Авдеенко 2018-05-14  ultra"
      ]
     },
     "execution_count": 6,
     "metadata": {
      "tags": []
     },
     "output_type": "execute_result"
    }
   ],
   "source": [
    "users.head()"
   ]
  },
  {
   "cell_type": "code",
   "execution_count": 7,
   "metadata": {
    "colab": {
     "base_uri": "https://localhost:8080/",
     "height": 215
    },
    "executionInfo": {
     "elapsed": 9328,
     "status": "ok",
     "timestamp": 1602256746277,
     "user": {
      "displayName": "Eugene Puninskiy",
      "photoUrl": "https://lh3.googleusercontent.com/a-/AOh14Gg7VvTZjgiAHFG2tTBqY9aSHC2Bal55-nPnXXzzL-c=s64",
      "userId": "07244295768072477419"
     },
     "user_tz": -180
    },
    "id": "DF5q1XTqd7U7",
    "outputId": "905eb791-5bc4-4f52-e19d-14ba1599959c"
   },
   "outputs": [
    {
     "name": "stdout",
     "output_type": "stream",
     "text": [
      "<class 'pandas.core.frame.DataFrame'>\n",
      "RangeIndex: 202607 entries, 0 to 202606\n",
      "Data columns (total 4 columns):\n",
      " #   Column     Non-Null Count   Dtype         \n",
      "---  ------     --------------   -----         \n",
      " 0   id         202607 non-null  object        \n",
      " 1   call_date  202607 non-null  datetime64[ns]\n",
      " 2   duration   202607 non-null  float64       \n",
      " 3   user_id    202607 non-null  int64         \n",
      "dtypes: datetime64[ns](1), float64(1), int64(1), object(1)\n",
      "memory usage: 6.2+ MB\n"
     ]
    }
   ],
   "source": [
    "dateconvert(calls, 'call_date')\n",
    "calls.info()"
   ]
  },
  {
   "cell_type": "code",
   "execution_count": 8,
   "metadata": {
    "colab": {
     "base_uri": "https://localhost:8080/",
     "height": 197
    },
    "executionInfo": {
     "elapsed": 9254,
     "status": "ok",
     "timestamp": 1602256746280,
     "user": {
      "displayName": "Eugene Puninskiy",
      "photoUrl": "https://lh3.googleusercontent.com/a-/AOh14Gg7VvTZjgiAHFG2tTBqY9aSHC2Bal55-nPnXXzzL-c=s64",
      "userId": "07244295768072477419"
     },
     "user_tz": -180
    },
    "id": "Xyjik8voeyBC",
    "outputId": "47e29bdb-53e0-4d2c-89f4-86c1dc6f25ba"
   },
   "outputs": [
    {
     "name": "stdout",
     "output_type": "stream",
     "text": [
      "<class 'pandas.core.frame.DataFrame'>\n",
      "RangeIndex: 123036 entries, 0 to 123035\n",
      "Data columns (total 3 columns):\n",
      " #   Column        Non-Null Count   Dtype         \n",
      "---  ------        --------------   -----         \n",
      " 0   id            123036 non-null  object        \n",
      " 1   message_date  123036 non-null  datetime64[ns]\n",
      " 2   user_id       123036 non-null  int64         \n",
      "dtypes: datetime64[ns](1), int64(1), object(1)\n",
      "memory usage: 2.8+ MB\n"
     ]
    }
   ],
   "source": [
    "dateconvert(messages, 'message_date')\n",
    "messages.info()"
   ]
  },
  {
   "cell_type": "code",
   "execution_count": 9,
   "metadata": {
    "colab": {
     "base_uri": "https://localhost:8080/",
     "height": 215
    },
    "executionInfo": {
     "elapsed": 9177,
     "status": "ok",
     "timestamp": 1602256746281,
     "user": {
      "displayName": "Eugene Puninskiy",
      "photoUrl": "https://lh3.googleusercontent.com/a-/AOh14Gg7VvTZjgiAHFG2tTBqY9aSHC2Bal55-nPnXXzzL-c=s64",
      "userId": "07244295768072477419"
     },
     "user_tz": -180
    },
    "id": "6WJR39isfAR2",
    "outputId": "7dbc5264-94ae-44f9-ab90-1371cdbbf77c"
   },
   "outputs": [
    {
     "name": "stdout",
     "output_type": "stream",
     "text": [
      "<class 'pandas.core.frame.DataFrame'>\n",
      "RangeIndex: 149396 entries, 0 to 149395\n",
      "Data columns (total 4 columns):\n",
      " #   Column        Non-Null Count   Dtype         \n",
      "---  ------        --------------   -----         \n",
      " 0   id            149396 non-null  object        \n",
      " 1   mb_used       149396 non-null  float64       \n",
      " 2   session_date  149396 non-null  datetime64[ns]\n",
      " 3   user_id       149396 non-null  int64         \n",
      "dtypes: datetime64[ns](1), float64(1), int64(1), object(1)\n",
      "memory usage: 4.6+ MB\n"
     ]
    }
   ],
   "source": [
    "dateconvert(internet, 'session_date')\n",
    "internet.info()"
   ]
  },
  {
   "cell_type": "markdown",
   "metadata": {
    "id": "eYSTzm_lxtPV"
   },
   "source": [
    "А теперь можем проверить, не бывает ли так, что пользователь уже не являлся абонентом, а совершал звонки и т.д."
   ]
  },
  {
   "cell_type": "code",
   "execution_count": 10,
   "metadata": {
    "colab": {
     "base_uri": "https://localhost:8080/",
     "height": 35
    },
    "executionInfo": {
     "elapsed": 9073,
     "status": "ok",
     "timestamp": 1602256746282,
     "user": {
      "displayName": "Eugene Puninskiy",
      "photoUrl": "https://lh3.googleusercontent.com/a-/AOh14Gg7VvTZjgiAHFG2tTBqY9aSHC2Bal55-nPnXXzzL-c=s64",
      "userId": "07244295768072477419"
     },
     "user_tz": -180
    },
    "id": "WSfDchsQ0wWX",
    "outputId": "d7e73927-9fb8-491f-c500-9323ac347fa8"
   },
   "outputs": [
    {
     "data": {
      "text/plain": [
       "6"
      ]
     },
     "execution_count": 10,
     "metadata": {
      "tags": []
     },
     "output_type": "execute_result"
    }
   ],
   "source": [
    "max(5, 6)"
   ]
  },
  {
   "cell_type": "code",
   "execution_count": 11,
   "metadata": {
    "colab": {
     "base_uri": "https://localhost:8080/",
     "height": 35
    },
    "executionInfo": {
     "elapsed": 14612,
     "status": "ok",
     "timestamp": 1602256751910,
     "user": {
      "displayName": "Eugene Puninskiy",
      "photoUrl": "https://lh3.googleusercontent.com/a-/AOh14Gg7VvTZjgiAHFG2tTBqY9aSHC2Bal55-nPnXXzzL-c=s64",
      "userId": "07244295768072477419"
     },
     "user_tz": -180
    },
    "id": "yMHbTZV4xsm9",
    "outputId": "9f8a2182-e27c-41b8-aad2-3fd61417d692"
   },
   "outputs": [
    {
     "name": "stdout",
     "output_type": "stream",
     "text": [
      "Все абоненты действительно завершили пользование услугами связи.\n"
     ]
    }
   ],
   "source": [
    "churn_dates = users[~users.isna().any(axis = 1)]['churn_date']\n",
    "churn_dates\n",
    "\n",
    "for user_id in churn_dates.index:\n",
    "    user_id += 1000\n",
    "    last_call = calls.query('user_id == @user_id')['call_date'].max()\n",
    "    last_sms = messages.query('user_id == @user_id')['message_date'].max() \n",
    "    last_mb = internet.query('user_id == @user_id')['session_date'].max() \n",
    "    last_action = max(last_call, last_sms, last_mb)  \n",
    "    if churn_dates[user_id-1000] < last_action:\n",
    "        print('Вот id пользователя, который продолжил использовать услуги после расторжения', user_id)\n",
    "    \n",
    "else:\n",
    "    print('Все абоненты действительно завершили пользование услугами связи.')"
   ]
  },
  {
   "cell_type": "markdown",
   "metadata": {
    "id": "UWSWM3LIiIcW"
   },
   "source": [
    "## Дубликаты"
   ]
  },
  {
   "cell_type": "markdown",
   "metadata": {
    "id": "PZaQrhPCjXYg"
   },
   "source": [
    " Поищем дупликаты во всех наших дата-фреймах:"
   ]
  },
  {
   "cell_type": "code",
   "execution_count": 12,
   "metadata": {
    "colab": {
     "base_uri": "https://localhost:8080/",
     "height": 107
    },
    "executionInfo": {
     "elapsed": 14511,
     "status": "ok",
     "timestamp": 1602256751915,
     "user": {
      "displayName": "Eugene Puninskiy",
      "photoUrl": "https://lh3.googleusercontent.com/a-/AOh14Gg7VvTZjgiAHFG2tTBqY9aSHC2Bal55-nPnXXzzL-c=s64",
      "userId": "07244295768072477419"
     },
     "user_tz": -180
    },
    "id": "u9Idxe4piO1Q",
    "outputId": "4f0ee656-f20d-4f73-9931-bffe7dadda6c"
   },
   "outputs": [
    {
     "data": {
      "text/plain": [
       "0"
      ]
     },
     "metadata": {
      "tags": []
     },
     "output_type": "display_data"
    },
    {
     "data": {
      "text/plain": [
       "0"
      ]
     },
     "metadata": {
      "tags": []
     },
     "output_type": "display_data"
    },
    {
     "data": {
      "text/plain": [
       "0"
      ]
     },
     "metadata": {
      "tags": []
     },
     "output_type": "display_data"
    },
    {
     "data": {
      "text/plain": [
       "0"
      ]
     },
     "metadata": {
      "tags": []
     },
     "output_type": "display_data"
    },
    {
     "data": {
      "text/plain": [
       "0"
      ]
     },
     "metadata": {
      "tags": []
     },
     "output_type": "display_data"
    }
   ],
   "source": [
    "for name in data_names.values():\n",
    "    # Выполним display(name.duplicated().sum()),для name из словаря data_names\n",
    "    exec('display('+name+\".duplicated().sum())\")"
   ]
  },
  {
   "cell_type": "markdown",
   "metadata": {
    "id": "G-9rYCjjj0Gf"
   },
   "source": [
    "Все нули, значит дубликатов нет."
   ]
  },
  {
   "cell_type": "markdown",
   "metadata": {
    "id": "ffjcbz4thJbc"
   },
   "source": [
    "## Ищем и исправляем другие ошибки в данных."
   ]
  },
  {
   "cell_type": "markdown",
   "metadata": {
    "id": "plqb3jsSk-9j"
   },
   "source": [
    "### Users"
   ]
  },
  {
   "cell_type": "code",
   "execution_count": 13,
   "metadata": {
    "colab": {
     "base_uri": "https://localhost:8080/",
     "height": 71
    },
    "executionInfo": {
     "elapsed": 14338,
     "status": "ok",
     "timestamp": 1602256751919,
     "user": {
      "displayName": "Eugene Puninskiy",
      "photoUrl": "https://lh3.googleusercontent.com/a-/AOh14Gg7VvTZjgiAHFG2tTBqY9aSHC2Bal55-nPnXXzzL-c=s64",
      "userId": "07244295768072477419"
     },
     "user_tz": -180
    },
    "id": "c3MgrhgAhPCr",
    "outputId": "5163a2f5-2bf1-49d9-d843-ec3c5963b840"
   },
   "outputs": [
    {
     "data": {
      "text/plain": [
       "Index(['user_id', 'age', 'churn_date', 'city', 'first_name', 'last_name',\n",
       "       'reg_date', 'tariff'],\n",
       "      dtype='object')"
      ]
     },
     "execution_count": 13,
     "metadata": {
      "tags": []
     },
     "output_type": "execute_result"
    }
   ],
   "source": [
    "users.columns"
   ]
  },
  {
   "cell_type": "code",
   "execution_count": 14,
   "metadata": {
    "colab": {
     "base_uri": "https://localhost:8080/",
     "height": 35
    },
    "executionInfo": {
     "elapsed": 14291,
     "status": "ok",
     "timestamp": 1602256751921,
     "user": {
      "displayName": "Eugene Puninskiy",
      "photoUrl": "https://lh3.googleusercontent.com/a-/AOh14Gg7VvTZjgiAHFG2tTBqY9aSHC2Bal55-nPnXXzzL-c=s64",
      "userId": "07244295768072477419"
     },
     "user_tz": -180
    },
    "id": "HGvHh16SkRTa",
    "outputId": "8e2e664b-ee37-4bff-dcca-b4d34f66f78a"
   },
   "outputs": [
    {
     "data": {
      "text/plain": [
       "500"
      ]
     },
     "execution_count": 14,
     "metadata": {
      "tags": []
     },
     "output_type": "execute_result"
    }
   ],
   "source": [
    "# Проверяем действительно у нас 500 уникальных id\n",
    "len(users.user_id.unique())"
   ]
  },
  {
   "cell_type": "code",
   "execution_count": 15,
   "metadata": {
    "colab": {
     "base_uri": "https://localhost:8080/",
     "height": 179
    },
    "executionInfo": {
     "elapsed": 14243,
     "status": "ok",
     "timestamp": 1602256751923,
     "user": {
      "displayName": "Eugene Puninskiy",
      "photoUrl": "https://lh3.googleusercontent.com/a-/AOh14Gg7VvTZjgiAHFG2tTBqY9aSHC2Bal55-nPnXXzzL-c=s64",
      "userId": "07244295768072477419"
     },
     "user_tz": -180
    },
    "id": "uZihzfMmhjfU",
    "outputId": "9f92ce30-47ec-4aea-e1d0-47c757ac95d5"
   },
   "outputs": [
    {
     "data": {
      "text/plain": [
       "count    500.00000\n",
       "mean      46.58800\n",
       "std       16.66763\n",
       "min       18.00000\n",
       "25%       32.00000\n",
       "50%       46.00000\n",
       "75%       62.00000\n",
       "max       75.00000\n",
       "Name: age, dtype: float64"
      ]
     },
     "execution_count": 15,
     "metadata": {
      "tags": []
     },
     "output_type": "execute_result"
    }
   ],
   "source": [
    "users.age.describe()"
   ]
  },
  {
   "cell_type": "code",
   "execution_count": 16,
   "metadata": {
    "colab": {
     "base_uri": "https://localhost:8080/",
     "height": 287
    },
    "executionInfo": {
     "elapsed": 14182,
     "status": "ok",
     "timestamp": 1602256751924,
     "user": {
      "displayName": "Eugene Puninskiy",
      "photoUrl": "https://lh3.googleusercontent.com/a-/AOh14Gg7VvTZjgiAHFG2tTBqY9aSHC2Bal55-nPnXXzzL-c=s64",
      "userId": "07244295768072477419"
     },
     "user_tz": -180
    },
    "id": "NIqKjuVShw71",
    "outputId": "71a02800-4276-4625-c3d4-a3ef156cba18"
   },
   "outputs": [
    {
     "data": {
      "text/plain": [
       "array(['Архангельск', 'Астрахань', 'Балашиха', 'Барнаул', 'Белгород',\n",
       "       'Брянск', 'Владивосток', 'Владикавказ', 'Владимир', 'Волгоград',\n",
       "       'Волжский', 'Вологда', 'Воронеж', 'Грозный', 'Екатеринбург',\n",
       "       'Иваново', 'Ижевск', 'Иркутск', 'Казань', 'Калининград', 'Калуга',\n",
       "       'Кемерово', 'Киров', 'Кострома', 'Краснодар', 'Красноярск',\n",
       "       'Курган', 'Курск', 'Липецк', 'Магнитогорск', 'Махачкала', 'Москва',\n",
       "       'Мурманск', 'Набережные Челны', 'Нижневартовск', 'Нижний Новгород',\n",
       "       'Нижний Тагил', 'Новокузнецк', 'Новороссийск', 'Новосибирск',\n",
       "       'Омск', 'Оренбург', 'Орёл', 'Пенза', 'Пермь', 'Петрозаводск',\n",
       "       'Подольск', 'Ростов-на-Дону', 'Рязань', 'Самара',\n",
       "       'Санкт-Петербург', 'Саранск', 'Саратов', 'Севастополь', 'Смоленск',\n",
       "       'Сочи', 'Ставрополь', 'Стерлитамак', 'Сургут', 'Тамбов', 'Тверь',\n",
       "       'Тольятти', 'Томск', 'Тула', 'Тюмень', 'Улан-Удэ', 'Ульяновск',\n",
       "       'Уфа', 'Хабаровск', 'Химки', 'Чебоксары', 'Челябинск', 'Череповец',\n",
       "       'Чита', 'Якутск', 'Ярославль'], dtype=object)"
      ]
     },
     "execution_count": 16,
     "metadata": {
      "tags": []
     },
     "output_type": "execute_result"
    }
   ],
   "source": [
    "#Визуально оценим нашу георграфию\n",
    "np.sort(users.city.unique())"
   ]
  },
  {
   "cell_type": "code",
   "execution_count": 17,
   "metadata": {
    "colab": {
     "base_uri": "https://localhost:8080/",
     "height": 35
    },
    "executionInfo": {
     "elapsed": 14117,
     "status": "ok",
     "timestamp": 1602256751926,
     "user": {
      "displayName": "Eugene Puninskiy",
      "photoUrl": "https://lh3.googleusercontent.com/a-/AOh14Gg7VvTZjgiAHFG2tTBqY9aSHC2Bal55-nPnXXzzL-c=s64",
      "userId": "07244295768072477419"
     },
     "user_tz": -180
    },
    "id": "0Rgr85hjh8zN",
    "outputId": "d720384d-3b3b-42ba-bca2-a398c3d156ed"
   },
   "outputs": [
    {
     "data": {
      "text/plain": [
       "array(['ultra', 'smart'], dtype=object)"
      ]
     },
     "execution_count": 17,
     "metadata": {
      "tags": []
     },
     "output_type": "execute_result"
    }
   ],
   "source": [
    "#Посмотрим на тарифы\n",
    "users.tariff.unique()"
   ]
  },
  {
   "cell_type": "code",
   "execution_count": 18,
   "metadata": {
    "colab": {
     "base_uri": "https://localhost:8080/",
     "height": 35
    },
    "executionInfo": {
     "elapsed": 14075,
     "status": "ok",
     "timestamp": 1602256751927,
     "user": {
      "displayName": "Eugene Puninskiy",
      "photoUrl": "https://lh3.googleusercontent.com/a-/AOh14Gg7VvTZjgiAHFG2tTBqY9aSHC2Bal55-nPnXXzzL-c=s64",
      "userId": "07244295768072477419"
     },
     "user_tz": -180
    },
    "id": "e_w3KKwylMyZ",
    "outputId": "6683a069-e042-4f01-9a14-d8f04169f6d2"
   },
   "outputs": [
    {
     "data": {
      "text/plain": [
       "0"
      ]
     },
     "execution_count": 18,
     "metadata": {
      "tags": []
     },
     "output_type": "execute_result"
    }
   ],
   "source": [
    "#Нет ли у нас людей записаных под несколькими id\n",
    "users[['first_name', 'last_name']].duplicated().sum()"
   ]
  },
  {
   "cell_type": "markdown",
   "metadata": {
    "id": "6hRPHhv-lEs3"
   },
   "source": [
    "Вроде тут все ок."
   ]
  },
  {
   "cell_type": "code",
   "execution_count": 19,
   "metadata": {
    "colab": {
     "base_uri": "https://localhost:8080/",
     "height": 35
    },
    "executionInfo": {
     "elapsed": 14025,
     "status": "ok",
     "timestamp": 1602256751929,
     "user": {
      "displayName": "Eugene Puninskiy",
      "photoUrl": "https://lh3.googleusercontent.com/a-/AOh14Gg7VvTZjgiAHFG2tTBqY9aSHC2Bal55-nPnXXzzL-c=s64",
      "userId": "07244295768072477419"
     },
     "user_tz": -180
    },
    "id": "G5fNDk4_Zdxe",
    "outputId": "cca327f5-e010-4592-afba-268f65c1a08e"
   },
   "outputs": [
    {
     "data": {
      "text/plain": [
       "Timestamp('2018-12-31 00:00:00')"
      ]
     },
     "execution_count": 19,
     "metadata": {
      "tags": []
     },
     "output_type": "execute_result"
    }
   ],
   "source": [
    "users['reg_date'].min()\n",
    "users['reg_date'].max()"
   ]
  },
  {
   "cell_type": "markdown",
   "metadata": {
    "id": "s_SRWCrk4n9y"
   },
   "source": [
    "### Calls"
   ]
  },
  {
   "cell_type": "code",
   "execution_count": 21,
   "metadata": {
    "colab": {
     "base_uri": "https://localhost:8080/",
     "height": 35
    },
    "executionInfo": {
     "elapsed": 13918,
     "status": "ok",
     "timestamp": 1602256751939,
     "user": {
      "displayName": "Eugene Puninskiy",
      "photoUrl": "https://lh3.googleusercontent.com/a-/AOh14Gg7VvTZjgiAHFG2tTBqY9aSHC2Bal55-nPnXXzzL-c=s64",
      "userId": "07244295768072477419"
     },
     "user_tz": -180
    },
    "id": "3gJ7Q8Lfl8EV",
    "outputId": "a4bbeb03-d234-4ee8-f5ac-f7e2c6edbfd3"
   },
   "outputs": [
    {
     "data": {
      "text/plain": [
       "492"
      ]
     },
     "execution_count": 21,
     "metadata": {
      "tags": []
     },
     "output_type": "execute_result"
    }
   ],
   "source": [
    "# Проверяем действительно у нас 500 уникальных id\n",
    "len(calls.user_id.unique())"
   ]
  },
  {
   "cell_type": "markdown",
   "metadata": {
    "id": "fvExMbdy5H_L"
   },
   "source": [
    "Видим, что **не все пользователи совершали звонки**. 8 не совершали.\n",
    "\n"
   ]
  },
  {
   "cell_type": "code",
   "execution_count": 22,
   "metadata": {
    "colab": {
     "base_uri": "https://localhost:8080/",
     "height": 179
    },
    "executionInfo": {
     "elapsed": 13855,
     "status": "ok",
     "timestamp": 1602256751943,
     "user": {
      "displayName": "Eugene Puninskiy",
      "photoUrl": "https://lh3.googleusercontent.com/a-/AOh14Gg7VvTZjgiAHFG2tTBqY9aSHC2Bal55-nPnXXzzL-c=s64",
      "userId": "07244295768072477419"
     },
     "user_tz": -180
    },
    "id": "FvELwWQ-5BzD",
    "outputId": "54f37500-1a58-44d4-ff23-4065c946590a"
   },
   "outputs": [
    {
     "data": {
      "text/plain": [
       "count    202607.000000\n",
       "mean          6.755887\n",
       "std           5.843365\n",
       "min           0.000000\n",
       "25%           1.300000\n",
       "50%           6.000000\n",
       "75%          10.700000\n",
       "max          38.000000\n",
       "Name: duration, dtype: float64"
      ]
     },
     "execution_count": 22,
     "metadata": {
      "tags": []
     },
     "output_type": "execute_result"
    }
   ],
   "source": [
    "calls.duration.describe()"
   ]
  },
  {
   "cell_type": "markdown",
   "metadata": {
    "id": "4Y4aL1kxEL95"
   },
   "source": [
    "Посмотрим также на распределение количества звонков по пользователям."
   ]
  },
  {
   "cell_type": "code",
   "execution_count": 23,
   "metadata": {
    "executionInfo": {
     "elapsed": 13810,
     "status": "ok",
     "timestamp": 1602256751944,
     "user": {
      "displayName": "Eugene Puninskiy",
      "photoUrl": "https://lh3.googleusercontent.com/a-/AOh14Gg7VvTZjgiAHFG2tTBqY9aSHC2Bal55-nPnXXzzL-c=s64",
      "userId": "07244295768072477419"
     },
     "user_tz": -180
    },
    "id": "37_91HYOItx-"
   },
   "outputs": [],
   "source": [
    "def plot_show(data, title):\n",
    "    plt.plot(data.index, data)\n",
    "    plt.title(title)\n",
    "    plt.grid(True)\n",
    "    return(plt.show())"
   ]
  },
  {
   "cell_type": "code",
   "execution_count": 24,
   "metadata": {
    "colab": {
     "base_uri": "https://localhost:8080/",
     "height": 281
    },
    "executionInfo": {
     "elapsed": 14420,
     "status": "ok",
     "timestamp": 1602256752600,
     "user": {
      "displayName": "Eugene Puninskiy",
      "photoUrl": "https://lh3.googleusercontent.com/a-/AOh14Gg7VvTZjgiAHFG2tTBqY9aSHC2Bal55-nPnXXzzL-c=s64",
      "userId": "07244295768072477419"
     },
     "user_tz": -180
    },
    "id": "eNZTeGc0EVQs",
    "outputId": "7c1b30b8-2555-46bf-ce48-cf51d0efe544"
   },
   "outputs": [
    {
     "data": {
      "image/png": "[encoded data removed]",
      "text/plain": [
       "<Figure size 432x288 with 1 Axes>"
      ]
     },
     "metadata": {
      "needs_background": "light",
      "tags": []
     },
     "output_type": "display_data"
    }
   ],
   "source": [
    "number_calls_per_user = calls.groupby('user_id')['id'].count()\n",
    "plot_show(number_calls_per_user, 'Количество звонков по пользователям')"
   ]
  },
  {
   "cell_type": "code",
   "execution_count": 25,
   "metadata": {
    "colab": {
     "base_uri": "https://localhost:8080/",
     "height": 179
    },
    "executionInfo": {
     "elapsed": 14365,
     "status": "ok",
     "timestamp": 1602256752602,
     "user": {
      "displayName": "Eugene Puninskiy",
      "photoUrl": "https://lh3.googleusercontent.com/a-/AOh14Gg7VvTZjgiAHFG2tTBqY9aSHC2Bal55-nPnXXzzL-c=s64",
      "userId": "07244295768072477419"
     },
     "user_tz": -180
    },
    "id": "0ya17quBE99H",
    "outputId": "a2572777-ddea-47f3-96d7-917021d538b7"
   },
   "outputs": [
    {
     "data": {
      "text/plain": [
       "count     492.000000\n",
       "mean      411.802846\n",
       "std       291.803375\n",
       "min        14.000000\n",
       "25%       180.000000\n",
       "50%       344.500000\n",
       "75%       589.500000\n",
       "max      1760.000000\n",
       "Name: id, dtype: float64"
      ]
     },
     "execution_count": 25,
     "metadata": {
      "tags": []
     },
     "output_type": "execute_result"
    }
   ],
   "source": [
    "number_calls_per_user.describe()"
   ]
  },
  {
   "cell_type": "code",
   "execution_count": 26,
   "metadata": {
    "colab": {
     "base_uri": "https://localhost:8080/",
     "height": 281
    },
    "executionInfo": {
     "elapsed": 15104,
     "status": "ok",
     "timestamp": 1602256753401,
     "user": {
      "displayName": "Eugene Puninskiy",
      "photoUrl": "https://lh3.googleusercontent.com/a-/AOh14Gg7VvTZjgiAHFG2tTBqY9aSHC2Bal55-nPnXXzzL-c=s64",
      "userId": "07244295768072477419"
     },
     "user_tz": -180
    },
    "id": "3Pop1v_YFSqu",
    "outputId": "87281859-3e92-4aff-dc20-5f1c8bab6e86"
   },
   "outputs": [
    {
     "data": {
      "image/png": "[encoded data removed]",
      "text/plain": [
       "<Figure size 432x288 with 1 Axes>"
      ]
     },
     "metadata": {
      "needs_background": "light",
      "tags": []
     },
     "output_type": "display_data"
    }
   ],
   "source": [
    "number_calls_per_user.hist(bins=50)\n",
    "plt.grid(True)\n",
    "plt.title('Количество звонков для каждого пользователя')\n",
    "plt.show()\n"
   ]
  },
  {
   "cell_type": "markdown",
   "metadata": {
    "id": "SrB0NKSBGUyM"
   },
   "source": [
    "Видим, что распределение сильно скошено вправо. Медиана примерно 344 звонка на пользователя."
   ]
  },
  {
   "cell_type": "code",
   "execution_count": 27,
   "metadata": {
    "colab": {
     "base_uri": "https://localhost:8080/",
     "height": 281
    },
    "executionInfo": {
     "elapsed": 15028,
     "status": "ok",
     "timestamp": 1602256753403,
     "user": {
      "displayName": "Eugene Puninskiy",
      "photoUrl": "https://lh3.googleusercontent.com/a-/AOh14Gg7VvTZjgiAHFG2tTBqY9aSHC2Bal55-nPnXXzzL-c=s64",
      "userId": "07244295768072477419"
     },
     "user_tz": -180
    },
    "id": "72mQYfhP6WHT",
    "outputId": "cc431e45-19d0-4c3a-a6a4-d488339f463f"
   },
   "outputs": [
    {
     "data": {
      "image/png": "[encoded data removed]",
      "text/plain": [
       "<Figure size 432x288 with 1 Axes>"
      ]
     },
     "metadata": {
      "needs_background": "light",
      "tags": []
     },
     "output_type": "display_data"
    }
   ],
   "source": [
    "def hist_show(hist_data, title, bins, range):\n",
    "    #Получает: cтолбец, название параметра, количество корзин, range\n",
    "    #Возвращает: гистограмму\n",
    "    plt.hist(hist_data, bins=bins, range=range)\n",
    "    plt.title(title)\n",
    "    #plt.legend()\n",
    "    plt.grid()\n",
    "    return(plt.show())\n",
    "             \n",
    "hist_show(calls['duration'], 'Длительность звонков, мин', 30, None)"
   ]
  },
  {
   "cell_type": "code",
   "execution_count": 28,
   "metadata": {
    "colab": {
     "base_uri": "https://localhost:8080/",
     "height": 281
    },
    "executionInfo": {
     "elapsed": 14976,
     "status": "ok",
     "timestamp": 1602256753404,
     "user": {
      "displayName": "Eugene Puninskiy",
      "photoUrl": "https://lh3.googleusercontent.com/a-/AOh14Gg7VvTZjgiAHFG2tTBqY9aSHC2Bal55-nPnXXzzL-c=s64",
      "userId": "07244295768072477419"
     },
     "user_tz": -180
    },
    "id": "CKBn13wX6O22",
    "outputId": "6e7aeae4-e8fc-4d34-9c1b-bd756db1b3e0"
   },
   "outputs": [
    {
     "data": {
      "image/png": "[encoded data removed]",
      "text/plain": [
       "<Figure size 432x288 with 1 Axes>"
      ]
     },
     "metadata": {
      "needs_background": "light",
      "tags": []
     },
     "output_type": "display_data"
    }
   ],
   "source": [
    "def box_plot_show(box_plot_data, title, ymin, ymax):\n",
    "    #Получает: столбец, название, мин и макс по оси y\n",
    "    #Возвращает box-plot для заданных значений\n",
    "    plt.boxplot(box_plot_data)\n",
    "    axes = plt.gca()\n",
    "    #axes.set_xlim([xmin,xmax])\n",
    "    axes.set_ylim([ymin,ymax])\n",
    "    plt.title(title)\n",
    "    plt.grid(True)\n",
    "    return(plt.show())\n",
    "\n",
    "box_plot_show(calls['duration'], 'Длительность звонков, мин', 0, 38)"
   ]
  },
  {
   "cell_type": "markdown",
   "metadata": {
    "id": "3vsfdD6x5l8H"
   },
   "source": [
    "Видим колоссальное количество коротких звонков:"
   ]
  },
  {
   "cell_type": "code",
   "execution_count": 29,
   "metadata": {
    "colab": {
     "base_uri": "https://localhost:8080/",
     "height": 35
    },
    "executionInfo": {
     "elapsed": 14901,
     "status": "ok",
     "timestamp": 1602256753405,
     "user": {
      "displayName": "Eugene Puninskiy",
      "photoUrl": "https://lh3.googleusercontent.com/a-/AOh14Gg7VvTZjgiAHFG2tTBqY9aSHC2Bal55-nPnXXzzL-c=s64",
      "userId": "07244295768072477419"
     },
     "user_tz": -180
    },
    "id": "rAGIWXhA5aq8",
    "outputId": "d0639437-1ee9-434e-a42f-d434b2847aad"
   },
   "outputs": [
    {
     "data": {
      "text/plain": [
       "19.551644316336553"
      ]
     },
     "execution_count": 29,
     "metadata": {
      "tags": []
     },
     "output_type": "execute_result"
    }
   ],
   "source": [
    "len(calls.query('duration<=.0')['duration'])/len(calls) *100"
   ]
  },
  {
   "cell_type": "markdown",
   "metadata": {
    "id": "qlgy1SkZ6_TF"
   },
   "source": [
    "Ого! Целых 19,5% звонков длятся 0 минут 0 секунд. Это подозрительно. Может быть речь идет о сброшенных или неотвеченных звонках?"
   ]
  },
  {
   "cell_type": "code",
   "execution_count": 30,
   "metadata": {
    "colab": {
     "base_uri": "https://localhost:8080/",
     "height": 359
    },
    "executionInfo": {
     "elapsed": 14796,
     "status": "ok",
     "timestamp": 1602256753407,
     "user": {
      "displayName": "Eugene Puninskiy",
      "photoUrl": "https://lh3.googleusercontent.com/a-/AOh14Gg7VvTZjgiAHFG2tTBqY9aSHC2Bal55-nPnXXzzL-c=s64",
      "userId": "07244295768072477419"
     },
     "user_tz": -180
    },
    "id": "rszxIB5f7JQ8",
    "outputId": "c173bc31-d45b-4bfd-d947-4c271aac47d5"
   },
   "outputs": [
    {
     "data": {
      "text/html": [
       "<div>\n",
       "<style scoped>\n",
       "    .dataframe tbody tr th:only-of-type {\n",
       "        vertical-align: middle;\n",
       "    }\n",
       "\n",
       "    .dataframe tbody tr th {\n",
       "        vertical-align: top;\n",
       "    }\n",
       "\n",
       "    .dataframe thead th {\n",
       "        text-align: right;\n",
       "    }\n",
       "</style>\n",
       "<table border=\"1\" class=\"dataframe\">\n",
       "  <thead>\n",
       "    <tr style=\"text-align: right;\">\n",
       "      <th></th>\n",
       "      <th>id</th>\n",
       "      <th>call_date</th>\n",
       "      <th>duration</th>\n",
       "      <th>user_id</th>\n",
       "      <th>zero_duration</th>\n",
       "    </tr>\n",
       "  </thead>\n",
       "  <tbody>\n",
       "    <tr>\n",
       "      <th>0</th>\n",
       "      <td>1000_0</td>\n",
       "      <td>2018-07-25</td>\n",
       "      <td>0.00</td>\n",
       "      <td>1000</td>\n",
       "      <td>True</td>\n",
       "    </tr>\n",
       "    <tr>\n",
       "      <th>1</th>\n",
       "      <td>1000_1</td>\n",
       "      <td>2018-08-17</td>\n",
       "      <td>0.00</td>\n",
       "      <td>1000</td>\n",
       "      <td>True</td>\n",
       "    </tr>\n",
       "    <tr>\n",
       "      <th>2</th>\n",
       "      <td>1000_2</td>\n",
       "      <td>2018-06-11</td>\n",
       "      <td>2.85</td>\n",
       "      <td>1000</td>\n",
       "      <td>False</td>\n",
       "    </tr>\n",
       "    <tr>\n",
       "      <th>3</th>\n",
       "      <td>1000_3</td>\n",
       "      <td>2018-09-21</td>\n",
       "      <td>13.80</td>\n",
       "      <td>1000</td>\n",
       "      <td>False</td>\n",
       "    </tr>\n",
       "    <tr>\n",
       "      <th>4</th>\n",
       "      <td>1000_4</td>\n",
       "      <td>2018-12-15</td>\n",
       "      <td>5.18</td>\n",
       "      <td>1000</td>\n",
       "      <td>False</td>\n",
       "    </tr>\n",
       "    <tr>\n",
       "      <th>5</th>\n",
       "      <td>1000_5</td>\n",
       "      <td>2018-11-02</td>\n",
       "      <td>0.00</td>\n",
       "      <td>1000</td>\n",
       "      <td>True</td>\n",
       "    </tr>\n",
       "    <tr>\n",
       "      <th>6</th>\n",
       "      <td>1000_6</td>\n",
       "      <td>2018-10-18</td>\n",
       "      <td>0.00</td>\n",
       "      <td>1000</td>\n",
       "      <td>True</td>\n",
       "    </tr>\n",
       "    <tr>\n",
       "      <th>7</th>\n",
       "      <td>1000_7</td>\n",
       "      <td>2018-08-22</td>\n",
       "      <td>18.31</td>\n",
       "      <td>1000</td>\n",
       "      <td>False</td>\n",
       "    </tr>\n",
       "    <tr>\n",
       "      <th>8</th>\n",
       "      <td>1000_8</td>\n",
       "      <td>2018-09-15</td>\n",
       "      <td>18.44</td>\n",
       "      <td>1000</td>\n",
       "      <td>False</td>\n",
       "    </tr>\n",
       "    <tr>\n",
       "      <th>9</th>\n",
       "      <td>1000_9</td>\n",
       "      <td>2018-08-15</td>\n",
       "      <td>0.00</td>\n",
       "      <td>1000</td>\n",
       "      <td>True</td>\n",
       "    </tr>\n",
       "  </tbody>\n",
       "</table>\n",
       "</div>"
      ],
      "text/plain": [
       "       id  call_date  duration  user_id  zero_duration\n",
       "0  1000_0 2018-07-25      0.00     1000           True\n",
       "1  1000_1 2018-08-17      0.00     1000           True\n",
       "2  1000_2 2018-06-11      2.85     1000          False\n",
       "3  1000_3 2018-09-21     13.80     1000          False\n",
       "4  1000_4 2018-12-15      5.18     1000          False\n",
       "5  1000_5 2018-11-02      0.00     1000           True\n",
       "6  1000_6 2018-10-18      0.00     1000           True\n",
       "7  1000_7 2018-08-22     18.31     1000          False\n",
       "8  1000_8 2018-09-15     18.44     1000          False\n",
       "9  1000_9 2018-08-15      0.00     1000           True"
      ]
     },
     "execution_count": 30,
     "metadata": {
      "tags": []
     },
     "output_type": "execute_result"
    }
   ],
   "source": [
    "calls['zero_duration']  = np.where(calls['duration']<=.0, True, False)\n",
    "calls.head(10)"
   ]
  },
  {
   "cell_type": "code",
   "execution_count": 31,
   "metadata": {
    "colab": {
     "base_uri": "https://localhost:8080/",
     "height": 233
    },
    "executionInfo": {
     "elapsed": 14756,
     "status": "ok",
     "timestamp": 1602256753408,
     "user": {
      "displayName": "Eugene Puninskiy",
      "photoUrl": "https://lh3.googleusercontent.com/a-/AOh14Gg7VvTZjgiAHFG2tTBqY9aSHC2Bal55-nPnXXzzL-c=s64",
      "userId": "07244295768072477419"
     },
     "user_tz": -180
    },
    "id": "98PKc6h98_vu",
    "outputId": "47f4e38d-4448-48c6-e533-c59dd803cca1"
   },
   "outputs": [
    {
     "data": {
      "text/plain": [
       "1377    336\n",
       "1168    308\n",
       "1453    295\n",
       "1375    290\n",
       "1196    262\n",
       "       ... \n",
       "1016      6\n",
       "1084      5\n",
       "1406      5\n",
       "1424      5\n",
       "1442      5\n",
       "Name: user_id, Length: 492, dtype: int64"
      ]
     },
     "execution_count": 31,
     "metadata": {
      "tags": []
     },
     "output_type": "execute_result"
    }
   ],
   "source": [
    "#Проверяем, сколько нулевых звонков у каждого абонента\n",
    "calls.query('zero_duration == True')['user_id'].value_counts()"
   ]
  },
  {
   "cell_type": "markdown",
   "metadata": {
    "id": "nDKwIalK-P6Z"
   },
   "source": [
    "Видим, что все пользователи в общем-то совершали нулевые звонки.\n",
    "\n",
    "Интересно посмотреть на проценты таких звонков по пользователям."
   ]
  },
  {
   "cell_type": "code",
   "execution_count": 32,
   "metadata": {
    "colab": {
     "base_uri": "https://localhost:8080/",
     "height": 281
    },
    "executionInfo": {
     "elapsed": 14657,
     "status": "ok",
     "timestamp": 1602256753409,
     "user": {
      "displayName": "Eugene Puninskiy",
      "photoUrl": "https://lh3.googleusercontent.com/a-/AOh14Gg7VvTZjgiAHFG2tTBqY9aSHC2Bal55-nPnXXzzL-c=s64",
      "userId": "07244295768072477419"
     },
     "user_tz": -180
    },
    "id": "BXWGWXe19fpa",
    "outputId": "31b02281-cb7f-4e59-f3b0-9d52c10d4465"
   },
   "outputs": [
    {
     "data": {
      "image/png": "[encoded data removed]",
      "text/plain": [
       "<Figure size 432x288 with 1 Axes>"
      ]
     },
     "metadata": {
      "needs_background": "light",
      "tags": []
     },
     "output_type": "display_data"
    }
   ],
   "source": [
    "user_zero_calls_distr = calls.query('zero_duration == True')['user_id'].value_counts() / calls['user_id'].value_counts() * 100\n",
    "user_zero_calls_distr.plot()\n",
    "plt.grid(True)\n",
    "plt.title('Процент нулевых звонков у каждого пользователя')\n",
    "plt.show()"
   ]
  },
  {
   "cell_type": "code",
   "execution_count": 33,
   "metadata": {
    "colab": {
     "base_uri": "https://localhost:8080/",
     "height": 281
    },
    "executionInfo": {
     "elapsed": 15664,
     "status": "ok",
     "timestamp": 1602256754460,
     "user": {
      "displayName": "Eugene Puninskiy",
      "photoUrl": "https://lh3.googleusercontent.com/a-/AOh14Gg7VvTZjgiAHFG2tTBqY9aSHC2Bal55-nPnXXzzL-c=s64",
      "userId": "07244295768072477419"
     },
     "user_tz": -180
    },
    "id": "NbgkSQWI_Kg7",
    "outputId": "e673797a-d4c0-4c96-ee61-063c6877c668"
   },
   "outputs": [
    {
     "data": {
      "image/png": "[encoded data removed]",
      "text/plain": [
       "<Figure size 432x288 with 1 Axes>"
      ]
     },
     "metadata": {
      "needs_background": "light",
      "tags": []
     },
     "output_type": "display_data"
    }
   ],
   "source": [
    "box_plot_show(user_zero_calls_distr, 'Процент нулевых звонков у каждого пользователя', 0, 51)"
   ]
  },
  {
   "cell_type": "code",
   "execution_count": 34,
   "metadata": {
    "colab": {
     "base_uri": "https://localhost:8080/",
     "height": 179
    },
    "executionInfo": {
     "elapsed": 15595,
     "status": "ok",
     "timestamp": 1602256754463,
     "user": {
      "displayName": "Eugene Puninskiy",
      "photoUrl": "https://lh3.googleusercontent.com/a-/AOh14Gg7VvTZjgiAHFG2tTBqY9aSHC2Bal55-nPnXXzzL-c=s64",
      "userId": "07244295768072477419"
     },
     "user_tz": -180
    },
    "id": "hP33KBQjOtq3",
    "outputId": "7a22d51c-f4c5-4cc0-84d5-4d560acd10e5"
   },
   "outputs": [
    {
     "data": {
      "text/plain": [
       "count    492.000000\n",
       "mean      19.612180\n",
       "std        2.950837\n",
       "min        8.771930\n",
       "25%       18.086354\n",
       "50%       19.565217\n",
       "75%       20.926871\n",
       "max       50.000000\n",
       "Name: user_id, dtype: float64"
      ]
     },
     "execution_count": 34,
     "metadata": {
      "tags": []
     },
     "output_type": "execute_result"
    }
   ],
   "source": [
    "user_zero_calls_distr.describe()"
   ]
  },
  {
   "cell_type": "markdown",
   "metadata": {
    "id": "AFH5_GWOOQHb"
   },
   "source": [
    "Получается, что у большинства пользователей процент нулевых звонков колеблется в пределах 15-25%. Однако, есть несколько пользователей с большим процентом, а также один пользователь с 50%.\n",
    "\n",
    "Можно узнать, кто это:\n"
   ]
  },
  {
   "cell_type": "code",
   "execution_count": 35,
   "metadata": {
    "colab": {
     "base_uri": "https://localhost:8080/",
     "height": 98
    },
    "executionInfo": {
     "elapsed": 15521,
     "status": "ok",
     "timestamp": 1602256754465,
     "user": {
      "displayName": "Eugene Puninskiy",
      "photoUrl": "https://lh3.googleusercontent.com/a-/AOh14Gg7VvTZjgiAHFG2tTBqY9aSHC2Bal55-nPnXXzzL-c=s64",
      "userId": "07244295768072477419"
     },
     "user_tz": -180
    },
    "id": "-H9uA4g2AFQp",
    "outputId": "a6889a25-86f4-4843-940f-6de571e32eeb"
   },
   "outputs": [
    {
     "data": {
      "text/plain": [
       "1257"
      ]
     },
     "metadata": {
      "tags": []
     },
     "output_type": "display_data"
    },
    {
     "data": {
      "text/html": [
       "<div>\n",
       "<style scoped>\n",
       "    .dataframe tbody tr th:only-of-type {\n",
       "        vertical-align: middle;\n",
       "    }\n",
       "\n",
       "    .dataframe tbody tr th {\n",
       "        vertical-align: top;\n",
       "    }\n",
       "\n",
       "    .dataframe thead th {\n",
       "        text-align: right;\n",
       "    }\n",
       "</style>\n",
       "<table border=\"1\" class=\"dataframe\">\n",
       "  <thead>\n",
       "    <tr style=\"text-align: right;\">\n",
       "      <th></th>\n",
       "      <th>user_id</th>\n",
       "      <th>age</th>\n",
       "      <th>churn_date</th>\n",
       "      <th>city</th>\n",
       "      <th>first_name</th>\n",
       "      <th>last_name</th>\n",
       "      <th>reg_date</th>\n",
       "      <th>tariff</th>\n",
       "    </tr>\n",
       "  </thead>\n",
       "  <tbody>\n",
       "    <tr>\n",
       "      <th>257</th>\n",
       "      <td>1257</td>\n",
       "      <td>21</td>\n",
       "      <td>2018-12-31</td>\n",
       "      <td>Санкт-Петербург</td>\n",
       "      <td>Габриель</td>\n",
       "      <td>Жданов</td>\n",
       "      <td>2018-06-17</td>\n",
       "      <td>ultra</td>\n",
       "    </tr>\n",
       "  </tbody>\n",
       "</table>\n",
       "</div>"
      ],
      "text/plain": [
       "     user_id  age churn_date  ... last_name   reg_date tariff\n",
       "257     1257   21 2018-12-31  ...    Жданов 2018-06-17  ultra\n",
       "\n",
       "[1 rows x 8 columns]"
      ]
     },
     "execution_count": 35,
     "metadata": {
      "tags": []
     },
     "output_type": "execute_result"
    }
   ],
   "source": [
    "id_50zerocalls = user_zero_calls_distr[user_zero_calls_distr == 50].index[0]\n",
    "display(id_50zerocalls)\n",
    "users.query('user_id == @id_50zerocalls')"
   ]
  },
  {
   "cell_type": "markdown",
   "metadata": {
    "id": "v40s8oBtVDw9"
   },
   "source": [
    "Из всего увиденного и посчитанного выше можно сделать вывод, что **процент нулевых звонков весьма однородно распределен в нашей популяции**. Нужно заметить, что данные звонки никак не тарифицируются по нашим двум тарифам.\n",
    "\n",
    "Посмотрим на распределение количества звонков по пользователям, если отбросить нулевые длительности."
   ]
  },
  {
   "cell_type": "code",
   "execution_count": 36,
   "metadata": {
    "colab": {
     "base_uri": "https://localhost:8080/",
     "height": 296
    },
    "executionInfo": {
     "elapsed": 15455,
     "status": "ok",
     "timestamp": 1602256754468,
     "user": {
      "displayName": "Eugene Puninskiy",
      "photoUrl": "https://lh3.googleusercontent.com/a-/AOh14Gg7VvTZjgiAHFG2tTBqY9aSHC2Bal55-nPnXXzzL-c=s64",
      "userId": "07244295768072477419"
     },
     "user_tz": -180
    },
    "id": "wLPyKGiqWlEZ",
    "outputId": "3929d290-360a-455c-9734-c84cdf006ddc"
   },
   "outputs": [
    {
     "data": {
      "image/png": "[encoded data removed]",
      "text/plain": [
       "<Figure size 432x288 with 1 Axes>"
      ]
     },
     "metadata": {
      "needs_background": "light",
      "tags": []
     },
     "output_type": "display_data"
    }
   ],
   "source": [
    "number_goodcalls_per_user = calls.query('zero_duration == False').groupby('user_id')['id'].count()\n",
    "number_goodcalls_per_user.plot()\n",
    "plt.title('Число ненулевых звонков для каждого абонента')\n",
    "plt.grid(True)\n",
    "plt.show()"
   ]
  },
  {
   "cell_type": "code",
   "execution_count": 37,
   "metadata": {
    "colab": {
     "base_uri": "https://localhost:8080/",
     "height": 281
    },
    "executionInfo": {
     "elapsed": 15394,
     "status": "ok",
     "timestamp": 1602256754470,
     "user": {
      "displayName": "Eugene Puninskiy",
      "photoUrl": "https://lh3.googleusercontent.com/a-/AOh14Gg7VvTZjgiAHFG2tTBqY9aSHC2Bal55-nPnXXzzL-c=s64",
      "userId": "07244295768072477419"
     },
     "user_tz": -180
    },
    "id": "_sUe0C94Hs4m",
    "outputId": "1ccc7f97-9fe5-46d2-e505-a4ae47a62a1c"
   },
   "outputs": [
    {
     "data": {
      "image/png": "[encoded data removed]",
      "text/plain": [
       "<Figure size 432x288 with 1 Axes>"
      ]
     },
     "metadata": {
      "needs_background": "light",
      "tags": []
     },
     "output_type": "display_data"
    }
   ],
   "source": [
    "hist_show(number_goodcalls_per_user, 'Число ненулевых звонков для каждого абонента', 50, None)"
   ]
  },
  {
   "cell_type": "code",
   "execution_count": 38,
   "metadata": {
    "colab": {
     "base_uri": "https://localhost:8080/",
     "height": 179
    },
    "executionInfo": {
     "elapsed": 15300,
     "status": "ok",
     "timestamp": 1602256754472,
     "user": {
      "displayName": "Eugene Puninskiy",
      "photoUrl": "https://lh3.googleusercontent.com/a-/AOh14Gg7VvTZjgiAHFG2tTBqY9aSHC2Bal55-nPnXXzzL-c=s64",
      "userId": "07244295768072477419"
     },
     "user_tz": -180
    },
    "id": "ere-toktIAtH",
    "outputId": "5abc8638-ea0f-4d7e-cf23-b1ffcb36e62b"
   },
   "outputs": [
    {
     "data": {
      "text/plain": [
       "count     492.000000\n",
       "mean      331.288618\n",
       "std       235.075925\n",
       "min         7.000000\n",
       "25%       143.750000\n",
       "50%       277.500000\n",
       "75%       473.250000\n",
       "max      1424.000000\n",
       "Name: id, dtype: float64"
      ]
     },
     "execution_count": 38,
     "metadata": {
      "tags": []
     },
     "output_type": "execute_result"
    }
   ],
   "source": [
    "number_goodcalls_per_user.describe()"
   ]
  },
  {
   "cell_type": "markdown",
   "metadata": {
    "id": "xV0tP6LrIMuQ"
   },
   "source": [
    "В целом, общая картина распределения количества звонков не особо поменялась при отбрасывании нулевых звонков. Вероятно, **будем работать с данными без них**."
   ]
  },
  {
   "cell_type": "markdown",
   "metadata": {
    "id": "RXaHoqhIZNY6"
   },
   "source": [
    "### Messages"
   ]
  },
  {
   "cell_type": "code",
   "execution_count": 40,
   "metadata": {
    "colab": {
     "base_uri": "https://localhost:8080/",
     "height": 35
    },
    "executionInfo": {
     "elapsed": 15137,
     "status": "ok",
     "timestamp": 1602256754476,
     "user": {
      "displayName": "Eugene Puninskiy",
      "photoUrl": "https://lh3.googleusercontent.com/a-/AOh14Gg7VvTZjgiAHFG2tTBqY9aSHC2Bal55-nPnXXzzL-c=s64",
      "userId": "07244295768072477419"
     },
     "user_tz": -180
    },
    "id": "0wOc4KqDZZo1",
    "outputId": "b335ac3f-3aa3-4e07-e8a1-2fc1e2fa4512"
   },
   "outputs": [
    {
     "data": {
      "text/plain": [
       "426"
      ]
     },
     "execution_count": 40,
     "metadata": {
      "tags": []
     },
     "output_type": "execute_result"
    }
   ],
   "source": [
    "# Проверяем действительно у нас 500 уникальных id\n",
    "len(messages['user_id'].unique())"
   ]
  },
  {
   "cell_type": "markdown",
   "metadata": {
    "id": "hTp0kKAsZpVg"
   },
   "source": [
    "Видим, что **часть пользователей (74 человека) не посылали смс**. "
   ]
  },
  {
   "cell_type": "code",
   "execution_count": 41,
   "metadata": {
    "colab": {
     "base_uri": "https://localhost:8080/",
     "height": 281
    },
    "executionInfo": {
     "elapsed": 15690,
     "status": "ok",
     "timestamp": 1602256755123,
     "user": {
      "displayName": "Eugene Puninskiy",
      "photoUrl": "https://lh3.googleusercontent.com/a-/AOh14Gg7VvTZjgiAHFG2tTBqY9aSHC2Bal55-nPnXXzzL-c=s64",
      "userId": "07244295768072477419"
     },
     "user_tz": -180
    },
    "id": "ELMGmH4GDoKu",
    "outputId": "40f734a2-976b-4c9d-abc3-49e5b2b930bc"
   },
   "outputs": [
    {
     "data": {
      "image/png": "[encoded data removed]",
      "text/plain": [
       "<Figure size 432x288 with 1 Axes>"
      ]
     },
     "metadata": {
      "needs_background": "light",
      "tags": []
     },
     "output_type": "display_data"
    }
   ],
   "source": [
    "sms_per_user = messages.groupby('user_id')['id'].count()\n",
    "plot_show(sms_per_user, 'Количество смс по абонентам')"
   ]
  },
  {
   "cell_type": "code",
   "execution_count": 42,
   "metadata": {
    "colab": {
     "base_uri": "https://localhost:8080/",
     "height": 281
    },
    "executionInfo": {
     "elapsed": 15620,
     "status": "ok",
     "timestamp": 1602256755137,
     "user": {
      "displayName": "Eugene Puninskiy",
      "photoUrl": "https://lh3.googleusercontent.com/a-/AOh14Gg7VvTZjgiAHFG2tTBqY9aSHC2Bal55-nPnXXzzL-c=s64",
      "userId": "07244295768072477419"
     },
     "user_tz": -180
    },
    "id": "TY67FxYPD8gL",
    "outputId": "1f1b27f7-582c-4ef3-d989-7b25d4e0c437"
   },
   "outputs": [
    {
     "data": {
      "image/png": "[encoded data removed]",
      "text/plain": [
       "<Figure size 432x288 with 1 Axes>"
      ]
     },
     "metadata": {
      "needs_background": "light",
      "tags": []
     },
     "output_type": "display_data"
    }
   ],
   "source": [
    "hist_show(sms_per_user, 'Количество смс по абонентам', 50, None)"
   ]
  },
  {
   "cell_type": "code",
   "execution_count": 43,
   "metadata": {
    "colab": {
     "base_uri": "https://localhost:8080/",
     "height": 179
    },
    "executionInfo": {
     "elapsed": 15522,
     "status": "ok",
     "timestamp": 1602256755139,
     "user": {
      "displayName": "Eugene Puninskiy",
      "photoUrl": "https://lh3.googleusercontent.com/a-/AOh14Gg7VvTZjgiAHFG2tTBqY9aSHC2Bal55-nPnXXzzL-c=s64",
      "userId": "07244295768072477419"
     },
     "user_tz": -180
    },
    "id": "etUS0aAeJ0-M",
    "outputId": "2dd03c16-f4dc-4330-9ba9-8d5f03d72d95"
   },
   "outputs": [
    {
     "data": {
      "text/plain": [
       "count     426.000000\n",
       "mean      288.816901\n",
       "std       267.607552\n",
       "min         1.000000\n",
       "25%        85.750000\n",
       "50%       215.500000\n",
       "75%       414.000000\n",
       "max      1463.000000\n",
       "Name: id, dtype: float64"
      ]
     },
     "execution_count": 43,
     "metadata": {
      "tags": []
     },
     "output_type": "execute_result"
    }
   ],
   "source": [
    "sms_per_user.describe()"
   ]
  },
  {
   "cell_type": "markdown",
   "metadata": {
    "id": "vBJkUbdNKELj"
   },
   "source": [
    "Видим, что **в среднем посылают по 215 (медиана) сообщений**."
   ]
  },
  {
   "cell_type": "markdown",
   "metadata": {
    "id": "6ZnUgMAuKl4u"
   },
   "source": [
    "### Internet"
   ]
  },
  {
   "cell_type": "code",
   "execution_count": 45,
   "metadata": {
    "colab": {
     "base_uri": "https://localhost:8080/",
     "height": 35
    },
    "executionInfo": {
     "elapsed": 15414,
     "status": "ok",
     "timestamp": 1602256755141,
     "user": {
      "displayName": "Eugene Puninskiy",
      "photoUrl": "https://lh3.googleusercontent.com/a-/AOh14Gg7VvTZjgiAHFG2tTBqY9aSHC2Bal55-nPnXXzzL-c=s64",
      "userId": "07244295768072477419"
     },
     "user_tz": -180
    },
    "id": "ylRbiR-5KrSn",
    "outputId": "80adcd22-5765-4f4f-9779-80f584ef4dcc"
   },
   "outputs": [
    {
     "data": {
      "text/plain": [
       "497"
      ]
     },
     "execution_count": 45,
     "metadata": {
      "tags": []
     },
     "output_type": "execute_result"
    }
   ],
   "source": [
    "# Проверяем действительно у нас 500 уникальных id\n",
    "len(internet['user_id'].unique())"
   ]
  },
  {
   "cell_type": "markdown",
   "metadata": {
    "id": "RxfKtPFNK26s"
   },
   "source": [
    "**3 человека не используют интернет.** Хорошо им!"
   ]
  },
  {
   "cell_type": "markdown",
   "metadata": {
    "id": "hKll_yFRMBzN"
   },
   "source": [
    "Посмотрим на расход трафика:"
   ]
  },
  {
   "cell_type": "code",
   "execution_count": 46,
   "metadata": {
    "colab": {
     "base_uri": "https://localhost:8080/",
     "height": 281
    },
    "executionInfo": {
     "elapsed": 15299,
     "status": "ok",
     "timestamp": 1602256755143,
     "user": {
      "displayName": "Eugene Puninskiy",
      "photoUrl": "https://lh3.googleusercontent.com/a-/AOh14Gg7VvTZjgiAHFG2tTBqY9aSHC2Bal55-nPnXXzzL-c=s64",
      "userId": "07244295768072477419"
     },
     "user_tz": -180
    },
    "id": "aGcHEdSjLOZv",
    "outputId": "34c0bcec-0382-4b58-834e-99e0e13b44ab"
   },
   "outputs": [
    {
     "data": {
      "image/png": "[encoded data removed]",
      "text/plain": [
       "<Figure size 432x288 with 1 Axes>"
      ]
     },
     "metadata": {
      "needs_background": "light",
      "tags": []
     },
     "output_type": "display_data"
    }
   ],
   "source": [
    "hist_show(internet['mb_used'],'Расход трафика за сессию, мб', 50, None)"
   ]
  },
  {
   "cell_type": "markdown",
   "metadata": {
    "id": "QEqLuNWQMWR2"
   },
   "source": [
    "Огромный пик у нуля. Посмотрим на нулевые значения:"
   ]
  },
  {
   "cell_type": "code",
   "execution_count": 47,
   "metadata": {
    "colab": {
     "base_uri": "https://localhost:8080/",
     "height": 35
    },
    "executionInfo": {
     "elapsed": 15217,
     "status": "ok",
     "timestamp": 1602256755145,
     "user": {
      "displayName": "Eugene Puninskiy",
      "photoUrl": "https://lh3.googleusercontent.com/a-/AOh14Gg7VvTZjgiAHFG2tTBqY9aSHC2Bal55-nPnXXzzL-c=s64",
      "userId": "07244295768072477419"
     },
     "user_tz": -180
    },
    "id": "lvwTN40RL_om",
    "outputId": "89f45632-607e-4b80-fd19-3670feb78ab7"
   },
   "outputs": [
    {
     "data": {
      "text/plain": [
       "13.118155773916303"
      ]
     },
     "execution_count": 47,
     "metadata": {
      "tags": []
     },
     "output_type": "execute_result"
    }
   ],
   "source": [
    "len(internet.query('mb_used == .0'))/len(internet) * 100"
   ]
  },
  {
   "cell_type": "markdown",
   "metadata": {
    "id": "IPBs9HAOdPbw"
   },
   "source": [
    "13.1%! Это какие-то сессии, где выход в интернет был, а скачано ничего не было. Странно."
   ]
  },
  {
   "cell_type": "code",
   "execution_count": 48,
   "metadata": {
    "colab": {
     "base_uri": "https://localhost:8080/",
     "height": 359
    },
    "executionInfo": {
     "elapsed": 15160,
     "status": "ok",
     "timestamp": 1602256755148,
     "user": {
      "displayName": "Eugene Puninskiy",
      "photoUrl": "https://lh3.googleusercontent.com/a-/AOh14Gg7VvTZjgiAHFG2tTBqY9aSHC2Bal55-nPnXXzzL-c=s64",
      "userId": "07244295768072477419"
     },
     "user_tz": -180
    },
    "id": "fwJLYUxFc5ic",
    "outputId": "16b24fd8-4a24-4ca7-d1f8-7c4b3144277c"
   },
   "outputs": [
    {
     "data": {
      "text/html": [
       "<div>\n",
       "<style scoped>\n",
       "    .dataframe tbody tr th:only-of-type {\n",
       "        vertical-align: middle;\n",
       "    }\n",
       "\n",
       "    .dataframe tbody tr th {\n",
       "        vertical-align: top;\n",
       "    }\n",
       "\n",
       "    .dataframe thead th {\n",
       "        text-align: right;\n",
       "    }\n",
       "</style>\n",
       "<table border=\"1\" class=\"dataframe\">\n",
       "  <thead>\n",
       "    <tr style=\"text-align: right;\">\n",
       "      <th></th>\n",
       "      <th>id</th>\n",
       "      <th>mb_used</th>\n",
       "      <th>session_date</th>\n",
       "      <th>user_id</th>\n",
       "      <th>zero_traffic</th>\n",
       "    </tr>\n",
       "  </thead>\n",
       "  <tbody>\n",
       "    <tr>\n",
       "      <th>0</th>\n",
       "      <td>1000_0</td>\n",
       "      <td>112.95</td>\n",
       "      <td>2018-11-25</td>\n",
       "      <td>1000</td>\n",
       "      <td>False</td>\n",
       "    </tr>\n",
       "    <tr>\n",
       "      <th>1</th>\n",
       "      <td>1000_1</td>\n",
       "      <td>1052.81</td>\n",
       "      <td>2018-09-07</td>\n",
       "      <td>1000</td>\n",
       "      <td>False</td>\n",
       "    </tr>\n",
       "    <tr>\n",
       "      <th>2</th>\n",
       "      <td>1000_2</td>\n",
       "      <td>1197.26</td>\n",
       "      <td>2018-06-25</td>\n",
       "      <td>1000</td>\n",
       "      <td>False</td>\n",
       "    </tr>\n",
       "    <tr>\n",
       "      <th>3</th>\n",
       "      <td>1000_3</td>\n",
       "      <td>550.27</td>\n",
       "      <td>2018-08-22</td>\n",
       "      <td>1000</td>\n",
       "      <td>False</td>\n",
       "    </tr>\n",
       "    <tr>\n",
       "      <th>4</th>\n",
       "      <td>1000_4</td>\n",
       "      <td>302.56</td>\n",
       "      <td>2018-09-24</td>\n",
       "      <td>1000</td>\n",
       "      <td>False</td>\n",
       "    </tr>\n",
       "    <tr>\n",
       "      <th>5</th>\n",
       "      <td>1000_5</td>\n",
       "      <td>399.97</td>\n",
       "      <td>2018-10-02</td>\n",
       "      <td>1000</td>\n",
       "      <td>False</td>\n",
       "    </tr>\n",
       "    <tr>\n",
       "      <th>6</th>\n",
       "      <td>1000_6</td>\n",
       "      <td>540.08</td>\n",
       "      <td>2018-09-07</td>\n",
       "      <td>1000</td>\n",
       "      <td>False</td>\n",
       "    </tr>\n",
       "    <tr>\n",
       "      <th>7</th>\n",
       "      <td>1000_7</td>\n",
       "      <td>415.70</td>\n",
       "      <td>2018-07-11</td>\n",
       "      <td>1000</td>\n",
       "      <td>False</td>\n",
       "    </tr>\n",
       "    <tr>\n",
       "      <th>8</th>\n",
       "      <td>1000_8</td>\n",
       "      <td>505.40</td>\n",
       "      <td>2018-10-08</td>\n",
       "      <td>1000</td>\n",
       "      <td>False</td>\n",
       "    </tr>\n",
       "    <tr>\n",
       "      <th>9</th>\n",
       "      <td>1000_9</td>\n",
       "      <td>345.54</td>\n",
       "      <td>2018-09-03</td>\n",
       "      <td>1000</td>\n",
       "      <td>False</td>\n",
       "    </tr>\n",
       "  </tbody>\n",
       "</table>\n",
       "</div>"
      ],
      "text/plain": [
       "       id  mb_used session_date  user_id  zero_traffic\n",
       "0  1000_0   112.95   2018-11-25     1000         False\n",
       "1  1000_1  1052.81   2018-09-07     1000         False\n",
       "2  1000_2  1197.26   2018-06-25     1000         False\n",
       "3  1000_3   550.27   2018-08-22     1000         False\n",
       "4  1000_4   302.56   2018-09-24     1000         False\n",
       "5  1000_5   399.97   2018-10-02     1000         False\n",
       "6  1000_6   540.08   2018-09-07     1000         False\n",
       "7  1000_7   415.70   2018-07-11     1000         False\n",
       "8  1000_8   505.40   2018-10-08     1000         False\n",
       "9  1000_9   345.54   2018-09-03     1000         False"
      ]
     },
     "execution_count": 48,
     "metadata": {
      "tags": []
     },
     "output_type": "execute_result"
    }
   ],
   "source": [
    "internet['zero_traffic']  = np.where(internet['mb_used']<=.0, True, False)\n",
    "internet.head(10)"
   ]
  },
  {
   "cell_type": "markdown",
   "metadata": {
    "id": "TZMUk7BMh9k4"
   },
   "source": [
    "## Вычисления основных параметров для каждого абонента"
   ]
  },
  {
   "cell_type": "markdown",
   "metadata": {
    "id": "N1NBVX_VCnLq"
   },
   "source": [
    "### Количество сделанных звонков и минуты разговора по месяцам."
   ]
  },
  {
   "cell_type": "code",
   "execution_count": 49,
   "metadata": {
    "colab": {
     "base_uri": "https://localhost:8080/",
     "height": 419
    },
    "executionInfo": {
     "elapsed": 15040,
     "status": "ok",
     "timestamp": 1602256755150,
     "user": {
      "displayName": "Eugene Puninskiy",
      "photoUrl": "https://lh3.googleusercontent.com/a-/AOh14Gg7VvTZjgiAHFG2tTBqY9aSHC2Bal55-nPnXXzzL-c=s64",
      "userId": "07244295768072477419"
     },
     "user_tz": -180
    },
    "id": "Mlbg3fZEh7I9",
    "outputId": "cfbd469b-2b89-4585-e47f-6a1a03af7d08"
   },
   "outputs": [
    {
     "data": {
      "text/html": [
       "<div>\n",
       "<style scoped>\n",
       "    .dataframe tbody tr th:only-of-type {\n",
       "        vertical-align: middle;\n",
       "    }\n",
       "\n",
       "    .dataframe tbody tr th {\n",
       "        vertical-align: top;\n",
       "    }\n",
       "\n",
       "    .dataframe thead th {\n",
       "        text-align: right;\n",
       "    }\n",
       "</style>\n",
       "<table border=\"1\" class=\"dataframe\">\n",
       "  <thead>\n",
       "    <tr style=\"text-align: right;\">\n",
       "      <th></th>\n",
       "      <th>id</th>\n",
       "      <th>call_date</th>\n",
       "      <th>duration</th>\n",
       "      <th>user_id</th>\n",
       "      <th>zero_duration</th>\n",
       "      <th>month</th>\n",
       "    </tr>\n",
       "  </thead>\n",
       "  <tbody>\n",
       "    <tr>\n",
       "      <th>0</th>\n",
       "      <td>1000_0</td>\n",
       "      <td>2018-07-25</td>\n",
       "      <td>0.00</td>\n",
       "      <td>1000</td>\n",
       "      <td>True</td>\n",
       "      <td>7</td>\n",
       "    </tr>\n",
       "    <tr>\n",
       "      <th>1</th>\n",
       "      <td>1000_1</td>\n",
       "      <td>2018-08-17</td>\n",
       "      <td>0.00</td>\n",
       "      <td>1000</td>\n",
       "      <td>True</td>\n",
       "      <td>8</td>\n",
       "    </tr>\n",
       "    <tr>\n",
       "      <th>2</th>\n",
       "      <td>1000_2</td>\n",
       "      <td>2018-06-11</td>\n",
       "      <td>2.85</td>\n",
       "      <td>1000</td>\n",
       "      <td>False</td>\n",
       "      <td>6</td>\n",
       "    </tr>\n",
       "    <tr>\n",
       "      <th>3</th>\n",
       "      <td>1000_3</td>\n",
       "      <td>2018-09-21</td>\n",
       "      <td>13.80</td>\n",
       "      <td>1000</td>\n",
       "      <td>False</td>\n",
       "      <td>9</td>\n",
       "    </tr>\n",
       "    <tr>\n",
       "      <th>4</th>\n",
       "      <td>1000_4</td>\n",
       "      <td>2018-12-15</td>\n",
       "      <td>5.18</td>\n",
       "      <td>1000</td>\n",
       "      <td>False</td>\n",
       "      <td>12</td>\n",
       "    </tr>\n",
       "    <tr>\n",
       "      <th>...</th>\n",
       "      <td>...</td>\n",
       "      <td>...</td>\n",
       "      <td>...</td>\n",
       "      <td>...</td>\n",
       "      <td>...</td>\n",
       "      <td>...</td>\n",
       "    </tr>\n",
       "    <tr>\n",
       "      <th>202602</th>\n",
       "      <td>1499_215</td>\n",
       "      <td>2018-12-26</td>\n",
       "      <td>0.76</td>\n",
       "      <td>1499</td>\n",
       "      <td>False</td>\n",
       "      <td>12</td>\n",
       "    </tr>\n",
       "    <tr>\n",
       "      <th>202603</th>\n",
       "      <td>1499_216</td>\n",
       "      <td>2018-10-18</td>\n",
       "      <td>18.83</td>\n",
       "      <td>1499</td>\n",
       "      <td>False</td>\n",
       "      <td>10</td>\n",
       "    </tr>\n",
       "    <tr>\n",
       "      <th>202604</th>\n",
       "      <td>1499_217</td>\n",
       "      <td>2018-11-10</td>\n",
       "      <td>10.81</td>\n",
       "      <td>1499</td>\n",
       "      <td>False</td>\n",
       "      <td>11</td>\n",
       "    </tr>\n",
       "    <tr>\n",
       "      <th>202605</th>\n",
       "      <td>1499_218</td>\n",
       "      <td>2018-10-06</td>\n",
       "      <td>4.27</td>\n",
       "      <td>1499</td>\n",
       "      <td>False</td>\n",
       "      <td>10</td>\n",
       "    </tr>\n",
       "    <tr>\n",
       "      <th>202606</th>\n",
       "      <td>1499_219</td>\n",
       "      <td>2018-12-14</td>\n",
       "      <td>19.62</td>\n",
       "      <td>1499</td>\n",
       "      <td>False</td>\n",
       "      <td>12</td>\n",
       "    </tr>\n",
       "  </tbody>\n",
       "</table>\n",
       "<p>202607 rows × 6 columns</p>\n",
       "</div>"
      ],
      "text/plain": [
       "              id  call_date  duration  user_id  zero_duration  month\n",
       "0         1000_0 2018-07-25      0.00     1000           True      7\n",
       "1         1000_1 2018-08-17      0.00     1000           True      8\n",
       "2         1000_2 2018-06-11      2.85     1000          False      6\n",
       "3         1000_3 2018-09-21     13.80     1000          False      9\n",
       "4         1000_4 2018-12-15      5.18     1000          False     12\n",
       "...          ...        ...       ...      ...            ...    ...\n",
       "202602  1499_215 2018-12-26      0.76     1499          False     12\n",
       "202603  1499_216 2018-10-18     18.83     1499          False     10\n",
       "202604  1499_217 2018-11-10     10.81     1499          False     11\n",
       "202605  1499_218 2018-10-06      4.27     1499          False     10\n",
       "202606  1499_219 2018-12-14     19.62     1499          False     12\n",
       "\n",
       "[202607 rows x 6 columns]"
      ]
     },
     "execution_count": 49,
     "metadata": {
      "tags": []
     },
     "output_type": "execute_result"
    }
   ],
   "source": [
    "calls['month'] = calls['call_date'].dt.month\n",
    "calls"
   ]
  },
  {
   "cell_type": "markdown",
   "metadata": {
    "id": "Yi0AWybCuw8C"
   },
   "source": [
    "Используем только ненулевые звонки, которые назовем \"хорошими\"."
   ]
  },
  {
   "cell_type": "code",
   "execution_count": 50,
   "metadata": {
    "colab": {
     "base_uri": "https://localhost:8080/",
     "height": 419
    },
    "executionInfo": {
     "elapsed": 14967,
     "status": "ok",
     "timestamp": 1602256755151,
     "user": {
      "displayName": "Eugene Puninskiy",
      "photoUrl": "https://lh3.googleusercontent.com/a-/AOh14Gg7VvTZjgiAHFG2tTBqY9aSHC2Bal55-nPnXXzzL-c=s64",
      "userId": "07244295768072477419"
     },
     "user_tz": -180
    },
    "id": "z-JJx__guTPm",
    "outputId": "e0da8d3e-d667-4acf-c00e-f1eaac449ccb"
   },
   "outputs": [
    {
     "data": {
      "text/html": [
       "<div>\n",
       "<style scoped>\n",
       "    .dataframe tbody tr th:only-of-type {\n",
       "        vertical-align: middle;\n",
       "    }\n",
       "\n",
       "    .dataframe tbody tr th {\n",
       "        vertical-align: top;\n",
       "    }\n",
       "\n",
       "    .dataframe thead th {\n",
       "        text-align: right;\n",
       "    }\n",
       "</style>\n",
       "<table border=\"1\" class=\"dataframe\">\n",
       "  <thead>\n",
       "    <tr style=\"text-align: right;\">\n",
       "      <th></th>\n",
       "      <th>id</th>\n",
       "      <th>call_date</th>\n",
       "      <th>duration</th>\n",
       "      <th>user_id</th>\n",
       "      <th>zero_duration</th>\n",
       "      <th>month</th>\n",
       "    </tr>\n",
       "  </thead>\n",
       "  <tbody>\n",
       "    <tr>\n",
       "      <th>2</th>\n",
       "      <td>1000_2</td>\n",
       "      <td>2018-06-11</td>\n",
       "      <td>2.85</td>\n",
       "      <td>1000</td>\n",
       "      <td>False</td>\n",
       "      <td>6</td>\n",
       "    </tr>\n",
       "    <tr>\n",
       "      <th>3</th>\n",
       "      <td>1000_3</td>\n",
       "      <td>2018-09-21</td>\n",
       "      <td>13.80</td>\n",
       "      <td>1000</td>\n",
       "      <td>False</td>\n",
       "      <td>9</td>\n",
       "    </tr>\n",
       "    <tr>\n",
       "      <th>4</th>\n",
       "      <td>1000_4</td>\n",
       "      <td>2018-12-15</td>\n",
       "      <td>5.18</td>\n",
       "      <td>1000</td>\n",
       "      <td>False</td>\n",
       "      <td>12</td>\n",
       "    </tr>\n",
       "    <tr>\n",
       "      <th>7</th>\n",
       "      <td>1000_7</td>\n",
       "      <td>2018-08-22</td>\n",
       "      <td>18.31</td>\n",
       "      <td>1000</td>\n",
       "      <td>False</td>\n",
       "      <td>8</td>\n",
       "    </tr>\n",
       "    <tr>\n",
       "      <th>8</th>\n",
       "      <td>1000_8</td>\n",
       "      <td>2018-09-15</td>\n",
       "      <td>18.44</td>\n",
       "      <td>1000</td>\n",
       "      <td>False</td>\n",
       "      <td>9</td>\n",
       "    </tr>\n",
       "    <tr>\n",
       "      <th>...</th>\n",
       "      <td>...</td>\n",
       "      <td>...</td>\n",
       "      <td>...</td>\n",
       "      <td>...</td>\n",
       "      <td>...</td>\n",
       "      <td>...</td>\n",
       "    </tr>\n",
       "    <tr>\n",
       "      <th>202602</th>\n",
       "      <td>1499_215</td>\n",
       "      <td>2018-12-26</td>\n",
       "      <td>0.76</td>\n",
       "      <td>1499</td>\n",
       "      <td>False</td>\n",
       "      <td>12</td>\n",
       "    </tr>\n",
       "    <tr>\n",
       "      <th>202603</th>\n",
       "      <td>1499_216</td>\n",
       "      <td>2018-10-18</td>\n",
       "      <td>18.83</td>\n",
       "      <td>1499</td>\n",
       "      <td>False</td>\n",
       "      <td>10</td>\n",
       "    </tr>\n",
       "    <tr>\n",
       "      <th>202604</th>\n",
       "      <td>1499_217</td>\n",
       "      <td>2018-11-10</td>\n",
       "      <td>10.81</td>\n",
       "      <td>1499</td>\n",
       "      <td>False</td>\n",
       "      <td>11</td>\n",
       "    </tr>\n",
       "    <tr>\n",
       "      <th>202605</th>\n",
       "      <td>1499_218</td>\n",
       "      <td>2018-10-06</td>\n",
       "      <td>4.27</td>\n",
       "      <td>1499</td>\n",
       "      <td>False</td>\n",
       "      <td>10</td>\n",
       "    </tr>\n",
       "    <tr>\n",
       "      <th>202606</th>\n",
       "      <td>1499_219</td>\n",
       "      <td>2018-12-14</td>\n",
       "      <td>19.62</td>\n",
       "      <td>1499</td>\n",
       "      <td>False</td>\n",
       "      <td>12</td>\n",
       "    </tr>\n",
       "  </tbody>\n",
       "</table>\n",
       "<p>162994 rows × 6 columns</p>\n",
       "</div>"
      ],
      "text/plain": [
       "              id  call_date  duration  user_id  zero_duration  month\n",
       "2         1000_2 2018-06-11      2.85     1000          False      6\n",
       "3         1000_3 2018-09-21     13.80     1000          False      9\n",
       "4         1000_4 2018-12-15      5.18     1000          False     12\n",
       "7         1000_7 2018-08-22     18.31     1000          False      8\n",
       "8         1000_8 2018-09-15     18.44     1000          False      9\n",
       "...          ...        ...       ...      ...            ...    ...\n",
       "202602  1499_215 2018-12-26      0.76     1499          False     12\n",
       "202603  1499_216 2018-10-18     18.83     1499          False     10\n",
       "202604  1499_217 2018-11-10     10.81     1499          False     11\n",
       "202605  1499_218 2018-10-06      4.27     1499          False     10\n",
       "202606  1499_219 2018-12-14     19.62     1499          False     12\n",
       "\n",
       "[162994 rows x 6 columns]"
      ]
     },
     "execution_count": 50,
     "metadata": {
      "tags": []
     },
     "output_type": "execute_result"
    }
   ],
   "source": [
    "goodcalls = calls.query('~zero_duration')\n",
    "goodcalls"
   ]
  },
  {
   "cell_type": "code",
   "execution_count": 51,
   "metadata": {
    "colab": {
     "base_uri": "https://localhost:8080/",
     "height": 485
    },
    "executionInfo": {
     "elapsed": 14874,
     "status": "ok",
     "timestamp": 1602256755152,
     "user": {
      "displayName": "Eugene Puninskiy",
      "photoUrl": "https://lh3.googleusercontent.com/a-/AOh14Gg7VvTZjgiAHFG2tTBqY9aSHC2Bal55-nPnXXzzL-c=s64",
      "userId": "07244295768072477419"
     },
     "user_tz": -180
    },
    "id": "39LXQVz0udbE",
    "outputId": "724561b5-c92f-479e-857f-b555f30838b3"
   },
   "outputs": [
    {
     "name": "stdout",
     "output_type": "stream",
     "text": [
      "user_id  month\n",
      "1000     5        17\n",
      "         6        28\n",
      "         7        41\n",
      "         8        42\n",
      "         9        46\n",
      "                  ..\n",
      "1498     10       30\n",
      "1499     9         8\n",
      "         10       44\n",
      "         11       62\n",
      "         12       56\n",
      "Name: id, Length: 3168, dtype: int64\n",
      "user_id  month\n",
      "1000     5        150.06\n",
      "         6        158.90\n",
      "         7        318.80\n",
      "         8        389.87\n",
      "         9        440.14\n",
      "                   ...  \n",
      "1498     10       232.63\n",
      "1499     9         64.65\n",
      "         10       429.91\n",
      "         11       576.50\n",
      "         12       465.16\n",
      "Name: duration, Length: 3168, dtype: float64\n"
     ]
    }
   ],
   "source": [
    "def group_per_user_per_month (df, column):\n",
    "    #Принимает DataFrame и его столбец, группирует по user_id и месяцу значения заданного столбца\n",
    "    #Возвращает объект groupby, к которому нужно еще применить какую-то функцию для сборки\n",
    "    return(df.groupby(['user_id', 'month'])[column])\n",
    "\n",
    "goodcalls_per_user_per_month = group_per_user_per_month(goodcalls, 'id').count()\n",
    "duration_per_user_per_month = group_per_user_per_month(goodcalls, 'duration').sum()\n",
    "print(goodcalls_per_user_per_month)\n",
    "print(duration_per_user_per_month)"
   ]
  },
  {
   "cell_type": "markdown",
   "metadata": {
    "id": "lXd2eFAkr5rm"
   },
   "source": [
    "Видим, что в некоторые месяцы какие-то абоненты были неактивны. Для будущей статистики это нужно отразить, так как, если они продолжали быть абонентами, то и абоненстскую плату вносили, хотя и не пользовались услугами."
   ]
  },
  {
   "cell_type": "code",
   "execution_count": 52,
   "metadata": {
    "colab": {
     "base_uri": "https://localhost:8080/",
     "height": 269
    },
    "executionInfo": {
     "elapsed": 14813,
     "status": "ok",
     "timestamp": 1602256755153,
     "user": {
      "displayName": "Eugene Puninskiy",
      "photoUrl": "https://lh3.googleusercontent.com/a-/AOh14Gg7VvTZjgiAHFG2tTBqY9aSHC2Bal55-nPnXXzzL-c=s64",
      "userId": "07244295768072477419"
     },
     "user_tz": -180
    },
    "id": "G0DqSUkpI_lp",
    "outputId": "510900b7-7ae8-4a68-8c69-1a7a4b9d41d8"
   },
   "outputs": [
    {
     "data": {
      "text/plain": [
       "month\n",
       "1     0\n",
       "2     0\n",
       "3     0\n",
       "4     0\n",
       "5     0\n",
       "6     0\n",
       "7     0\n",
       "8     0\n",
       "9     0\n",
       "10    0\n",
       "11    0\n",
       "12    0\n",
       "Name: id, dtype: int64"
      ]
     },
     "execution_count": 52,
     "metadata": {
      "tags": []
     },
     "output_type": "execute_result"
    }
   ],
   "source": [
    "levels = [range(1000, 1500), range(1, 13)]\n",
    "new_index = pd.MultiIndex.from_product(levels, names=goodcalls_per_user_per_month.index.names)\n",
    "goodcalls_per_user_per_month = goodcalls_per_user_per_month.reindex(new_index, fill_value=0)\n",
    "#Вот наш \"нулевой\" клиент:\n",
    "goodcalls_per_user_per_month[1091]"
   ]
  },
  {
   "cell_type": "code",
   "execution_count": 53,
   "metadata": {
    "colab": {
     "base_uri": "https://localhost:8080/",
     "height": 251
    },
    "executionInfo": {
     "elapsed": 14745,
     "status": "ok",
     "timestamp": 1602256755154,
     "user": {
      "displayName": "Eugene Puninskiy",
      "photoUrl": "https://lh3.googleusercontent.com/a-/AOh14Gg7VvTZjgiAHFG2tTBqY9aSHC2Bal55-nPnXXzzL-c=s64",
      "userId": "07244295768072477419"
     },
     "user_tz": -180
    },
    "id": "PZKcn7-mvj7X",
    "outputId": "cb028f35-e8e0-4254-d57f-97b0ccd84c1e"
   },
   "outputs": [
    {
     "data": {
      "text/plain": [
       "user_id  month\n",
       "1000     1          0.00\n",
       "         2          0.00\n",
       "         3          0.00\n",
       "         4          0.00\n",
       "         5        150.06\n",
       "                   ...  \n",
       "1499     8          0.00\n",
       "         9         64.65\n",
       "         10       429.91\n",
       "         11       576.50\n",
       "         12       465.16\n",
       "Name: duration, Length: 6000, dtype: float64"
      ]
     },
     "execution_count": 53,
     "metadata": {
      "tags": []
     },
     "output_type": "execute_result"
    }
   ],
   "source": [
    "duration_per_user_per_month = duration_per_user_per_month.reindex(new_index, fill_value=0)\n",
    "duration_per_user_per_month"
   ]
  },
  {
   "cell_type": "markdown",
   "metadata": {
    "id": "Xx7A0PFPzykt"
   },
   "source": [
    "### Количество SMS"
   ]
  },
  {
   "cell_type": "code",
   "execution_count": 54,
   "metadata": {
    "colab": {
     "base_uri": "https://localhost:8080/",
     "height": 251
    },
    "executionInfo": {
     "elapsed": 14679,
     "status": "ok",
     "timestamp": 1602256755157,
     "user": {
      "displayName": "Eugene Puninskiy",
      "photoUrl": "https://lh3.googleusercontent.com/a-/AOh14Gg7VvTZjgiAHFG2tTBqY9aSHC2Bal55-nPnXXzzL-c=s64",
      "userId": "07244295768072477419"
     },
     "user_tz": -180
    },
    "id": "XUpH9DVrz1Xx",
    "outputId": "e3a07868-f76c-40b0-e15a-dff9aa57bffb"
   },
   "outputs": [
    {
     "data": {
      "text/plain": [
       "user_id  month\n",
       "1000     1         0\n",
       "         2         0\n",
       "         3         0\n",
       "         4         0\n",
       "         5        22\n",
       "                  ..\n",
       "1499     8         0\n",
       "         9        11\n",
       "         10       48\n",
       "         11       59\n",
       "         12       66\n",
       "Name: id, Length: 6000, dtype: int64"
      ]
     },
     "execution_count": 54,
     "metadata": {
      "tags": []
     },
     "output_type": "execute_result"
    }
   ],
   "source": [
    "messages['month'] = messages['message_date'].dt.month\n",
    "messages_per_user_per_month = group_per_user_per_month(messages, 'id').count()\n",
    "messages_per_user_per_month = messages_per_user_per_month.reindex(new_index, fill_value=0)\n",
    "messages_per_user_per_month"
   ]
  },
  {
   "cell_type": "markdown",
   "metadata": {
    "id": "NY4DlEp0EVuI"
   },
   "source": [
    "### Трафик, мб"
   ]
  },
  {
   "cell_type": "code",
   "execution_count": 55,
   "metadata": {
    "colab": {
     "base_uri": "https://localhost:8080/",
     "height": 251
    },
    "executionInfo": {
     "elapsed": 14604,
     "status": "ok",
     "timestamp": 1602256755159,
     "user": {
      "displayName": "Eugene Puninskiy",
      "photoUrl": "https://lh3.googleusercontent.com/a-/AOh14Gg7VvTZjgiAHFG2tTBqY9aSHC2Bal55-nPnXXzzL-c=s64",
      "userId": "07244295768072477419"
     },
     "user_tz": -180
    },
    "id": "eyV3EGij0BTd",
    "outputId": "a62c4fc6-8ba4-4063-bc8d-d9a785d7f4fe"
   },
   "outputs": [
    {
     "name": "stdout",
     "output_type": "stream",
     "text": [
      "user_id  month\n",
      "1000     1            0.00\n",
      "         2            0.00\n",
      "         3            0.00\n",
      "         4            0.00\n",
      "         5         2253.49\n",
      "                    ...   \n",
      "1499     8            0.00\n",
      "         9         1845.75\n",
      "         10       17788.51\n",
      "         11       17963.31\n",
      "         12       13055.58\n",
      "Name: mb_used, Length: 6000, dtype: float64\n"
     ]
    }
   ],
   "source": [
    "internet['month'] = internet['session_date'].dt.month\n",
    "mb_per_user_per_month = group_per_user_per_month(internet, 'mb_used').sum()\n",
    "mb_per_user_per_month = mb_per_user_per_month.reindex(new_index, fill_value=0)\n",
    "print(mb_per_user_per_month)"
   ]
  },
  {
   "cell_type": "markdown",
   "metadata": {
    "id": "eHVGgVolGCmI"
   },
   "source": [
    "### Выручка"
   ]
  },
  {
   "cell_type": "markdown",
   "metadata": {
    "id": "VMgWkQH-Hj_s"
   },
   "source": [
    "Объединим все посчитанные параметры в один DataFrame, `df`"
   ]
  },
  {
   "cell_type": "code",
   "execution_count": 56,
   "metadata": {
    "colab": {
     "base_uri": "https://localhost:8080/",
     "height": 450
    },
    "executionInfo": {
     "elapsed": 14536,
     "status": "ok",
     "timestamp": 1602256755160,
     "user": {
      "displayName": "Eugene Puninskiy",
      "photoUrl": "https://lh3.googleusercontent.com/a-/AOh14Gg7VvTZjgiAHFG2tTBqY9aSHC2Bal55-nPnXXzzL-c=s64",
      "userId": "07244295768072477419"
     },
     "user_tz": -180
    },
    "id": "_Knpg5yREpYT",
    "outputId": "b413d7ba-4beb-497a-d98e-c2a4a089a701"
   },
   "outputs": [
    {
     "data": {
      "text/html": [
       "<div>\n",
       "<style scoped>\n",
       "    .dataframe tbody tr th:only-of-type {\n",
       "        vertical-align: middle;\n",
       "    }\n",
       "\n",
       "    .dataframe tbody tr th {\n",
       "        vertical-align: top;\n",
       "    }\n",
       "\n",
       "    .dataframe thead th {\n",
       "        text-align: right;\n",
       "    }\n",
       "</style>\n",
       "<table border=\"1\" class=\"dataframe\">\n",
       "  <thead>\n",
       "    <tr style=\"text-align: right;\">\n",
       "      <th></th>\n",
       "      <th></th>\n",
       "      <th>calls_count</th>\n",
       "      <th>duration</th>\n",
       "      <th>sms_count</th>\n",
       "      <th>mb_used</th>\n",
       "    </tr>\n",
       "    <tr>\n",
       "      <th>user_id</th>\n",
       "      <th>month</th>\n",
       "      <th></th>\n",
       "      <th></th>\n",
       "      <th></th>\n",
       "      <th></th>\n",
       "    </tr>\n",
       "  </thead>\n",
       "  <tbody>\n",
       "    <tr>\n",
       "      <th rowspan=\"5\" valign=\"top\">1000</th>\n",
       "      <th>1</th>\n",
       "      <td>0</td>\n",
       "      <td>0.00</td>\n",
       "      <td>0</td>\n",
       "      <td>0.00</td>\n",
       "    </tr>\n",
       "    <tr>\n",
       "      <th>2</th>\n",
       "      <td>0</td>\n",
       "      <td>0.00</td>\n",
       "      <td>0</td>\n",
       "      <td>0.00</td>\n",
       "    </tr>\n",
       "    <tr>\n",
       "      <th>3</th>\n",
       "      <td>0</td>\n",
       "      <td>0.00</td>\n",
       "      <td>0</td>\n",
       "      <td>0.00</td>\n",
       "    </tr>\n",
       "    <tr>\n",
       "      <th>4</th>\n",
       "      <td>0</td>\n",
       "      <td>0.00</td>\n",
       "      <td>0</td>\n",
       "      <td>0.00</td>\n",
       "    </tr>\n",
       "    <tr>\n",
       "      <th>5</th>\n",
       "      <td>17</td>\n",
       "      <td>150.06</td>\n",
       "      <td>22</td>\n",
       "      <td>2253.49</td>\n",
       "    </tr>\n",
       "    <tr>\n",
       "      <th>...</th>\n",
       "      <th>...</th>\n",
       "      <td>...</td>\n",
       "      <td>...</td>\n",
       "      <td>...</td>\n",
       "      <td>...</td>\n",
       "    </tr>\n",
       "    <tr>\n",
       "      <th rowspan=\"5\" valign=\"top\">1499</th>\n",
       "      <th>8</th>\n",
       "      <td>0</td>\n",
       "      <td>0.00</td>\n",
       "      <td>0</td>\n",
       "      <td>0.00</td>\n",
       "    </tr>\n",
       "    <tr>\n",
       "      <th>9</th>\n",
       "      <td>8</td>\n",
       "      <td>64.65</td>\n",
       "      <td>11</td>\n",
       "      <td>1845.75</td>\n",
       "    </tr>\n",
       "    <tr>\n",
       "      <th>10</th>\n",
       "      <td>44</td>\n",
       "      <td>429.91</td>\n",
       "      <td>48</td>\n",
       "      <td>17788.51</td>\n",
       "    </tr>\n",
       "    <tr>\n",
       "      <th>11</th>\n",
       "      <td>62</td>\n",
       "      <td>576.50</td>\n",
       "      <td>59</td>\n",
       "      <td>17963.31</td>\n",
       "    </tr>\n",
       "    <tr>\n",
       "      <th>12</th>\n",
       "      <td>56</td>\n",
       "      <td>465.16</td>\n",
       "      <td>66</td>\n",
       "      <td>13055.58</td>\n",
       "    </tr>\n",
       "  </tbody>\n",
       "</table>\n",
       "<p>6000 rows × 4 columns</p>\n",
       "</div>"
      ],
      "text/plain": [
       "               calls_count  duration  sms_count   mb_used\n",
       "user_id month                                            \n",
       "1000    1                0      0.00          0      0.00\n",
       "        2                0      0.00          0      0.00\n",
       "        3                0      0.00          0      0.00\n",
       "        4                0      0.00          0      0.00\n",
       "        5               17    150.06         22   2253.49\n",
       "...                    ...       ...        ...       ...\n",
       "1499    8                0      0.00          0      0.00\n",
       "        9                8     64.65         11   1845.75\n",
       "        10              44    429.91         48  17788.51\n",
       "        11              62    576.50         59  17963.31\n",
       "        12              56    465.16         66  13055.58\n",
       "\n",
       "[6000 rows x 4 columns]"
      ]
     },
     "execution_count": 56,
     "metadata": {
      "tags": []
     },
     "output_type": "execute_result"
    }
   ],
   "source": [
    "main_parameters = [goodcalls_per_user_per_month, duration_per_user_per_month, \n",
    "                   messages_per_user_per_month, mb_per_user_per_month]\n",
    "df = pd.concat(main_parameters, axis=1)\n",
    "df.columns = ['calls_count', 'duration', 'sms_count', 'mb_used']\n",
    "df"
   ]
  },
  {
   "cell_type": "markdown",
   "metadata": {
    "id": "CmZDl_nEJ1YP"
   },
   "source": [
    "Добавим столбец с тарифом"
   ]
  },
  {
   "cell_type": "code",
   "execution_count": 57,
   "metadata": {
    "colab": {
     "base_uri": "https://localhost:8080/",
     "height": 71
    },
    "executionInfo": {
     "elapsed": 14471,
     "status": "ok",
     "timestamp": 1602256755161,
     "user": {
      "displayName": "Eugene Puninskiy",
      "photoUrl": "https://lh3.googleusercontent.com/a-/AOh14Gg7VvTZjgiAHFG2tTBqY9aSHC2Bal55-nPnXXzzL-c=s64",
      "userId": "07244295768072477419"
     },
     "user_tz": -180
    },
    "id": "of1NbF8zKyLY",
    "outputId": "897273d2-b9ce-471f-cfeb-e79524547eac"
   },
   "outputs": [
    {
     "data": {
      "text/plain": [
       "Index(['user_id', 'age', 'churn_date', 'city', 'first_name', 'last_name',\n",
       "       'reg_date', 'tariff'],\n",
       "      dtype='object')"
      ]
     },
     "execution_count": 57,
     "metadata": {
      "tags": []
     },
     "output_type": "execute_result"
    }
   ],
   "source": [
    "users.columns"
   ]
  },
  {
   "cell_type": "code",
   "execution_count": 58,
   "metadata": {
    "colab": {
     "base_uri": "https://localhost:8080/",
     "height": 419
    },
    "executionInfo": {
     "elapsed": 14324,
     "status": "ok",
     "timestamp": 1602256755163,
     "user": {
      "displayName": "Eugene Puninskiy",
      "photoUrl": "https://lh3.googleusercontent.com/a-/AOh14Gg7VvTZjgiAHFG2tTBqY9aSHC2Bal55-nPnXXzzL-c=s64",
      "userId": "07244295768072477419"
     },
     "user_tz": -180
    },
    "id": "ZWY9EiAaLoGQ",
    "outputId": "ed4b06c4-826d-45ca-efc1-7ac3053bd373"
   },
   "outputs": [
    {
     "data": {
      "text/html": [
       "<div>\n",
       "<style scoped>\n",
       "    .dataframe tbody tr th:only-of-type {\n",
       "        vertical-align: middle;\n",
       "    }\n",
       "\n",
       "    .dataframe tbody tr th {\n",
       "        vertical-align: top;\n",
       "    }\n",
       "\n",
       "    .dataframe thead th {\n",
       "        text-align: right;\n",
       "    }\n",
       "</style>\n",
       "<table border=\"1\" class=\"dataframe\">\n",
       "  <thead>\n",
       "    <tr style=\"text-align: right;\">\n",
       "      <th></th>\n",
       "      <th>user_id</th>\n",
       "      <th>month</th>\n",
       "      <th>calls_count</th>\n",
       "      <th>duration</th>\n",
       "      <th>sms_count</th>\n",
       "      <th>mb_used</th>\n",
       "    </tr>\n",
       "  </thead>\n",
       "  <tbody>\n",
       "    <tr>\n",
       "      <th>0</th>\n",
       "      <td>1000</td>\n",
       "      <td>1</td>\n",
       "      <td>0</td>\n",
       "      <td>0.00</td>\n",
       "      <td>0</td>\n",
       "      <td>0.00</td>\n",
       "    </tr>\n",
       "    <tr>\n",
       "      <th>1</th>\n",
       "      <td>1000</td>\n",
       "      <td>2</td>\n",
       "      <td>0</td>\n",
       "      <td>0.00</td>\n",
       "      <td>0</td>\n",
       "      <td>0.00</td>\n",
       "    </tr>\n",
       "    <tr>\n",
       "      <th>2</th>\n",
       "      <td>1000</td>\n",
       "      <td>3</td>\n",
       "      <td>0</td>\n",
       "      <td>0.00</td>\n",
       "      <td>0</td>\n",
       "      <td>0.00</td>\n",
       "    </tr>\n",
       "    <tr>\n",
       "      <th>3</th>\n",
       "      <td>1000</td>\n",
       "      <td>4</td>\n",
       "      <td>0</td>\n",
       "      <td>0.00</td>\n",
       "      <td>0</td>\n",
       "      <td>0.00</td>\n",
       "    </tr>\n",
       "    <tr>\n",
       "      <th>4</th>\n",
       "      <td>1000</td>\n",
       "      <td>5</td>\n",
       "      <td>17</td>\n",
       "      <td>150.06</td>\n",
       "      <td>22</td>\n",
       "      <td>2253.49</td>\n",
       "    </tr>\n",
       "    <tr>\n",
       "      <th>...</th>\n",
       "      <td>...</td>\n",
       "      <td>...</td>\n",
       "      <td>...</td>\n",
       "      <td>...</td>\n",
       "      <td>...</td>\n",
       "      <td>...</td>\n",
       "    </tr>\n",
       "    <tr>\n",
       "      <th>5995</th>\n",
       "      <td>1499</td>\n",
       "      <td>8</td>\n",
       "      <td>0</td>\n",
       "      <td>0.00</td>\n",
       "      <td>0</td>\n",
       "      <td>0.00</td>\n",
       "    </tr>\n",
       "    <tr>\n",
       "      <th>5996</th>\n",
       "      <td>1499</td>\n",
       "      <td>9</td>\n",
       "      <td>8</td>\n",
       "      <td>64.65</td>\n",
       "      <td>11</td>\n",
       "      <td>1845.75</td>\n",
       "    </tr>\n",
       "    <tr>\n",
       "      <th>5997</th>\n",
       "      <td>1499</td>\n",
       "      <td>10</td>\n",
       "      <td>44</td>\n",
       "      <td>429.91</td>\n",
       "      <td>48</td>\n",
       "      <td>17788.51</td>\n",
       "    </tr>\n",
       "    <tr>\n",
       "      <th>5998</th>\n",
       "      <td>1499</td>\n",
       "      <td>11</td>\n",
       "      <td>62</td>\n",
       "      <td>576.50</td>\n",
       "      <td>59</td>\n",
       "      <td>17963.31</td>\n",
       "    </tr>\n",
       "    <tr>\n",
       "      <th>5999</th>\n",
       "      <td>1499</td>\n",
       "      <td>12</td>\n",
       "      <td>56</td>\n",
       "      <td>465.16</td>\n",
       "      <td>66</td>\n",
       "      <td>13055.58</td>\n",
       "    </tr>\n",
       "  </tbody>\n",
       "</table>\n",
       "<p>6000 rows × 6 columns</p>\n",
       "</div>"
      ],
      "text/plain": [
       "      user_id  month  calls_count  duration  sms_count   mb_used\n",
       "0        1000      1            0      0.00          0      0.00\n",
       "1        1000      2            0      0.00          0      0.00\n",
       "2        1000      3            0      0.00          0      0.00\n",
       "3        1000      4            0      0.00          0      0.00\n",
       "4        1000      5           17    150.06         22   2253.49\n",
       "...       ...    ...          ...       ...        ...       ...\n",
       "5995     1499      8            0      0.00          0      0.00\n",
       "5996     1499      9            8     64.65         11   1845.75\n",
       "5997     1499     10           44    429.91         48  17788.51\n",
       "5998     1499     11           62    576.50         59  17963.31\n",
       "5999     1499     12           56    465.16         66  13055.58\n",
       "\n",
       "[6000 rows x 6 columns]"
      ]
     },
     "execution_count": 58,
     "metadata": {
      "tags": []
     },
     "output_type": "execute_result"
    }
   ],
   "source": [
    "df = df.reset_index()\n",
    "df"
   ]
  },
  {
   "cell_type": "markdown",
   "metadata": {
    "id": "fHV0P7FcpQkt"
   },
   "source": [
    "Посмотрим на появившиеся пропущенные значения и заполним их нулями:\n"
   ]
  },
  {
   "cell_type": "code",
   "execution_count": 59,
   "metadata": {
    "colab": {
     "base_uri": "https://localhost:8080/",
     "height": 287
    },
    "executionInfo": {
     "elapsed": 14250,
     "status": "ok",
     "timestamp": 1602256755166,
     "user": {
      "displayName": "Eugene Puninskiy",
      "photoUrl": "https://lh3.googleusercontent.com/a-/AOh14Gg7VvTZjgiAHFG2tTBqY9aSHC2Bal55-nPnXXzzL-c=s64",
      "userId": "07244295768072477419"
     },
     "user_tz": -180
    },
    "id": "PFt45D9YpdEY",
    "outputId": "024820f8-631a-45e8-ff01-8e759d8e7cd3"
   },
   "outputs": [
    {
     "name": "stdout",
     "output_type": "stream",
     "text": [
      "user_id        0\n",
      "month          0\n",
      "calls_count    0\n",
      "duration       0\n",
      "sms_count      0\n",
      "mb_used        0\n",
      "dtype: int64\n",
      "/n\n"
     ]
    },
    {
     "data": {
      "text/plain": [
       "user_id        0\n",
       "month          0\n",
       "calls_count    0\n",
       "duration       0\n",
       "sms_count      0\n",
       "mb_used        0\n",
       "dtype: int64"
      ]
     },
     "execution_count": 59,
     "metadata": {
      "tags": []
     },
     "output_type": "execute_result"
    }
   ],
   "source": [
    "print(df.isna().sum())\n",
    "df = df.fillna(0)\n",
    "print('/n')\n",
    "df.isna().sum()"
   ]
  },
  {
   "cell_type": "markdown",
   "metadata": {
    "id": "KwWywtO5qaBk"
   },
   "source": [
    "Добавим также столбец с **названием тарифа и датами начала и окончания** пользования услугами. Затем удалим все нулевые строки, которые возникли **до и после начала пользования** из-за несовершенства наших методов обработки."
   ]
  },
  {
   "cell_type": "code",
   "execution_count": 60,
   "metadata": {
    "colab": {
     "base_uri": "https://localhost:8080/",
     "height": 419
    },
    "executionInfo": {
     "elapsed": 14175,
     "status": "ok",
     "timestamp": 1602256755168,
     "user": {
      "displayName": "Eugene Puninskiy",
      "photoUrl": "https://lh3.googleusercontent.com/a-/AOh14Gg7VvTZjgiAHFG2tTBqY9aSHC2Bal55-nPnXXzzL-c=s64",
      "userId": "07244295768072477419"
     },
     "user_tz": -180
    },
    "id": "Dpni1zb1IHve",
    "outputId": "f039ad3b-ec30-4445-fb6e-dc7b115952e4"
   },
   "outputs": [
    {
     "data": {
      "text/html": [
       "<div>\n",
       "<style scoped>\n",
       "    .dataframe tbody tr th:only-of-type {\n",
       "        vertical-align: middle;\n",
       "    }\n",
       "\n",
       "    .dataframe tbody tr th {\n",
       "        vertical-align: top;\n",
       "    }\n",
       "\n",
       "    .dataframe thead th {\n",
       "        text-align: right;\n",
       "    }\n",
       "</style>\n",
       "<table border=\"1\" class=\"dataframe\">\n",
       "  <thead>\n",
       "    <tr style=\"text-align: right;\">\n",
       "      <th></th>\n",
       "      <th>user_id</th>\n",
       "      <th>month</th>\n",
       "      <th>calls_count</th>\n",
       "      <th>duration</th>\n",
       "      <th>sms_count</th>\n",
       "      <th>mb_used</th>\n",
       "      <th>tariff</th>\n",
       "      <th>reg_date</th>\n",
       "      <th>churn_date</th>\n",
       "    </tr>\n",
       "  </thead>\n",
       "  <tbody>\n",
       "    <tr>\n",
       "      <th>0</th>\n",
       "      <td>1000</td>\n",
       "      <td>1</td>\n",
       "      <td>0</td>\n",
       "      <td>0.00</td>\n",
       "      <td>0</td>\n",
       "      <td>0.00</td>\n",
       "      <td>ultra</td>\n",
       "      <td>2018-05-25</td>\n",
       "      <td>2018-12-31</td>\n",
       "    </tr>\n",
       "    <tr>\n",
       "      <th>1</th>\n",
       "      <td>1000</td>\n",
       "      <td>2</td>\n",
       "      <td>0</td>\n",
       "      <td>0.00</td>\n",
       "      <td>0</td>\n",
       "      <td>0.00</td>\n",
       "      <td>ultra</td>\n",
       "      <td>2018-05-25</td>\n",
       "      <td>2018-12-31</td>\n",
       "    </tr>\n",
       "    <tr>\n",
       "      <th>2</th>\n",
       "      <td>1000</td>\n",
       "      <td>3</td>\n",
       "      <td>0</td>\n",
       "      <td>0.00</td>\n",
       "      <td>0</td>\n",
       "      <td>0.00</td>\n",
       "      <td>ultra</td>\n",
       "      <td>2018-05-25</td>\n",
       "      <td>2018-12-31</td>\n",
       "    </tr>\n",
       "    <tr>\n",
       "      <th>3</th>\n",
       "      <td>1000</td>\n",
       "      <td>4</td>\n",
       "      <td>0</td>\n",
       "      <td>0.00</td>\n",
       "      <td>0</td>\n",
       "      <td>0.00</td>\n",
       "      <td>ultra</td>\n",
       "      <td>2018-05-25</td>\n",
       "      <td>2018-12-31</td>\n",
       "    </tr>\n",
       "    <tr>\n",
       "      <th>4</th>\n",
       "      <td>1000</td>\n",
       "      <td>5</td>\n",
       "      <td>17</td>\n",
       "      <td>150.06</td>\n",
       "      <td>22</td>\n",
       "      <td>2253.49</td>\n",
       "      <td>ultra</td>\n",
       "      <td>2018-05-25</td>\n",
       "      <td>2018-12-31</td>\n",
       "    </tr>\n",
       "    <tr>\n",
       "      <th>...</th>\n",
       "      <td>...</td>\n",
       "      <td>...</td>\n",
       "      <td>...</td>\n",
       "      <td>...</td>\n",
       "      <td>...</td>\n",
       "      <td>...</td>\n",
       "      <td>...</td>\n",
       "      <td>...</td>\n",
       "      <td>...</td>\n",
       "    </tr>\n",
       "    <tr>\n",
       "      <th>5995</th>\n",
       "      <td>1499</td>\n",
       "      <td>8</td>\n",
       "      <td>0</td>\n",
       "      <td>0.00</td>\n",
       "      <td>0</td>\n",
       "      <td>0.00</td>\n",
       "      <td>smart</td>\n",
       "      <td>2018-09-27</td>\n",
       "      <td>2018-12-31</td>\n",
       "    </tr>\n",
       "    <tr>\n",
       "      <th>5996</th>\n",
       "      <td>1499</td>\n",
       "      <td>9</td>\n",
       "      <td>8</td>\n",
       "      <td>64.65</td>\n",
       "      <td>11</td>\n",
       "      <td>1845.75</td>\n",
       "      <td>smart</td>\n",
       "      <td>2018-09-27</td>\n",
       "      <td>2018-12-31</td>\n",
       "    </tr>\n",
       "    <tr>\n",
       "      <th>5997</th>\n",
       "      <td>1499</td>\n",
       "      <td>10</td>\n",
       "      <td>44</td>\n",
       "      <td>429.91</td>\n",
       "      <td>48</td>\n",
       "      <td>17788.51</td>\n",
       "      <td>smart</td>\n",
       "      <td>2018-09-27</td>\n",
       "      <td>2018-12-31</td>\n",
       "    </tr>\n",
       "    <tr>\n",
       "      <th>5998</th>\n",
       "      <td>1499</td>\n",
       "      <td>11</td>\n",
       "      <td>62</td>\n",
       "      <td>576.50</td>\n",
       "      <td>59</td>\n",
       "      <td>17963.31</td>\n",
       "      <td>smart</td>\n",
       "      <td>2018-09-27</td>\n",
       "      <td>2018-12-31</td>\n",
       "    </tr>\n",
       "    <tr>\n",
       "      <th>5999</th>\n",
       "      <td>1499</td>\n",
       "      <td>12</td>\n",
       "      <td>56</td>\n",
       "      <td>465.16</td>\n",
       "      <td>66</td>\n",
       "      <td>13055.58</td>\n",
       "      <td>smart</td>\n",
       "      <td>2018-09-27</td>\n",
       "      <td>2018-12-31</td>\n",
       "    </tr>\n",
       "  </tbody>\n",
       "</table>\n",
       "<p>6000 rows × 9 columns</p>\n",
       "</div>"
      ],
      "text/plain": [
       "      user_id  month  calls_count  ...  tariff   reg_date  churn_date\n",
       "0        1000      1            0  ...   ultra 2018-05-25  2018-12-31\n",
       "1        1000      2            0  ...   ultra 2018-05-25  2018-12-31\n",
       "2        1000      3            0  ...   ultra 2018-05-25  2018-12-31\n",
       "3        1000      4            0  ...   ultra 2018-05-25  2018-12-31\n",
       "4        1000      5           17  ...   ultra 2018-05-25  2018-12-31\n",
       "...       ...    ...          ...  ...     ...        ...         ...\n",
       "5995     1499      8            0  ...   smart 2018-09-27  2018-12-31\n",
       "5996     1499      9            8  ...   smart 2018-09-27  2018-12-31\n",
       "5997     1499     10           44  ...   smart 2018-09-27  2018-12-31\n",
       "5998     1499     11           62  ...   smart 2018-09-27  2018-12-31\n",
       "5999     1499     12           56  ...   smart 2018-09-27  2018-12-31\n",
       "\n",
       "[6000 rows x 9 columns]"
      ]
     },
     "execution_count": 60,
     "metadata": {
      "tags": []
     },
     "output_type": "execute_result"
    }
   ],
   "source": [
    "df = df.join(users[['user_id', 'tariff', 'reg_date', 'churn_date']].set_index('user_id'), on = 'user_id')\n",
    "df"
   ]
  },
  {
   "cell_type": "code",
   "execution_count": 61,
   "metadata": {
    "colab": {
     "base_uri": "https://localhost:8080/",
     "height": 419
    },
    "executionInfo": {
     "elapsed": 14659,
     "status": "ok",
     "timestamp": 1602256755811,
     "user": {
      "displayName": "Eugene Puninskiy",
      "photoUrl": "https://lh3.googleusercontent.com/a-/AOh14Gg7VvTZjgiAHFG2tTBqY9aSHC2Bal55-nPnXXzzL-c=s64",
      "userId": "07244295768072477419"
     },
     "user_tz": -180
    },
    "id": "rhWkDdewOn80",
    "outputId": "2717d4aa-4e32-4208-a185-089e13b80f75"
   },
   "outputs": [
    {
     "data": {
      "text/html": [
       "<div>\n",
       "<style scoped>\n",
       "    .dataframe tbody tr th:only-of-type {\n",
       "        vertical-align: middle;\n",
       "    }\n",
       "\n",
       "    .dataframe tbody tr th {\n",
       "        vertical-align: top;\n",
       "    }\n",
       "\n",
       "    .dataframe thead th {\n",
       "        text-align: right;\n",
       "    }\n",
       "</style>\n",
       "<table border=\"1\" class=\"dataframe\">\n",
       "  <thead>\n",
       "    <tr style=\"text-align: right;\">\n",
       "      <th></th>\n",
       "      <th>user_id</th>\n",
       "      <th>month</th>\n",
       "      <th>calls_count</th>\n",
       "      <th>duration</th>\n",
       "      <th>sms_count</th>\n",
       "      <th>mb_used</th>\n",
       "      <th>tariff</th>\n",
       "      <th>reg_date</th>\n",
       "      <th>churn_date</th>\n",
       "    </tr>\n",
       "  </thead>\n",
       "  <tbody>\n",
       "    <tr>\n",
       "      <th>4</th>\n",
       "      <td>1000</td>\n",
       "      <td>5</td>\n",
       "      <td>17</td>\n",
       "      <td>150.06</td>\n",
       "      <td>22</td>\n",
       "      <td>2253.49</td>\n",
       "      <td>ultra</td>\n",
       "      <td>2018-05-25</td>\n",
       "      <td>2018-12-31</td>\n",
       "    </tr>\n",
       "    <tr>\n",
       "      <th>5</th>\n",
       "      <td>1000</td>\n",
       "      <td>6</td>\n",
       "      <td>28</td>\n",
       "      <td>158.90</td>\n",
       "      <td>60</td>\n",
       "      <td>23233.77</td>\n",
       "      <td>ultra</td>\n",
       "      <td>2018-05-25</td>\n",
       "      <td>2018-12-31</td>\n",
       "    </tr>\n",
       "    <tr>\n",
       "      <th>6</th>\n",
       "      <td>1000</td>\n",
       "      <td>7</td>\n",
       "      <td>41</td>\n",
       "      <td>318.80</td>\n",
       "      <td>75</td>\n",
       "      <td>14003.64</td>\n",
       "      <td>ultra</td>\n",
       "      <td>2018-05-25</td>\n",
       "      <td>2018-12-31</td>\n",
       "    </tr>\n",
       "    <tr>\n",
       "      <th>7</th>\n",
       "      <td>1000</td>\n",
       "      <td>8</td>\n",
       "      <td>42</td>\n",
       "      <td>389.87</td>\n",
       "      <td>81</td>\n",
       "      <td>14055.93</td>\n",
       "      <td>ultra</td>\n",
       "      <td>2018-05-25</td>\n",
       "      <td>2018-12-31</td>\n",
       "    </tr>\n",
       "    <tr>\n",
       "      <th>8</th>\n",
       "      <td>1000</td>\n",
       "      <td>9</td>\n",
       "      <td>46</td>\n",
       "      <td>440.14</td>\n",
       "      <td>57</td>\n",
       "      <td>14568.91</td>\n",
       "      <td>ultra</td>\n",
       "      <td>2018-05-25</td>\n",
       "      <td>2018-12-31</td>\n",
       "    </tr>\n",
       "    <tr>\n",
       "      <th>...</th>\n",
       "      <td>...</td>\n",
       "      <td>...</td>\n",
       "      <td>...</td>\n",
       "      <td>...</td>\n",
       "      <td>...</td>\n",
       "      <td>...</td>\n",
       "      <td>...</td>\n",
       "      <td>...</td>\n",
       "      <td>...</td>\n",
       "    </tr>\n",
       "    <tr>\n",
       "      <th>5985</th>\n",
       "      <td>1498</td>\n",
       "      <td>10</td>\n",
       "      <td>30</td>\n",
       "      <td>232.63</td>\n",
       "      <td>42</td>\n",
       "      <td>20579.36</td>\n",
       "      <td>smart</td>\n",
       "      <td>2018-07-19</td>\n",
       "      <td>2018-10-25</td>\n",
       "    </tr>\n",
       "    <tr>\n",
       "      <th>5996</th>\n",
       "      <td>1499</td>\n",
       "      <td>9</td>\n",
       "      <td>8</td>\n",
       "      <td>64.65</td>\n",
       "      <td>11</td>\n",
       "      <td>1845.75</td>\n",
       "      <td>smart</td>\n",
       "      <td>2018-09-27</td>\n",
       "      <td>2018-12-31</td>\n",
       "    </tr>\n",
       "    <tr>\n",
       "      <th>5997</th>\n",
       "      <td>1499</td>\n",
       "      <td>10</td>\n",
       "      <td>44</td>\n",
       "      <td>429.91</td>\n",
       "      <td>48</td>\n",
       "      <td>17788.51</td>\n",
       "      <td>smart</td>\n",
       "      <td>2018-09-27</td>\n",
       "      <td>2018-12-31</td>\n",
       "    </tr>\n",
       "    <tr>\n",
       "      <th>5998</th>\n",
       "      <td>1499</td>\n",
       "      <td>11</td>\n",
       "      <td>62</td>\n",
       "      <td>576.50</td>\n",
       "      <td>59</td>\n",
       "      <td>17963.31</td>\n",
       "      <td>smart</td>\n",
       "      <td>2018-09-27</td>\n",
       "      <td>2018-12-31</td>\n",
       "    </tr>\n",
       "    <tr>\n",
       "      <th>5999</th>\n",
       "      <td>1499</td>\n",
       "      <td>12</td>\n",
       "      <td>56</td>\n",
       "      <td>465.16</td>\n",
       "      <td>66</td>\n",
       "      <td>13055.58</td>\n",
       "      <td>smart</td>\n",
       "      <td>2018-09-27</td>\n",
       "      <td>2018-12-31</td>\n",
       "    </tr>\n",
       "  </tbody>\n",
       "</table>\n",
       "<p>3216 rows × 9 columns</p>\n",
       "</div>"
      ],
      "text/plain": [
       "      user_id  month  calls_count  ...  tariff   reg_date  churn_date\n",
       "4        1000      5           17  ...   ultra 2018-05-25  2018-12-31\n",
       "5        1000      6           28  ...   ultra 2018-05-25  2018-12-31\n",
       "6        1000      7           41  ...   ultra 2018-05-25  2018-12-31\n",
       "7        1000      8           42  ...   ultra 2018-05-25  2018-12-31\n",
       "8        1000      9           46  ...   ultra 2018-05-25  2018-12-31\n",
       "...       ...    ...          ...  ...     ...        ...         ...\n",
       "5985     1498     10           30  ...   smart 2018-07-19  2018-10-25\n",
       "5996     1499      9            8  ...   smart 2018-09-27  2018-12-31\n",
       "5997     1499     10           44  ...   smart 2018-09-27  2018-12-31\n",
       "5998     1499     11           62  ...   smart 2018-09-27  2018-12-31\n",
       "5999     1499     12           56  ...   smart 2018-09-27  2018-12-31\n",
       "\n",
       "[3216 rows x 9 columns]"
      ]
     },
     "execution_count": 61,
     "metadata": {
      "tags": []
     },
     "output_type": "execute_result"
    }
   ],
   "source": [
    "df = df.drop(df[df['month'] < df['reg_date'].dt.month].index)\n",
    "df = df.drop(df[df['month'] > df['churn_date'].dt.month].index)\n",
    "df"
   ]
  },
  {
   "cell_type": "code",
   "execution_count": 62,
   "metadata": {
    "colab": {
     "base_uri": "https://localhost:8080/",
     "height": 131
    },
    "executionInfo": {
     "elapsed": 14579,
     "status": "ok",
     "timestamp": 1602256755817,
     "user": {
      "displayName": "Eugene Puninskiy",
      "photoUrl": "https://lh3.googleusercontent.com/a-/AOh14Gg7VvTZjgiAHFG2tTBqY9aSHC2Bal55-nPnXXzzL-c=s64",
      "userId": "07244295768072477419"
     },
     "user_tz": -180
    },
    "id": "Mz16XIRSVeBd",
    "outputId": "f1649dfd-593b-4dd3-ea98-fcb98396ee66"
   },
   "outputs": [
    {
     "data": {
      "text/html": [
       "<div>\n",
       "<style scoped>\n",
       "    .dataframe tbody tr th:only-of-type {\n",
       "        vertical-align: middle;\n",
       "    }\n",
       "\n",
       "    .dataframe tbody tr th {\n",
       "        vertical-align: top;\n",
       "    }\n",
       "\n",
       "    .dataframe thead th {\n",
       "        text-align: right;\n",
       "    }\n",
       "</style>\n",
       "<table border=\"1\" class=\"dataframe\">\n",
       "  <thead>\n",
       "    <tr style=\"text-align: right;\">\n",
       "      <th></th>\n",
       "      <th>messages_included</th>\n",
       "      <th>mb_per_month_included</th>\n",
       "      <th>minutes_included</th>\n",
       "      <th>rub_monthly_fee</th>\n",
       "      <th>rub_per_gb</th>\n",
       "      <th>rub_per_message</th>\n",
       "      <th>rub_per_minute</th>\n",
       "      <th>tariff_name</th>\n",
       "    </tr>\n",
       "  </thead>\n",
       "  <tbody>\n",
       "    <tr>\n",
       "      <th>0</th>\n",
       "      <td>50</td>\n",
       "      <td>15360</td>\n",
       "      <td>500</td>\n",
       "      <td>550</td>\n",
       "      <td>200</td>\n",
       "      <td>3</td>\n",
       "      <td>3</td>\n",
       "      <td>smart</td>\n",
       "    </tr>\n",
       "    <tr>\n",
       "      <th>1</th>\n",
       "      <td>1000</td>\n",
       "      <td>30720</td>\n",
       "      <td>3000</td>\n",
       "      <td>1950</td>\n",
       "      <td>150</td>\n",
       "      <td>1</td>\n",
       "      <td>1</td>\n",
       "      <td>ultra</td>\n",
       "    </tr>\n",
       "  </tbody>\n",
       "</table>\n",
       "</div>"
      ],
      "text/plain": [
       "   messages_included  mb_per_month_included  ...  rub_per_minute  tariff_name\n",
       "0                 50                  15360  ...               3        smart\n",
       "1               1000                  30720  ...               1        ultra\n",
       "\n",
       "[2 rows x 8 columns]"
      ]
     },
     "execution_count": 62,
     "metadata": {
      "tags": []
     },
     "output_type": "execute_result"
    }
   ],
   "source": [
    "tariffs"
   ]
  },
  {
   "cell_type": "code",
   "execution_count": 63,
   "metadata": {
    "colab": {
     "base_uri": "https://localhost:8080/",
     "height": 53
    },
    "executionInfo": {
     "elapsed": 14455,
     "status": "ok",
     "timestamp": 1602256755819,
     "user": {
      "displayName": "Eugene Puninskiy",
      "photoUrl": "https://lh3.googleusercontent.com/a-/AOh14Gg7VvTZjgiAHFG2tTBqY9aSHC2Bal55-nPnXXzzL-c=s64",
      "userId": "07244295768072477419"
     },
     "user_tz": -180
    },
    "id": "fkrtOpLMd9IH",
    "outputId": "3dca2940-0c64-4d2e-9cd5-9c18bf95bcad"
   },
   "outputs": [
    {
     "name": "stdout",
     "output_type": "stream",
     "text": [
      "10900.0\n"
     ]
    },
    {
     "data": {
      "text/plain": [
       "3950.0"
      ]
     },
     "execution_count": 63,
     "metadata": {
      "tags": []
     },
     "output_type": "execute_result"
    }
   ],
   "source": [
    "def profit_tarif(mins, sms, mb, tarif_name):\n",
    "    #Функция принимает количество минут, количество sms, объем трафика в мб и название тарифа\n",
    "    #Возвращает общую выручку в соотвествии с тарифом\n",
    "    tarif_name = tarif_name\n",
    "    tarif_stat = tariffs.query('tariff_name == @tarif_name').reset_index()\n",
    "    #reset_index чтобы всегда добывать значение нужного столбца через [0]\n",
    "    min_extra = 0\n",
    "    if tarif_stat['minutes_included'][0] < mins:\n",
    "        min_extra = mins - tarif_stat['minutes_included'][0]\n",
    "\n",
    "    sms_extra = 0\n",
    "    if tarif_stat['messages_included'][0] < sms:\n",
    "        sms_extra = sms - tarif_stat['messages_included'][0]\n",
    "\n",
    "    mb_extra = 0\n",
    "    if tarif_stat['mb_per_month_included'][0] < mb:\n",
    "        mb_extra = mb - tarif_stat['mb_per_month_included'][0]\n",
    "\n",
    "    result = (\n",
    "        tarif_stat['rub_monthly_fee'][0] + \n",
    "        np.ceil(min_extra) * tarif_stat['rub_per_minute'][0] +\n",
    "        np.ceil(mb_extra / 1024) * tarif_stat['rub_per_gb'][0] +\n",
    "        sms_extra * tarif_stat['rub_per_message'][0]    \n",
    "    )\n",
    "    # Округляем вверх до минуты и до гб\n",
    "    return (result) \n",
    "\n",
    "print(profit_tarif(1000, 3000, 10000, 'smart'))\n",
    "profit_tarif(1000, 3000, 10000, \"ultra\")"
   ]
  },
  {
   "cell_type": "code",
   "execution_count": 64,
   "metadata": {
    "colab": {
     "base_uri": "https://localhost:8080/",
     "height": 609
    },
    "executionInfo": {
     "elapsed": 22333,
     "status": "ok",
     "timestamp": 1602256763792,
     "user": {
      "displayName": "Eugene Puninskiy",
      "photoUrl": "https://lh3.googleusercontent.com/a-/AOh14Gg7VvTZjgiAHFG2tTBqY9aSHC2Bal55-nPnXXzzL-c=s64",
      "userId": "07244295768072477419"
     },
     "user_tz": -180
    },
    "id": "hVJlkQIDKVfD",
    "outputId": "f5e0ea82-8174-407b-919e-1833a5d32439"
   },
   "outputs": [
    {
     "data": {
      "text/html": [
       "<div>\n",
       "<style scoped>\n",
       "    .dataframe tbody tr th:only-of-type {\n",
       "        vertical-align: middle;\n",
       "    }\n",
       "\n",
       "    .dataframe tbody tr th {\n",
       "        vertical-align: top;\n",
       "    }\n",
       "\n",
       "    .dataframe thead th {\n",
       "        text-align: right;\n",
       "    }\n",
       "</style>\n",
       "<table border=\"1\" class=\"dataframe\">\n",
       "  <thead>\n",
       "    <tr style=\"text-align: right;\">\n",
       "      <th></th>\n",
       "      <th>user_id</th>\n",
       "      <th>month</th>\n",
       "      <th>calls_count</th>\n",
       "      <th>duration</th>\n",
       "      <th>sms_count</th>\n",
       "      <th>mb_used</th>\n",
       "      <th>tariff</th>\n",
       "      <th>reg_date</th>\n",
       "      <th>churn_date</th>\n",
       "      <th>profit_per_month</th>\n",
       "    </tr>\n",
       "  </thead>\n",
       "  <tbody>\n",
       "    <tr>\n",
       "      <th>298</th>\n",
       "      <td>1024</td>\n",
       "      <td>11</td>\n",
       "      <td>127</td>\n",
       "      <td>1083.14</td>\n",
       "      <td>0</td>\n",
       "      <td>43107.47</td>\n",
       "      <td>ultra</td>\n",
       "      <td>2018-10-31</td>\n",
       "      <td>2018-12-31</td>\n",
       "      <td>3900.0</td>\n",
       "    </tr>\n",
       "    <tr>\n",
       "      <th>299</th>\n",
       "      <td>1024</td>\n",
       "      <td>12</td>\n",
       "      <td>108</td>\n",
       "      <td>898.21</td>\n",
       "      <td>0</td>\n",
       "      <td>35948.13</td>\n",
       "      <td>ultra</td>\n",
       "      <td>2018-10-31</td>\n",
       "      <td>2018-12-31</td>\n",
       "      <td>2850.0</td>\n",
       "    </tr>\n",
       "    <tr>\n",
       "      <th>606</th>\n",
       "      <td>1050</td>\n",
       "      <td>7</td>\n",
       "      <td>26</td>\n",
       "      <td>196.35</td>\n",
       "      <td>52</td>\n",
       "      <td>35177.91</td>\n",
       "      <td>ultra</td>\n",
       "      <td>2018-06-16</td>\n",
       "      <td>2018-10-03</td>\n",
       "      <td>2700.0</td>\n",
       "    </tr>\n",
       "    <tr>\n",
       "      <th>731</th>\n",
       "      <td>1060</td>\n",
       "      <td>12</td>\n",
       "      <td>144</td>\n",
       "      <td>1163.11</td>\n",
       "      <td>52</td>\n",
       "      <td>43931.36</td>\n",
       "      <td>ultra</td>\n",
       "      <td>2018-11-24</td>\n",
       "      <td>2018-12-31</td>\n",
       "      <td>3900.0</td>\n",
       "    </tr>\n",
       "    <tr>\n",
       "      <th>1497</th>\n",
       "      <td>1124</td>\n",
       "      <td>10</td>\n",
       "      <td>130</td>\n",
       "      <td>1159.82</td>\n",
       "      <td>121</td>\n",
       "      <td>49745.69</td>\n",
       "      <td>ultra</td>\n",
       "      <td>2018-09-24</td>\n",
       "      <td>2018-12-31</td>\n",
       "      <td>4800.0</td>\n",
       "    </tr>\n",
       "    <tr>\n",
       "      <th>...</th>\n",
       "      <td>...</td>\n",
       "      <td>...</td>\n",
       "      <td>...</td>\n",
       "      <td>...</td>\n",
       "      <td>...</td>\n",
       "      <td>...</td>\n",
       "      <td>...</td>\n",
       "      <td>...</td>\n",
       "      <td>...</td>\n",
       "      <td>...</td>\n",
       "    </tr>\n",
       "    <tr>\n",
       "      <th>5638</th>\n",
       "      <td>1469</td>\n",
       "      <td>11</td>\n",
       "      <td>88</td>\n",
       "      <td>745.78</td>\n",
       "      <td>0</td>\n",
       "      <td>35501.97</td>\n",
       "      <td>ultra</td>\n",
       "      <td>2018-07-06</td>\n",
       "      <td>2018-12-31</td>\n",
       "      <td>2700.0</td>\n",
       "    </tr>\n",
       "    <tr>\n",
       "      <th>5699</th>\n",
       "      <td>1474</td>\n",
       "      <td>12</td>\n",
       "      <td>132</td>\n",
       "      <td>1278.89</td>\n",
       "      <td>105</td>\n",
       "      <td>42320.87</td>\n",
       "      <td>ultra</td>\n",
       "      <td>2018-11-11</td>\n",
       "      <td>2018-12-31</td>\n",
       "      <td>3750.0</td>\n",
       "    </tr>\n",
       "    <tr>\n",
       "      <th>5927</th>\n",
       "      <td>1493</td>\n",
       "      <td>12</td>\n",
       "      <td>69</td>\n",
       "      <td>538.24</td>\n",
       "      <td>78</td>\n",
       "      <td>42735.18</td>\n",
       "      <td>ultra</td>\n",
       "      <td>2018-11-24</td>\n",
       "      <td>2018-12-31</td>\n",
       "      <td>3750.0</td>\n",
       "    </tr>\n",
       "    <tr>\n",
       "      <th>5948</th>\n",
       "      <td>1495</td>\n",
       "      <td>9</td>\n",
       "      <td>95</td>\n",
       "      <td>766.62</td>\n",
       "      <td>82</td>\n",
       "      <td>33067.62</td>\n",
       "      <td>ultra</td>\n",
       "      <td>2018-08-28</td>\n",
       "      <td>2018-12-31</td>\n",
       "      <td>2400.0</td>\n",
       "    </tr>\n",
       "    <tr>\n",
       "      <th>5950</th>\n",
       "      <td>1495</td>\n",
       "      <td>11</td>\n",
       "      <td>112</td>\n",
       "      <td>892.65</td>\n",
       "      <td>79</td>\n",
       "      <td>38939.11</td>\n",
       "      <td>ultra</td>\n",
       "      <td>2018-08-28</td>\n",
       "      <td>2018-12-31</td>\n",
       "      <td>3300.0</td>\n",
       "    </tr>\n",
       "  </tbody>\n",
       "</table>\n",
       "<p>134 rows × 10 columns</p>\n",
       "</div>"
      ],
      "text/plain": [
       "      user_id  month  calls_count  ...   reg_date  churn_date  profit_per_month\n",
       "298      1024     11          127  ... 2018-10-31  2018-12-31            3900.0\n",
       "299      1024     12          108  ... 2018-10-31  2018-12-31            2850.0\n",
       "606      1050      7           26  ... 2018-06-16  2018-10-03            2700.0\n",
       "731      1060     12          144  ... 2018-11-24  2018-12-31            3900.0\n",
       "1497     1124     10          130  ... 2018-09-24  2018-12-31            4800.0\n",
       "...       ...    ...          ...  ...        ...         ...               ...\n",
       "5638     1469     11           88  ... 2018-07-06  2018-12-31            2700.0\n",
       "5699     1474     12          132  ... 2018-11-11  2018-12-31            3750.0\n",
       "5927     1493     12           69  ... 2018-11-24  2018-12-31            3750.0\n",
       "5948     1495      9           95  ... 2018-08-28  2018-12-31            2400.0\n",
       "5950     1495     11          112  ... 2018-08-28  2018-12-31            3300.0\n",
       "\n",
       "[134 rows x 10 columns]"
      ]
     },
     "execution_count": 64,
     "metadata": {
      "tags": []
     },
     "output_type": "execute_result"
    }
   ],
   "source": [
    "df['profit_per_month'] = df.apply(lambda x: profit_tarif(x.duration, x.sms_count, x.mb_used, x.tariff), axis = 1)\n",
    "#проверим на \"большом\" трафике\n",
    "df.query('mb_used > 30*1024 & tariff == \"ultra\"')  "
   ]
  },
  {
   "cell_type": "code",
   "execution_count": 65,
   "metadata": {
    "colab": {
     "base_uri": "https://localhost:8080/",
     "height": 213
    },
    "executionInfo": {
     "elapsed": 22254,
     "status": "ok",
     "timestamp": 1602256763794,
     "user": {
      "displayName": "Eugene Puninskiy",
      "photoUrl": "https://lh3.googleusercontent.com/a-/AOh14Gg7VvTZjgiAHFG2tTBqY9aSHC2Bal55-nPnXXzzL-c=s64",
      "userId": "07244295768072477419"
     },
     "user_tz": -180
    },
    "id": "aF6FH8yKM0UG",
    "outputId": "2c6ab1b3-8c0c-48ae-e089-e2a2f0b67a32"
   },
   "outputs": [
    {
     "data": {
      "text/html": [
       "<div>\n",
       "<style scoped>\n",
       "    .dataframe tbody tr th:only-of-type {\n",
       "        vertical-align: middle;\n",
       "    }\n",
       "\n",
       "    .dataframe tbody tr th {\n",
       "        vertical-align: top;\n",
       "    }\n",
       "\n",
       "    .dataframe thead th {\n",
       "        text-align: right;\n",
       "    }\n",
       "</style>\n",
       "<table border=\"1\" class=\"dataframe\">\n",
       "  <thead>\n",
       "    <tr style=\"text-align: right;\">\n",
       "      <th></th>\n",
       "      <th>user_id</th>\n",
       "      <th>month</th>\n",
       "      <th>calls_count</th>\n",
       "      <th>duration</th>\n",
       "      <th>sms_count</th>\n",
       "      <th>mb_used</th>\n",
       "      <th>tariff</th>\n",
       "      <th>reg_date</th>\n",
       "      <th>churn_date</th>\n",
       "      <th>profit_per_month</th>\n",
       "    </tr>\n",
       "  </thead>\n",
       "  <tbody>\n",
       "    <tr>\n",
       "      <th>1691</th>\n",
       "      <td>1140</td>\n",
       "      <td>12</td>\n",
       "      <td>62</td>\n",
       "      <td>538.79</td>\n",
       "      <td>31</td>\n",
       "      <td>20046.38</td>\n",
       "      <td>smart</td>\n",
       "      <td>2018-12-31</td>\n",
       "      <td>2018-12-31</td>\n",
       "      <td>1667.0</td>\n",
       "    </tr>\n",
       "    <tr>\n",
       "      <th>3107</th>\n",
       "      <td>1258</td>\n",
       "      <td>12</td>\n",
       "      <td>31</td>\n",
       "      <td>205.16</td>\n",
       "      <td>8</td>\n",
       "      <td>18698.14</td>\n",
       "      <td>smart</td>\n",
       "      <td>2018-12-31</td>\n",
       "      <td>2018-12-31</td>\n",
       "      <td>1350.0</td>\n",
       "    </tr>\n",
       "    <tr>\n",
       "      <th>4043</th>\n",
       "      <td>1336</td>\n",
       "      <td>12</td>\n",
       "      <td>82</td>\n",
       "      <td>712.05</td>\n",
       "      <td>20</td>\n",
       "      <td>26582.01</td>\n",
       "      <td>ultra</td>\n",
       "      <td>2018-12-31</td>\n",
       "      <td>2018-12-31</td>\n",
       "      <td>1950.0</td>\n",
       "    </tr>\n",
       "  </tbody>\n",
       "</table>\n",
       "</div>"
      ],
      "text/plain": [
       "      user_id  month  calls_count  ...   reg_date  churn_date  profit_per_month\n",
       "1691     1140     12           62  ... 2018-12-31  2018-12-31            1667.0\n",
       "3107     1258     12           31  ... 2018-12-31  2018-12-31            1350.0\n",
       "4043     1336     12           82  ... 2018-12-31  2018-12-31            1950.0\n",
       "\n",
       "[3 rows x 10 columns]"
      ]
     },
     "execution_count": 65,
     "metadata": {
      "tags": []
     },
     "output_type": "execute_result"
    }
   ],
   "source": [
    "#df['profit_per_month'] = df['profit_per_month'].where(df['month'] <= df['churn_date'].dt.month, 0)\n",
    "# Пишет ноль в столбец profit_per_month, если условие невыполнено, т.е. если месяц больше месяца окончания контракта\n",
    "\n",
    "#Проверим, что все окей в случае регистрации 31 декабря.\n",
    "df.query('reg_date == churn_date')"
   ]
  },
  {
   "cell_type": "markdown",
   "metadata": {
    "id": "vj5n18seq-Rv"
   },
   "source": [
    "## Вывод"
   ]
  },
  {
   "cell_type": "markdown",
   "metadata": {
    "id": "Ma-ycW5Krlt1"
   },
   "source": [
    "В шаге 2 мы обработали наши данные:\n",
    "- разобрались с пропусками\n",
    "- конвертировали данные в удобные форматы\n",
    "- проверили на дубликаты\n",
    "- нашли и отбросили звонки нулевой длины\n",
    "- обнаружили пользовалей, не использующих смс и интернет, не совершающих звонки\n",
    "\n",
    "Кроме того, мы **вычислили основные параметры расхода минут, смс и трафика для каждого пользователя по месяцам** и **расчитали ежемесячную выручку**.\n",
    "\n",
    "Пришлось повозиться с месяцами, чтобы корректно отобразить все месяцы пользования тарифом для каждого клиента от даты регистрации до даты окончания использования или до конца года.\n",
    " "
   ]
  },
  {
   "cell_type": "markdown",
   "metadata": {
    "id": "m6Hc_j6msLhX"
   },
   "source": [
    "# Шаг 3. Анализируем полученные данные."
   ]
  },
  {
   "cell_type": "markdown",
   "metadata": {
    "id": "6S2OokPhsrzh"
   },
   "source": [
    "## Средние по ~больнице~ тарифам."
   ]
  },
  {
   "cell_type": "markdown",
   "metadata": {
    "id": "tyOwuqhBs-9A"
   },
   "source": [
    "Вычислим среднее количество минут, количество смс и мб интернета в месяц, которые необходимы пользователям каждого из тарифов."
   ]
  },
  {
   "cell_type": "markdown",
   "metadata": {
    "id": "cUnQtLnsyVV1"
   },
   "source": [
    "### Минуты"
   ]
  },
  {
   "cell_type": "code",
   "execution_count": 85,
   "metadata": {
    "colab": {
     "base_uri": "https://localhost:8080/",
     "height": 142
    },
    "executionInfo": {
     "elapsed": 1524,
     "status": "ok",
     "timestamp": 1602258275004,
     "user": {
      "displayName": "Eugene Puninskiy",
      "photoUrl": "https://lh3.googleusercontent.com/a-/AOh14Gg7VvTZjgiAHFG2tTBqY9aSHC2Bal55-nPnXXzzL-c=s64",
      "userId": "07244295768072477419"
     },
     "user_tz": -180
    },
    "id": "iWUEiSWQuN0s",
    "outputId": "cb97ec6d-408f-429f-8342-e5343c23db45"
   },
   "outputs": [
    {
     "data": {
      "text/html": [
       "<div>\n",
       "<style scoped>\n",
       "    .dataframe tbody tr th:only-of-type {\n",
       "        vertical-align: middle;\n",
       "    }\n",
       "\n",
       "    .dataframe tbody tr th {\n",
       "        vertical-align: top;\n",
       "    }\n",
       "\n",
       "    .dataframe thead th {\n",
       "        text-align: right;\n",
       "    }\n",
       "</style>\n",
       "<table border=\"1\" class=\"dataframe\">\n",
       "  <thead>\n",
       "    <tr style=\"text-align: right;\">\n",
       "      <th></th>\n",
       "      <th>std</th>\n",
       "      <th>mean</th>\n",
       "      <th>median</th>\n",
       "    </tr>\n",
       "    <tr>\n",
       "      <th>tariff</th>\n",
       "      <th></th>\n",
       "      <th></th>\n",
       "      <th></th>\n",
       "    </tr>\n",
       "  </thead>\n",
       "  <tbody>\n",
       "    <tr>\n",
       "      <th>smart</th>\n",
       "      <td>180.115602</td>\n",
       "      <td>394.250152</td>\n",
       "      <td>397.88</td>\n",
       "    </tr>\n",
       "    <tr>\n",
       "      <th>ultra</th>\n",
       "      <td>300.169574</td>\n",
       "      <td>496.564097</td>\n",
       "      <td>488.10</td>\n",
       "    </tr>\n",
       "  </tbody>\n",
       "</table>\n",
       "</div>"
      ],
      "text/plain": [
       "               std        mean  median\n",
       "tariff                                \n",
       "smart   180.115602  394.250152  397.88\n",
       "ultra   300.169574  496.564097  488.10"
      ]
     },
     "execution_count": 85,
     "metadata": {
      "tags": []
     },
     "output_type": "execute_result"
    }
   ],
   "source": [
    "def group_per_tarif_agg(column_name):\n",
    "    #Фунцкия группирует по тарифам и применяет медиану, среднее и ст.отклонение к значением заданного столбца\n",
    "    return(df.groupby('tariff')[column_name].agg({'median', 'mean', 'std'}))\n",
    "\n",
    "group_per_tarif_agg('duration')"
   ]
  },
  {
   "cell_type": "code",
   "execution_count": 67,
   "metadata": {
    "colab": {
     "base_uri": "https://localhost:8080/",
     "height": 545
    },
    "executionInfo": {
     "elapsed": 22690,
     "status": "ok",
     "timestamp": 1602256764414,
     "user": {
      "displayName": "Eugene Puninskiy",
      "photoUrl": "https://lh3.googleusercontent.com/a-/AOh14Gg7VvTZjgiAHFG2tTBqY9aSHC2Bal55-nPnXXzzL-c=s64",
      "userId": "07244295768072477419"
     },
     "user_tz": -180
    },
    "id": "LcVU_z04sxLG",
    "outputId": "05d1c8cc-7503-4a42-b0b9-7a3b1e2dd811"
   },
   "outputs": [
    {
     "data": {
      "image/png": "[encoded data removed]",
      "text/plain": [
       "<Figure size 432x288 with 1 Axes>"
      ]
     },
     "metadata": {
      "needs_background": "light",
      "tags": []
     },
     "output_type": "display_data"
    },
    {
     "data": {
      "image/png": "[encoded data removed]",
      "text/plain": [
       "<Figure size 432x288 with 1 Axes>"
      ]
     },
     "metadata": {
      "needs_background": "light",
      "tags": []
     },
     "output_type": "display_data"
    }
   ],
   "source": [
    "tarif_names = [\"smart\", \"ultra\"]\n",
    "def hist_tariffs(column_name):\n",
    "    #Строит гистограммы для каждого тарифа, показывая распределение заданного параметра\n",
    "    for tarif_name in tarif_names:\n",
    "        hist_show(df.query('tariff==@tarif_name')[column_name], column_name+' в месяц в тарифе '+tarif_name, 50, None)\n",
    "\n",
    "hist_tariffs('duration')"
   ]
  },
  {
   "cell_type": "markdown",
   "metadata": {
    "id": "5FCq9oZuxO_X"
   },
   "source": [
    "Месяцев, где почти не звонили, много и там и там, но особенно в тарифе \"Ultra\".\n",
    "\n",
    "Оба распределения почти симметричные, медиана близка к среднему.\n",
    "\n",
    "Стандартное отклонение существенно выше для тарифа \"Ultra\", поэтому гистограмма более плоская.\n",
    "\n",
    "В целом оба распределения напоминают нормальное. "
   ]
  },
  {
   "cell_type": "markdown",
   "metadata": {
    "id": "7c1el5VnyYx-"
   },
   "source": [
    "### SMS"
   ]
  },
  {
   "cell_type": "code",
   "execution_count": 68,
   "metadata": {
    "colab": {
     "base_uri": "https://localhost:8080/",
     "height": 142
    },
    "executionInfo": {
     "elapsed": 22620,
     "status": "ok",
     "timestamp": 1602256764415,
     "user": {
      "displayName": "Eugene Puninskiy",
      "photoUrl": "https://lh3.googleusercontent.com/a-/AOh14Gg7VvTZjgiAHFG2tTBqY9aSHC2Bal55-nPnXXzzL-c=s64",
      "userId": "07244295768072477419"
     },
     "user_tz": -180
    },
    "id": "i68XwYlNtXKa",
    "outputId": "43486175-313d-4bac-c057-fdba05d20c66"
   },
   "outputs": [
    {
     "data": {
      "text/html": [
       "<div>\n",
       "<style scoped>\n",
       "    .dataframe tbody tr th:only-of-type {\n",
       "        vertical-align: middle;\n",
       "    }\n",
       "\n",
       "    .dataframe tbody tr th {\n",
       "        vertical-align: top;\n",
       "    }\n",
       "\n",
       "    .dataframe thead th {\n",
       "        text-align: right;\n",
       "    }\n",
       "</style>\n",
       "<table border=\"1\" class=\"dataframe\">\n",
       "  <thead>\n",
       "    <tr style=\"text-align: right;\">\n",
       "      <th></th>\n",
       "      <th>std</th>\n",
       "      <th>mean</th>\n",
       "      <th>median</th>\n",
       "    </tr>\n",
       "    <tr>\n",
       "      <th>tariff</th>\n",
       "      <th></th>\n",
       "      <th></th>\n",
       "      <th></th>\n",
       "    </tr>\n",
       "  </thead>\n",
       "  <tbody>\n",
       "    <tr>\n",
       "      <th>smart</th>\n",
       "      <td>28.230396</td>\n",
       "      <td>33.369058</td>\n",
       "      <td>28</td>\n",
       "    </tr>\n",
       "    <tr>\n",
       "      <th>ultra</th>\n",
       "      <td>47.806040</td>\n",
       "      <td>49.313387</td>\n",
       "      <td>38</td>\n",
       "    </tr>\n",
       "  </tbody>\n",
       "</table>\n",
       "</div>"
      ],
      "text/plain": [
       "              std       mean  median\n",
       "tariff                              \n",
       "smart   28.230396  33.369058      28\n",
       "ultra   47.806040  49.313387      38"
      ]
     },
     "execution_count": 68,
     "metadata": {
      "tags": []
     },
     "output_type": "execute_result"
    }
   ],
   "source": [
    "group_per_tarif_agg('sms_count')"
   ]
  },
  {
   "cell_type": "code",
   "execution_count": 69,
   "metadata": {
    "colab": {
     "base_uri": "https://localhost:8080/",
     "height": 545
    },
    "executionInfo": {
     "elapsed": 23025,
     "status": "ok",
     "timestamp": 1602256764871,
     "user": {
      "displayName": "Eugene Puninskiy",
      "photoUrl": "https://lh3.googleusercontent.com/a-/AOh14Gg7VvTZjgiAHFG2tTBqY9aSHC2Bal55-nPnXXzzL-c=s64",
      "userId": "07244295768072477419"
     },
     "user_tz": -180
    },
    "id": "K9wCByBaygZS",
    "outputId": "6103eb3a-5ead-4cc6-c3d2-71e467c157a0"
   },
   "outputs": [
    {
     "data": {
      "image/png": "[encoded data removed]",
      "text/plain": [
       "<Figure size 432x288 with 1 Axes>"
      ]
     },
     "metadata": {
      "needs_background": "light",
      "tags": []
     },
     "output_type": "display_data"
    },
    {
     "data": {
      "image/png": "[encoded data removed]",
      "text/plain": [
       "<Figure size 432x288 with 1 Axes>"
      ]
     },
     "metadata": {
      "needs_background": "light",
      "tags": []
     },
     "output_type": "display_data"
    }
   ],
   "source": [
    "hist_tariffs('sms_count')"
   ]
  },
  {
   "cell_type": "code",
   "execution_count": 69,
   "metadata": {
    "executionInfo": {
     "elapsed": 22965,
     "status": "ok",
     "timestamp": 1602256764874,
     "user": {
      "displayName": "Eugene Puninskiy",
      "photoUrl": "https://lh3.googleusercontent.com/a-/AOh14Gg7VvTZjgiAHFG2tTBqY9aSHC2Bal55-nPnXXzzL-c=s64",
      "userId": "07244295768072477419"
     },
     "user_tz": -180
    },
    "id": "iAhtvQ4bymYe"
   },
   "outputs": [],
   "source": []
  },
  {
   "cell_type": "markdown",
   "metadata": {
    "id": "AQtgX1L9zdN6"
   },
   "source": [
    "В целом, все тоже, что и для минут. Тут еще более ощутимый процент месяцев почти без смс.\n",
    "\n",
    "Распределения менее симметричные."
   ]
  },
  {
   "cell_type": "code",
   "execution_count": 69,
   "metadata": {
    "executionInfo": {
     "elapsed": 22886,
     "status": "ok",
     "timestamp": 1602256764875,
     "user": {
      "displayName": "Eugene Puninskiy",
      "photoUrl": "https://lh3.googleusercontent.com/a-/AOh14Gg7VvTZjgiAHFG2tTBqY9aSHC2Bal55-nPnXXzzL-c=s64",
      "userId": "07244295768072477419"
     },
     "user_tz": -180
    },
    "id": "4s4pUIAAzrqH"
   },
   "outputs": [],
   "source": []
  },
  {
   "cell_type": "markdown",
   "metadata": {
    "id": "nvXCs4SAztbX"
   },
   "source": [
    "###  Трафик"
   ]
  },
  {
   "cell_type": "code",
   "execution_count": 84,
   "metadata": {
    "colab": {
     "base_uri": "https://localhost:8080/",
     "height": 142
    },
    "executionInfo": {
     "elapsed": 1462,
     "status": "ok",
     "timestamp": 1602258127247,
     "user": {
      "displayName": "Eugene Puninskiy",
      "photoUrl": "https://lh3.googleusercontent.com/a-/AOh14Gg7VvTZjgiAHFG2tTBqY9aSHC2Bal55-nPnXXzzL-c=s64",
      "userId": "07244295768072477419"
     },
     "user_tz": -180
    },
    "id": "Kmth11SUzzmS",
    "outputId": "f59e066a-83dc-4ce8-e771-41c1860604b8"
   },
   "outputs": [
    {
     "data": {
      "text/html": [
       "<div>\n",
       "<style scoped>\n",
       "    .dataframe tbody tr th:only-of-type {\n",
       "        vertical-align: middle;\n",
       "    }\n",
       "\n",
       "    .dataframe tbody tr th {\n",
       "        vertical-align: top;\n",
       "    }\n",
       "\n",
       "    .dataframe thead th {\n",
       "        text-align: right;\n",
       "    }\n",
       "</style>\n",
       "<table border=\"1\" class=\"dataframe\">\n",
       "  <thead>\n",
       "    <tr style=\"text-align: right;\">\n",
       "      <th></th>\n",
       "      <th>std</th>\n",
       "      <th>mean</th>\n",
       "      <th>median</th>\n",
       "    </tr>\n",
       "    <tr>\n",
       "      <th>tariff</th>\n",
       "      <th></th>\n",
       "      <th></th>\n",
       "      <th></th>\n",
       "    </tr>\n",
       "  </thead>\n",
       "  <tbody>\n",
       "    <tr>\n",
       "      <th>smart</th>\n",
       "      <td>5879</td>\n",
       "      <td>16201</td>\n",
       "      <td>16505</td>\n",
       "    </tr>\n",
       "    <tr>\n",
       "      <th>ultra</th>\n",
       "      <td>10101</td>\n",
       "      <td>19449</td>\n",
       "      <td>19304</td>\n",
       "    </tr>\n",
       "  </tbody>\n",
       "</table>\n",
       "</div>"
      ],
      "text/plain": [
       "          std   mean  median\n",
       "tariff                      \n",
       "smart    5879  16201   16505\n",
       "ultra   10101  19449   19304"
      ]
     },
     "execution_count": 84,
     "metadata": {
      "tags": []
     },
     "output_type": "execute_result"
    }
   ],
   "source": [
    "group_per_tarif_agg('mb_used').astype('int')"
   ]
  },
  {
   "cell_type": "code",
   "execution_count": 71,
   "metadata": {
    "colab": {
     "base_uri": "https://localhost:8080/",
     "height": 545
    },
    "executionInfo": {
     "elapsed": 23273,
     "status": "ok",
     "timestamp": 1602256765418,
     "user": {
      "displayName": "Eugene Puninskiy",
      "photoUrl": "https://lh3.googleusercontent.com/a-/AOh14Gg7VvTZjgiAHFG2tTBqY9aSHC2Bal55-nPnXXzzL-c=s64",
      "userId": "07244295768072477419"
     },
     "user_tz": -180
    },
    "id": "RzsREWopz5nh",
    "outputId": "8bc1226c-fbf5-4d6d-d498-b243734952f5"
   },
   "outputs": [
    {
     "data": {
      "image/png": "[encoded data removed]",
      "text/plain": [
       "<Figure size 432x288 with 1 Axes>"
      ]
     },
     "metadata": {
      "needs_background": "light",
      "tags": []
     },
     "output_type": "display_data"
    },
    {
     "data": {
      "image/png": "[encoded data removed]",
      "text/plain": [
       "<Figure size 432x288 with 1 Axes>"
      ]
     },
     "metadata": {
      "needs_background": "light",
      "tags": []
     },
     "output_type": "display_data"
    }
   ],
   "source": [
    "hist_tariffs('mb_used')"
   ]
  },
  {
   "cell_type": "markdown",
   "metadata": {
    "id": "8tDrJmOM0PKA"
   },
   "source": [
    "Очень похоже на распределение минут. Все сказанное про минуты тут тоже справедливо."
   ]
  },
  {
   "cell_type": "markdown",
   "metadata": {
    "id": "dOOC1YV90d38"
   },
   "source": [
    "## Вывод"
   ]
  },
  {
   "cell_type": "markdown",
   "metadata": {
    "id": "rhxyp2740g3e"
   },
   "source": [
    "Все распределения довольно симметричные и похожи на нормальное. Естественно, в тарифе \"Ultra\" средние и стандартные отклонения побольше, потому что тариф изначально расчитан на людей, которые пользуются связью активнее. Кроме того в тарифе сидят лишь 30 % пользователей, поэтому выборка вдвое меньше.\n",
    "\n",
    "Интересно, что в \"Ultra\" ощутимо выше процент нулевых или почти нулевых месяцев, когда абонент почти не пользуется услугами связи. Также видим, что многие абоненты не слишком часто используют смс-сообщения."
   ]
  },
  {
   "cell_type": "code",
   "execution_count": 72,
   "metadata": {
    "colab": {
     "base_uri": "https://localhost:8080/",
     "height": 35
    },
    "executionInfo": {
     "elapsed": 23180,
     "status": "ok",
     "timestamp": 1602256765419,
     "user": {
      "displayName": "Eugene Puninskiy",
      "photoUrl": "https://lh3.googleusercontent.com/a-/AOh14Gg7VvTZjgiAHFG2tTBqY9aSHC2Bal55-nPnXXzzL-c=s64",
      "userId": "07244295768072477419"
     },
     "user_tz": -180
    },
    "id": "g2fDfkDu06v2",
    "outputId": "9e4efaf2-90ff-44ad-8ecf-11264f33a20b"
   },
   "outputs": [
    {
     "data": {
      "text/plain": [
       "29.799999999999997"
      ]
     },
     "execution_count": 72,
     "metadata": {
      "tags": []
     },
     "output_type": "execute_result"
    }
   ],
   "source": [
    "len(users.query('tariff == \"ultra\"'))/500*100"
   ]
  },
  {
   "cell_type": "markdown",
   "metadata": {
    "id": "nwrBBGzjUnwk"
   },
   "source": [
    "# Шаг 4. Проверка гипотез"
   ]
  },
  {
   "cell_type": "markdown",
   "metadata": {
    "id": "ZDjTWYVJVBrv"
   },
   "source": [
    "## Гипотеза о средней выручке в тарифах Smart и Ultra"
   ]
  },
  {
   "cell_type": "markdown",
   "metadata": {
    "id": "2oRVx0FiV0vN"
   },
   "source": [
    "Сформулируем нулевую и альтернативную гипотезы:\n",
    "\n",
    "$$H_0: \\mu_s-\\mu_u = 0\\quad\\quad H_1: \\mu_s-\\mu_u\\ne0$$\n",
    "\n",
    "Будем использовать двух-сторонний $t$-тест c уровнем значимости 5%. \n",
    "\n",
    "Статистикой для теста будет\n",
    "$$\n",
    "t = \\frac{(\\bar S-\\bar U) - (\\mu_s-\\mu_u)}{\\sqrt {\\frac{\\sigma^2_s}{n_s}+\\frac{\\sigma^2_u}{n_u}}},\n",
    "$$\n",
    "которая в данном случае, так как $n_s, n_u$ достаточно велики будет распределено почти как $N(0, 1)$.\n",
    "\n",
    "\n",
    "\n"
   ]
  },
  {
   "cell_type": "code",
   "execution_count": 73,
   "metadata": {
    "colab": {
     "base_uri": "https://localhost:8080/",
     "height": 53
    },
    "executionInfo": {
     "elapsed": 23116,
     "status": "ok",
     "timestamp": 1602256765421,
     "user": {
      "displayName": "Eugene Puninskiy",
      "photoUrl": "https://lh3.googleusercontent.com/a-/AOh14Gg7VvTZjgiAHFG2tTBqY9aSHC2Bal55-nPnXXzzL-c=s64",
      "userId": "07244295768072477419"
     },
     "user_tz": -180
    },
    "id": "erV1pNieVAS5",
    "outputId": "cdb74021-c5ae-470c-8856-97bf6ddf54d7"
   },
   "outputs": [
    {
     "name": "stdout",
     "output_type": "stream",
     "text": [
      "p-значение: 2.6421117114478516e-274\n",
      "Отвергаем нулевую гипотезу\n"
     ]
    }
   ],
   "source": [
    "smart_profit = df[df['tariff']=='smart']['profit_per_month']\n",
    "ultra_profit = df[df['tariff']=='ultra']['profit_per_month']\n",
    "\n",
    "alpha = .05\n",
    "\n",
    "results = st.ttest_ind(\n",
    "    smart_profit, \n",
    "    ultra_profit, equal_var=False)\n",
    "\n",
    "print('p-значение:', results.pvalue)\n",
    "\n",
    "if (results.pvalue < alpha):\n",
    "    print(\"Отвергаем нулевую гипотезу\")\n",
    "else:\n",
    "    print(\"Не получилось отвергнуть нулевую гипотезу\")"
   ]
  },
  {
   "cell_type": "markdown",
   "metadata": {
    "id": "QmXuJIMMd5NP"
   },
   "source": [
    "Оценим саму разность средних наших выборок:"
   ]
  },
  {
   "cell_type": "code",
   "execution_count": 74,
   "metadata": {
    "colab": {
     "base_uri": "https://localhost:8080/",
     "height": 35
    },
    "executionInfo": {
     "elapsed": 23049,
     "status": "ok",
     "timestamp": 1602256765423,
     "user": {
      "displayName": "Eugene Puninskiy",
      "photoUrl": "https://lh3.googleusercontent.com/a-/AOh14Gg7VvTZjgiAHFG2tTBqY9aSHC2Bal55-nPnXXzzL-c=s64",
      "userId": "07244295768072477419"
     },
     "user_tz": -180
    },
    "id": "ZbeE_1ydde1L",
    "outputId": "8f9aac91-59a5-4edd-8125-aef8d6a85147"
   },
   "outputs": [
    {
     "name": "stdout",
     "output_type": "stream",
     "text": [
      "-812.7591255150585\n"
     ]
    }
   ],
   "source": [
    "print(smart_profit.mean() - ultra_profit.mean())"
   ]
  },
  {
   "cell_type": "markdown",
   "metadata": {
    "id": "8D-6sSyYdp-K"
   },
   "source": [
    "Видим, что, согласно нашим данным, **ежемесячная выручка в тарифе Ultra в среднем выше, чем в тарифе Smart**."
   ]
  },
  {
   "cell_type": "markdown",
   "metadata": {
    "id": "q5eNNdQEdS0m"
   },
   "source": [
    "## Гипотеза о Москвичах"
   ]
  },
  {
   "cell_type": "markdown",
   "metadata": {
    "id": "Mbgs1gKFi1uO"
   },
   "source": [
    "Добавим информацию о городе проживания, поделив всех на москвичей и не."
   ]
  },
  {
   "cell_type": "code",
   "execution_count": 75,
   "metadata": {
    "colab": {
     "base_uri": "https://localhost:8080/",
     "height": 419
    },
    "executionInfo": {
     "elapsed": 22992,
     "status": "ok",
     "timestamp": 1602256765424,
     "user": {
      "displayName": "Eugene Puninskiy",
      "photoUrl": "https://lh3.googleusercontent.com/a-/AOh14Gg7VvTZjgiAHFG2tTBqY9aSHC2Bal55-nPnXXzzL-c=s64",
      "userId": "07244295768072477419"
     },
     "user_tz": -180
    },
    "id": "f4PROuc3ZWKN",
    "outputId": "eed7eb63-9163-46bd-9595-c92c1b861d79"
   },
   "outputs": [
    {
     "data": {
      "text/html": [
       "<div>\n",
       "<style scoped>\n",
       "    .dataframe tbody tr th:only-of-type {\n",
       "        vertical-align: middle;\n",
       "    }\n",
       "\n",
       "    .dataframe tbody tr th {\n",
       "        vertical-align: top;\n",
       "    }\n",
       "\n",
       "    .dataframe thead th {\n",
       "        text-align: right;\n",
       "    }\n",
       "</style>\n",
       "<table border=\"1\" class=\"dataframe\">\n",
       "  <thead>\n",
       "    <tr style=\"text-align: right;\">\n",
       "      <th></th>\n",
       "      <th>user_id</th>\n",
       "      <th>age</th>\n",
       "      <th>churn_date</th>\n",
       "      <th>city</th>\n",
       "      <th>first_name</th>\n",
       "      <th>last_name</th>\n",
       "      <th>reg_date</th>\n",
       "      <th>tariff</th>\n",
       "      <th>msk</th>\n",
       "    </tr>\n",
       "  </thead>\n",
       "  <tbody>\n",
       "    <tr>\n",
       "      <th>0</th>\n",
       "      <td>1000</td>\n",
       "      <td>52</td>\n",
       "      <td>2018-12-31</td>\n",
       "      <td>Краснодар</td>\n",
       "      <td>Рафаил</td>\n",
       "      <td>Верещагин</td>\n",
       "      <td>2018-05-25</td>\n",
       "      <td>ultra</td>\n",
       "      <td>False</td>\n",
       "    </tr>\n",
       "    <tr>\n",
       "      <th>1</th>\n",
       "      <td>1001</td>\n",
       "      <td>41</td>\n",
       "      <td>2018-12-31</td>\n",
       "      <td>Москва</td>\n",
       "      <td>Иван</td>\n",
       "      <td>Ежов</td>\n",
       "      <td>2018-11-01</td>\n",
       "      <td>smart</td>\n",
       "      <td>True</td>\n",
       "    </tr>\n",
       "    <tr>\n",
       "      <th>2</th>\n",
       "      <td>1002</td>\n",
       "      <td>59</td>\n",
       "      <td>2018-12-31</td>\n",
       "      <td>Стерлитамак</td>\n",
       "      <td>Евгений</td>\n",
       "      <td>Абрамович</td>\n",
       "      <td>2018-06-17</td>\n",
       "      <td>smart</td>\n",
       "      <td>False</td>\n",
       "    </tr>\n",
       "    <tr>\n",
       "      <th>3</th>\n",
       "      <td>1003</td>\n",
       "      <td>23</td>\n",
       "      <td>2018-12-31</td>\n",
       "      <td>Москва</td>\n",
       "      <td>Белла</td>\n",
       "      <td>Белякова</td>\n",
       "      <td>2018-08-17</td>\n",
       "      <td>ultra</td>\n",
       "      <td>True</td>\n",
       "    </tr>\n",
       "    <tr>\n",
       "      <th>4</th>\n",
       "      <td>1004</td>\n",
       "      <td>68</td>\n",
       "      <td>2018-12-31</td>\n",
       "      <td>Новокузнецк</td>\n",
       "      <td>Татьяна</td>\n",
       "      <td>Авдеенко</td>\n",
       "      <td>2018-05-14</td>\n",
       "      <td>ultra</td>\n",
       "      <td>False</td>\n",
       "    </tr>\n",
       "    <tr>\n",
       "      <th>...</th>\n",
       "      <td>...</td>\n",
       "      <td>...</td>\n",
       "      <td>...</td>\n",
       "      <td>...</td>\n",
       "      <td>...</td>\n",
       "      <td>...</td>\n",
       "      <td>...</td>\n",
       "      <td>...</td>\n",
       "      <td>...</td>\n",
       "    </tr>\n",
       "    <tr>\n",
       "      <th>495</th>\n",
       "      <td>1495</td>\n",
       "      <td>65</td>\n",
       "      <td>2018-12-31</td>\n",
       "      <td>Иркутск</td>\n",
       "      <td>Авксентий</td>\n",
       "      <td>Фокин</td>\n",
       "      <td>2018-08-28</td>\n",
       "      <td>ultra</td>\n",
       "      <td>False</td>\n",
       "    </tr>\n",
       "    <tr>\n",
       "      <th>496</th>\n",
       "      <td>1496</td>\n",
       "      <td>36</td>\n",
       "      <td>2018-12-31</td>\n",
       "      <td>Вологда</td>\n",
       "      <td>Трифон</td>\n",
       "      <td>Блохин</td>\n",
       "      <td>2018-01-27</td>\n",
       "      <td>smart</td>\n",
       "      <td>False</td>\n",
       "    </tr>\n",
       "    <tr>\n",
       "      <th>497</th>\n",
       "      <td>1497</td>\n",
       "      <td>32</td>\n",
       "      <td>2018-12-31</td>\n",
       "      <td>Челябинск</td>\n",
       "      <td>Каролина</td>\n",
       "      <td>Агеева</td>\n",
       "      <td>2018-10-09</td>\n",
       "      <td>smart</td>\n",
       "      <td>False</td>\n",
       "    </tr>\n",
       "    <tr>\n",
       "      <th>498</th>\n",
       "      <td>1498</td>\n",
       "      <td>68</td>\n",
       "      <td>2018-10-25</td>\n",
       "      <td>Владикавказ</td>\n",
       "      <td>Всеволод</td>\n",
       "      <td>Акимчин</td>\n",
       "      <td>2018-07-19</td>\n",
       "      <td>smart</td>\n",
       "      <td>False</td>\n",
       "    </tr>\n",
       "    <tr>\n",
       "      <th>499</th>\n",
       "      <td>1499</td>\n",
       "      <td>35</td>\n",
       "      <td>2018-12-31</td>\n",
       "      <td>Пермь</td>\n",
       "      <td>Гектор</td>\n",
       "      <td>Корнилов</td>\n",
       "      <td>2018-09-27</td>\n",
       "      <td>smart</td>\n",
       "      <td>False</td>\n",
       "    </tr>\n",
       "  </tbody>\n",
       "</table>\n",
       "<p>500 rows × 9 columns</p>\n",
       "</div>"
      ],
      "text/plain": [
       "     user_id  age churn_date         city  ...  last_name   reg_date tariff    msk\n",
       "0       1000   52 2018-12-31    Краснодар  ...  Верещагин 2018-05-25  ultra  False\n",
       "1       1001   41 2018-12-31       Москва  ...       Ежов 2018-11-01  smart   True\n",
       "2       1002   59 2018-12-31  Стерлитамак  ...  Абрамович 2018-06-17  smart  False\n",
       "3       1003   23 2018-12-31       Москва  ...   Белякова 2018-08-17  ultra   True\n",
       "4       1004   68 2018-12-31  Новокузнецк  ...   Авдеенко 2018-05-14  ultra  False\n",
       "..       ...  ...        ...          ...  ...        ...        ...    ...    ...\n",
       "495     1495   65 2018-12-31      Иркутск  ...      Фокин 2018-08-28  ultra  False\n",
       "496     1496   36 2018-12-31      Вологда  ...     Блохин 2018-01-27  smart  False\n",
       "497     1497   32 2018-12-31    Челябинск  ...     Агеева 2018-10-09  smart  False\n",
       "498     1498   68 2018-10-25  Владикавказ  ...    Акимчин 2018-07-19  smart  False\n",
       "499     1499   35 2018-12-31        Пермь  ...   Корнилов 2018-09-27  smart  False\n",
       "\n",
       "[500 rows x 9 columns]"
      ]
     },
     "execution_count": 75,
     "metadata": {
      "tags": []
     },
     "output_type": "execute_result"
    }
   ],
   "source": [
    "users['msk'] = users['city'] == 'Москва'\n",
    "users"
   ]
  },
  {
   "cell_type": "code",
   "execution_count": 76,
   "metadata": {
    "colab": {
     "base_uri": "https://localhost:8080/",
     "height": 789
    },
    "executionInfo": {
     "elapsed": 22946,
     "status": "ok",
     "timestamp": 1602256765426,
     "user": {
      "displayName": "Eugene Puninskiy",
      "photoUrl": "https://lh3.googleusercontent.com/a-/AOh14Gg7VvTZjgiAHFG2tTBqY9aSHC2Bal55-nPnXXzzL-c=s64",
      "userId": "07244295768072477419"
     },
     "user_tz": -180
    },
    "id": "xWQMqB1Ni9RE",
    "outputId": "f58352b7-da22-4521-9bda-72e4d8e77a23"
   },
   "outputs": [
    {
     "data": {
      "text/html": [
       "<div>\n",
       "<style scoped>\n",
       "    .dataframe tbody tr th:only-of-type {\n",
       "        vertical-align: middle;\n",
       "    }\n",
       "\n",
       "    .dataframe tbody tr th {\n",
       "        vertical-align: top;\n",
       "    }\n",
       "\n",
       "    .dataframe thead th {\n",
       "        text-align: right;\n",
       "    }\n",
       "</style>\n",
       "<table border=\"1\" class=\"dataframe\">\n",
       "  <thead>\n",
       "    <tr style=\"text-align: right;\">\n",
       "      <th></th>\n",
       "      <th>user_id</th>\n",
       "      <th>month</th>\n",
       "      <th>calls_count</th>\n",
       "      <th>duration</th>\n",
       "      <th>sms_count</th>\n",
       "      <th>mb_used</th>\n",
       "      <th>tariff</th>\n",
       "      <th>reg_date</th>\n",
       "      <th>churn_date</th>\n",
       "      <th>profit_per_month</th>\n",
       "      <th>msk</th>\n",
       "    </tr>\n",
       "  </thead>\n",
       "  <tbody>\n",
       "    <tr>\n",
       "      <th>4</th>\n",
       "      <td>1000</td>\n",
       "      <td>5</td>\n",
       "      <td>17</td>\n",
       "      <td>150.06</td>\n",
       "      <td>22</td>\n",
       "      <td>2253.49</td>\n",
       "      <td>ultra</td>\n",
       "      <td>2018-05-25</td>\n",
       "      <td>2018-12-31</td>\n",
       "      <td>1950.0</td>\n",
       "      <td>False</td>\n",
       "    </tr>\n",
       "    <tr>\n",
       "      <th>5</th>\n",
       "      <td>1000</td>\n",
       "      <td>6</td>\n",
       "      <td>28</td>\n",
       "      <td>158.90</td>\n",
       "      <td>60</td>\n",
       "      <td>23233.77</td>\n",
       "      <td>ultra</td>\n",
       "      <td>2018-05-25</td>\n",
       "      <td>2018-12-31</td>\n",
       "      <td>1950.0</td>\n",
       "      <td>False</td>\n",
       "    </tr>\n",
       "    <tr>\n",
       "      <th>6</th>\n",
       "      <td>1000</td>\n",
       "      <td>7</td>\n",
       "      <td>41</td>\n",
       "      <td>318.80</td>\n",
       "      <td>75</td>\n",
       "      <td>14003.64</td>\n",
       "      <td>ultra</td>\n",
       "      <td>2018-05-25</td>\n",
       "      <td>2018-12-31</td>\n",
       "      <td>1950.0</td>\n",
       "      <td>False</td>\n",
       "    </tr>\n",
       "    <tr>\n",
       "      <th>7</th>\n",
       "      <td>1000</td>\n",
       "      <td>8</td>\n",
       "      <td>42</td>\n",
       "      <td>389.87</td>\n",
       "      <td>81</td>\n",
       "      <td>14055.93</td>\n",
       "      <td>ultra</td>\n",
       "      <td>2018-05-25</td>\n",
       "      <td>2018-12-31</td>\n",
       "      <td>1950.0</td>\n",
       "      <td>False</td>\n",
       "    </tr>\n",
       "    <tr>\n",
       "      <th>8</th>\n",
       "      <td>1000</td>\n",
       "      <td>9</td>\n",
       "      <td>46</td>\n",
       "      <td>440.14</td>\n",
       "      <td>57</td>\n",
       "      <td>14568.91</td>\n",
       "      <td>ultra</td>\n",
       "      <td>2018-05-25</td>\n",
       "      <td>2018-12-31</td>\n",
       "      <td>1950.0</td>\n",
       "      <td>False</td>\n",
       "    </tr>\n",
       "    <tr>\n",
       "      <th>9</th>\n",
       "      <td>1000</td>\n",
       "      <td>10</td>\n",
       "      <td>44</td>\n",
       "      <td>328.45</td>\n",
       "      <td>73</td>\n",
       "      <td>14702.49</td>\n",
       "      <td>ultra</td>\n",
       "      <td>2018-05-25</td>\n",
       "      <td>2018-12-31</td>\n",
       "      <td>1950.0</td>\n",
       "      <td>False</td>\n",
       "    </tr>\n",
       "    <tr>\n",
       "      <th>10</th>\n",
       "      <td>1000</td>\n",
       "      <td>11</td>\n",
       "      <td>37</td>\n",
       "      <td>319.04</td>\n",
       "      <td>58</td>\n",
       "      <td>14756.47</td>\n",
       "      <td>ultra</td>\n",
       "      <td>2018-05-25</td>\n",
       "      <td>2018-12-31</td>\n",
       "      <td>1950.0</td>\n",
       "      <td>False</td>\n",
       "    </tr>\n",
       "    <tr>\n",
       "      <th>11</th>\n",
       "      <td>1000</td>\n",
       "      <td>12</td>\n",
       "      <td>38</td>\n",
       "      <td>312.98</td>\n",
       "      <td>70</td>\n",
       "      <td>9817.61</td>\n",
       "      <td>ultra</td>\n",
       "      <td>2018-05-25</td>\n",
       "      <td>2018-12-31</td>\n",
       "      <td>1950.0</td>\n",
       "      <td>False</td>\n",
       "    </tr>\n",
       "    <tr>\n",
       "      <th>22</th>\n",
       "      <td>1001</td>\n",
       "      <td>11</td>\n",
       "      <td>45</td>\n",
       "      <td>408.12</td>\n",
       "      <td>0</td>\n",
       "      <td>18429.34</td>\n",
       "      <td>smart</td>\n",
       "      <td>2018-11-01</td>\n",
       "      <td>2018-12-31</td>\n",
       "      <td>1150.0</td>\n",
       "      <td>True</td>\n",
       "    </tr>\n",
       "    <tr>\n",
       "      <th>23</th>\n",
       "      <td>1001</td>\n",
       "      <td>12</td>\n",
       "      <td>47</td>\n",
       "      <td>391.34</td>\n",
       "      <td>0</td>\n",
       "      <td>14036.66</td>\n",
       "      <td>smart</td>\n",
       "      <td>2018-11-01</td>\n",
       "      <td>2018-12-31</td>\n",
       "      <td>550.0</td>\n",
       "      <td>True</td>\n",
       "    </tr>\n",
       "    <tr>\n",
       "      <th>29</th>\n",
       "      <td>1002</td>\n",
       "      <td>6</td>\n",
       "      <td>14</td>\n",
       "      <td>110.37</td>\n",
       "      <td>4</td>\n",
       "      <td>10856.82</td>\n",
       "      <td>smart</td>\n",
       "      <td>2018-06-17</td>\n",
       "      <td>2018-12-31</td>\n",
       "      <td>550.0</td>\n",
       "      <td>False</td>\n",
       "    </tr>\n",
       "    <tr>\n",
       "      <th>30</th>\n",
       "      <td>1002</td>\n",
       "      <td>7</td>\n",
       "      <td>21</td>\n",
       "      <td>204.75</td>\n",
       "      <td>11</td>\n",
       "      <td>17580.10</td>\n",
       "      <td>smart</td>\n",
       "      <td>2018-06-17</td>\n",
       "      <td>2018-12-31</td>\n",
       "      <td>1150.0</td>\n",
       "      <td>False</td>\n",
       "    </tr>\n",
       "    <tr>\n",
       "      <th>31</th>\n",
       "      <td>1002</td>\n",
       "      <td>8</td>\n",
       "      <td>37</td>\n",
       "      <td>269.71</td>\n",
       "      <td>13</td>\n",
       "      <td>20319.26</td>\n",
       "      <td>smart</td>\n",
       "      <td>2018-06-17</td>\n",
       "      <td>2018-12-31</td>\n",
       "      <td>1550.0</td>\n",
       "      <td>False</td>\n",
       "    </tr>\n",
       "    <tr>\n",
       "      <th>32</th>\n",
       "      <td>1002</td>\n",
       "      <td>9</td>\n",
       "      <td>25</td>\n",
       "      <td>195.85</td>\n",
       "      <td>4</td>\n",
       "      <td>16691.08</td>\n",
       "      <td>smart</td>\n",
       "      <td>2018-06-17</td>\n",
       "      <td>2018-12-31</td>\n",
       "      <td>950.0</td>\n",
       "      <td>False</td>\n",
       "    </tr>\n",
       "    <tr>\n",
       "      <th>33</th>\n",
       "      <td>1002</td>\n",
       "      <td>10</td>\n",
       "      <td>24</td>\n",
       "      <td>199.48</td>\n",
       "      <td>10</td>\n",
       "      <td>13888.25</td>\n",
       "      <td>smart</td>\n",
       "      <td>2018-06-17</td>\n",
       "      <td>2018-12-31</td>\n",
       "      <td>550.0</td>\n",
       "      <td>False</td>\n",
       "    </tr>\n",
       "  </tbody>\n",
       "</table>\n",
       "</div>"
      ],
      "text/plain": [
       "    user_id  month  calls_count  ...  churn_date  profit_per_month    msk\n",
       "4      1000      5           17  ...  2018-12-31            1950.0  False\n",
       "5      1000      6           28  ...  2018-12-31            1950.0  False\n",
       "6      1000      7           41  ...  2018-12-31            1950.0  False\n",
       "7      1000      8           42  ...  2018-12-31            1950.0  False\n",
       "8      1000      9           46  ...  2018-12-31            1950.0  False\n",
       "9      1000     10           44  ...  2018-12-31            1950.0  False\n",
       "10     1000     11           37  ...  2018-12-31            1950.0  False\n",
       "11     1000     12           38  ...  2018-12-31            1950.0  False\n",
       "22     1001     11           45  ...  2018-12-31            1150.0   True\n",
       "23     1001     12           47  ...  2018-12-31             550.0   True\n",
       "29     1002      6           14  ...  2018-12-31             550.0  False\n",
       "30     1002      7           21  ...  2018-12-31            1150.0  False\n",
       "31     1002      8           37  ...  2018-12-31            1550.0  False\n",
       "32     1002      9           25  ...  2018-12-31             950.0  False\n",
       "33     1002     10           24  ...  2018-12-31             550.0  False\n",
       "\n",
       "[15 rows x 11 columns]"
      ]
     },
     "execution_count": 76,
     "metadata": {
      "tags": []
     },
     "output_type": "execute_result"
    }
   ],
   "source": [
    "df = df.join(users.set_index('user_id')['msk'], on = 'user_id')\n",
    "df.head(15)"
   ]
  },
  {
   "cell_type": "markdown",
   "metadata": {
    "id": "H0A_jW0QAfo-"
   },
   "source": [
    "Кстати, москвичей у нас 19.8%, что несколько выше, чем доля москвичей во всем населении страны."
   ]
  },
  {
   "cell_type": "code",
   "execution_count": 83,
   "metadata": {
    "colab": {
     "base_uri": "https://localhost:8080/",
     "height": 35
    },
    "executionInfo": {
     "elapsed": 1260,
     "status": "ok",
     "timestamp": 1602257924385,
     "user": {
      "displayName": "Eugene Puninskiy",
      "photoUrl": "https://lh3.googleusercontent.com/a-/AOh14Gg7VvTZjgiAHFG2tTBqY9aSHC2Bal55-nPnXXzzL-c=s64",
      "userId": "07244295768072477419"
     },
     "user_tz": -180
    },
    "id": "57PYfub8AoEb",
    "outputId": "b5b84335-1fb4-442b-cc4f-b262b238abc7"
   },
   "outputs": [
    {
     "data": {
      "text/plain": [
       "19.8"
      ]
     },
     "execution_count": 83,
     "metadata": {
      "tags": []
     },
     "output_type": "execute_result"
    }
   ],
   "source": [
    "users['msk'].sum()/len(users)*100"
   ]
  },
  {
   "cell_type": "markdown",
   "metadata": {
    "id": "Q9861sYP9NlO"
   },
   "source": [
    "Сформулируем нулевую и альтернативную гипотезы:\n",
    "\n",
    "$$\n",
    "H_0: \\mu_m-\\mu_n = 0\\quad\\quad H_1: \\mu_m-\\mu_n\\ne0,$$\n",
    "где $\\mu_m$ - среднее по Москве, а $\\mu_n$ - по Немоскве.\n",
    "Будем использовать двух-сторонний $t$-тест c уровнем значимости 5%. Распределение самой статистики то же, что и в первой проверке."
   ]
  },
  {
   "cell_type": "code",
   "execution_count": 78,
   "metadata": {
    "colab": {
     "base_uri": "https://localhost:8080/",
     "height": 53
    },
    "executionInfo": {
     "elapsed": 1420,
     "status": "ok",
     "timestamp": 1602256938064,
     "user": {
      "displayName": "Eugene Puninskiy",
      "photoUrl": "https://lh3.googleusercontent.com/a-/AOh14Gg7VvTZjgiAHFG2tTBqY9aSHC2Bal55-nPnXXzzL-c=s64",
      "userId": "07244295768072477419"
     },
     "user_tz": -180
    },
    "id": "-uydgA_Z8CEA",
    "outputId": "1c722e55-4ed6-4c6f-aba2-86716c77b2a0"
   },
   "outputs": [
    {
     "name": "stdout",
     "output_type": "stream",
     "text": [
      "p-значение: 0.46183914667656145\n",
      "Не получилось отвергнуть нулевую гипотезу\n"
     ]
    }
   ],
   "source": [
    "msk_profit = df[df['msk']]['profit_per_month']\n",
    "ne_msk_profit = df[~df['msk']]['profit_per_month']\n",
    "\n",
    "alpha = .05\n",
    "\n",
    "results = st.ttest_ind(\n",
    "    msk_profit, \n",
    "    ne_msk_profit, equal_var=False)\n",
    "\n",
    "print('p-значение:', results.pvalue)\n",
    "\n",
    "if (results.pvalue < alpha):\n",
    "    print(\"Отвергаем нулевую гипотезу\")\n",
    "else:\n",
    "    print(\"Не получилось отвергнуть нулевую гипотезу\")"
   ]
  },
  {
   "cell_type": "markdown",
   "metadata": {
    "id": "1Ebm8uhK-NZr"
   },
   "source": [
    "Получается, что по нашим данным нельзя утверждать, что нулевая гипотеза неверна, а значит, **нет критической разницы между Москвой и Немосквой по среднемесячной выручке**."
   ]
  },
  {
   "cell_type": "markdown",
   "metadata": {
    "id": "Xb39fVbV-mt5"
   },
   "source": [
    "# Общий вывод"
   ]
  },
  {
   "cell_type": "markdown",
   "metadata": {
    "id": "lmc1r8pB-rC7"
   },
   "source": [
    "Нам необходимо решить, какой тариф прибыльнее для компании. Тестирование гипотез показало, что вероятно **тариф Ultra приносит в среднем больше, чем тариф Smart**. Таким образом, компании целесообразно вкладываться в продвижение тарифа Ultra и возможно как-то доработать тариф Smart.\n",
    "\n",
    "Тут правда нужно учесть не слишком большую выборку, как в целом, так и по тарифу Ultra. Для окончательного решения неплохо иметь выборку раз в 10 побольше.\n",
    "\n",
    "В ходе исследования мы также установили отсутствие значимой разницы между прибылью, получаемой с жителей столицы и регионов. \n",
    "\n"
   ]
  }
 ],
 "metadata": {
  "colab": {
   "authorship_tag": "ABX9TyMhyBWS7/e6RymaBQner3GZ",
   "collapsed_sections": [
    "Xx7A0PFPzykt",
    "NY4DlEp0EVuI"
   ],
   "mount_file_id": "1Vd9vF_n6fxs7n5dsrX946o1DMCQvkIKD",
   "name": "Project_3_Megaline.ipynb",
   "provenance": []
  },
  "kernelspec": {
   "display_name": "Python 3",
   "language": "python",
   "name": "python3"
  },
  "language_info": {
   "codemirror_mode": {
    "name": "ipython",
    "version": 3
   },
   "file_extension": ".py",
   "mimetype": "text/x-python",
   "name": "python",
   "nbconvert_exporter": "python",
   "pygments_lexer": "ipython3",
   "version": "3.8.3"
  },
  "toc": {
   "base_numbering": 1,
   "nav_menu": {},
   "number_sections": true,
   "sideBar": true,
   "skip_h1_title": false,
   "title_cell": "Table of Contents",
   "title_sidebar": "Contents",
   "toc_cell": true,
   "toc_position": {},
   "toc_section_display": true,
   "toc_window_display": true
  }
 },
 "nbformat": 4,
 "nbformat_minor": 1
}
