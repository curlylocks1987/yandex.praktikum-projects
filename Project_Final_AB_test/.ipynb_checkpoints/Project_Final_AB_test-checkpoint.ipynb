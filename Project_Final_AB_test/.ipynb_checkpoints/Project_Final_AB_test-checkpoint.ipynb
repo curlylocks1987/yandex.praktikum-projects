{
 "cells": [
  {
   "cell_type": "markdown",
   "metadata": {
    "toc": true
   },
   "source": [
    "<h1>Table of Contents<span class=\"tocSkip\"></span></h1>\n",
    "<div class=\"toc\"><ul class=\"toc-item\"><li><span><a href=\"#Imports\" data-toc-modified-id=\"Imports-1\"><span class=\"toc-item-num\">1&nbsp;&nbsp;</span>Imports</a></span></li><li><span><a href=\"#Финальный-проект-по-A/B-тестированию\" data-toc-modified-id=\"Финальный-проект-по-A/B-тестированию-2\"><span class=\"toc-item-num\">2&nbsp;&nbsp;</span>Финальный проект по A/B-тестированию</a></span><ul class=\"toc-item\"><li><span><a href=\"#Постановка-задачи\" data-toc-modified-id=\"Постановка-задачи-2.1\"><span class=\"toc-item-num\">2.1&nbsp;&nbsp;</span>Постановка задачи</a></span></li><li><span><a href=\"#Техническое-задание\" data-toc-modified-id=\"Техническое-задание-2.2\"><span class=\"toc-item-num\">2.2&nbsp;&nbsp;</span>Техническое задание</a></span></li><li><span><a href=\"#Описание-данных\" data-toc-modified-id=\"Описание-данных-2.3\"><span class=\"toc-item-num\">2.3&nbsp;&nbsp;</span>Описание данных</a></span></li></ul></li><li><span><a href=\"#Загрузка-данных\" data-toc-modified-id=\"Загрузка-данных-3\"><span class=\"toc-item-num\">3&nbsp;&nbsp;</span>Загрузка данных</a></span><ul class=\"toc-item\"><li><span><a href=\"#Календарь\" data-toc-modified-id=\"Календарь-3.1\"><span class=\"toc-item-num\">3.1&nbsp;&nbsp;</span>Календарь</a></span></li><li><span><a href=\"#Все-пользователи\" data-toc-modified-id=\"Все-пользователи-3.2\"><span class=\"toc-item-num\">3.2&nbsp;&nbsp;</span>Все пользователи</a></span></li><li><span><a href=\"#События-новых-пользователей\" data-toc-modified-id=\"События-новых-пользователей-3.3\"><span class=\"toc-item-num\">3.3&nbsp;&nbsp;</span>События новых пользователей</a></span></li><li><span><a href=\"#Участники-тестов\" data-toc-modified-id=\"Участники-тестов-3.4\"><span class=\"toc-item-num\">3.4&nbsp;&nbsp;</span>Участники тестов</a></span></li><li><span><a href=\"#Выводы-по-загрузке\" data-toc-modified-id=\"Выводы-по-загрузке-3.5\"><span class=\"toc-item-num\">3.5&nbsp;&nbsp;</span>Выводы по загрузке</a></span></li></ul></li><li><span><a href=\"#Предобработка-данных\" data-toc-modified-id=\"Предобработка-данных-4\"><span class=\"toc-item-num\">4&nbsp;&nbsp;</span>Предобработка данных</a></span><ul class=\"toc-item\"><li><span><a href=\"#Замена-названия-столбца-в-users\" data-toc-modified-id=\"Замена-названия-столбца-в-users-4.1\"><span class=\"toc-item-num\">4.1&nbsp;&nbsp;</span>Замена названия столбца в <code>users</code></a></span></li><li><span><a href=\"#Замена-типов-времени\" data-toc-modified-id=\"Замена-типов-времени-4.2\"><span class=\"toc-item-num\">4.2&nbsp;&nbsp;</span>Замена типов времени</a></span></li><li><span><a href=\"#Вывод-по-предобработке\" data-toc-modified-id=\"Вывод-по-предобработке-4.3\"><span class=\"toc-item-num\">4.3&nbsp;&nbsp;</span>Вывод по предобработке</a></span></li></ul></li><li><span><a href=\"#EDA\" data-toc-modified-id=\"EDA-5\"><span class=\"toc-item-num\">5&nbsp;&nbsp;</span>EDA</a></span><ul class=\"toc-item\"><li><span><a href=\"#Исходные-группы-теста\" data-toc-modified-id=\"Исходные-группы-теста-5.1\"><span class=\"toc-item-num\">5.1&nbsp;&nbsp;</span>Исходные группы теста</a></span></li><li><span><a href=\"#Пересечение-выборок-A-и-B\" data-toc-modified-id=\"Пересечение-выборок-A-и-B-5.2\"><span class=\"toc-item-num\">5.2&nbsp;&nbsp;</span>Пересечение выборок A и B</a></span></li><li><span><a href=\"#Конверсия-в-воронке\" data-toc-modified-id=\"Конверсия-в-воронке-5.3\"><span class=\"toc-item-num\">5.3&nbsp;&nbsp;</span>Конверсия в воронке</a></span></li><li><span><a href=\"#Распределение-событий-на-пользователя-в-выборках\" data-toc-modified-id=\"Распределение-событий-на-пользователя-в-выборках-5.4\"><span class=\"toc-item-num\">5.4&nbsp;&nbsp;</span>Распределение событий на пользователя в выборках</a></span></li><li><span><a href=\"#Как-заполнялись-выборки-во-времени\" data-toc-modified-id=\"Как-заполнялись-выборки-во-времени-5.5\"><span class=\"toc-item-num\">5.5&nbsp;&nbsp;</span>Как заполнялись выборки во времени</a></span></li><li><span><a href=\"#Распределение-числа-событий-по-дням\" data-toc-modified-id=\"Распределение-числа-событий-по-дням-5.6\"><span class=\"toc-item-num\">5.6&nbsp;&nbsp;</span>Распределение числа событий по дням</a></span></li><li><span><a href=\"#Вывод-по-EDA\" data-toc-modified-id=\"Вывод-по-EDA-5.7\"><span class=\"toc-item-num\">5.7&nbsp;&nbsp;</span>Вывод по EDA</a></span></li></ul></li><li><span><a href=\"#A/B-тест-для-конверсий\" data-toc-modified-id=\"A/B-тест-для-конверсий-6\"><span class=\"toc-item-num\">6&nbsp;&nbsp;</span>A/B-тест для конверсий</a></span><ul class=\"toc-item\"><li><span><a href=\"#Временное-сравнение-конверсий\" data-toc-modified-id=\"Временное-сравнение-конверсий-6.1\"><span class=\"toc-item-num\">6.1&nbsp;&nbsp;</span>Временное сравнение конверсий</a></span></li><li><span><a href=\"#Статистический-тест\" data-toc-modified-id=\"Статистический-тест-6.2\"><span class=\"toc-item-num\">6.2&nbsp;&nbsp;</span>Статистический тест</a></span></li></ul></li><li><span><a href=\"#Итоги\" data-toc-modified-id=\"Итоги-7\"><span class=\"toc-item-num\">7&nbsp;&nbsp;</span>Итоги</a></span><ul class=\"toc-item\"><li><span><a href=\"#Основные-этапы-работы\" data-toc-modified-id=\"Основные-этапы-работы-7.1\"><span class=\"toc-item-num\">7.1&nbsp;&nbsp;</span>Основные этапы работы</a></span></li><li><span><a href=\"#Выводы\" data-toc-modified-id=\"Выводы-7.2\"><span class=\"toc-item-num\">7.2&nbsp;&nbsp;</span>Выводы</a></span></li></ul></li></ul></div>"
   ]
  },
  {
   "cell_type": "markdown",
   "metadata": {},
   "source": [
    "# Imports"
   ]
  },
  {
   "cell_type": "code",
   "execution_count": 1,
   "metadata": {},
   "outputs": [],
   "source": [
    "import pandas as pd\n",
    "import matplotlib.pyplot as plt\n",
    "import plotly.express as px\n",
    "import datetime\n",
    "#import matplotlib.ticker as ticker\n",
    "import seaborn as sns\n",
    "from plotly import graph_objects as go\n",
    "import numpy as np\n",
    "import warnings\n",
    "import scipy.stats as st\n",
    "import math as mth\n",
    "warnings.filterwarnings(\"ignore\")"
   ]
  },
  {
   "cell_type": "markdown",
   "metadata": {},
   "source": [
    "# Финальный проект по A/B-тестированию"
   ]
  },
  {
   "cell_type": "markdown",
   "metadata": {},
   "source": [
    "## Постановка задачи"
   ]
  },
  {
   "cell_type": "markdown",
   "metadata": {},
   "source": [
    "Провести оценку результатов A/B-теста. В нашем распоряжении есть датасет с действиями пользователей, техническое задание и несколько вспомогательных датасетов.\n",
    "- Оценить корректность проведения теста\n",
    "- Проанализировать результаты теста\n",
    "\n",
    "Чтобы оценить корректность проведения теста, проверить:\n",
    "- пересечение тестовой аудитории с конкурирующим тестом,\n",
    "- совпадение теста и маркетинговых событий, другие проблемы временных границ теста."
   ]
  },
  {
   "cell_type": "markdown",
   "metadata": {},
   "source": [
    "## Техническое задание"
   ]
  },
  {
   "cell_type": "markdown",
   "metadata": {},
   "source": [
    "- Название теста: `recommender_system_test`\n",
    "- Группы: А (контрольная), B (новая платёжная воронка)\n",
    "- Дата запуска: 2020-12-07\n",
    "- Дата остановки набора новых пользователей: 2020-12-21\n",
    "- Дата остановки: 2021-01-04;\n",
    "- Аудитория: 15% новых пользователей из региона EU;\n",
    "- Назначение теста: тестирование изменений, связанных с внедрением улучшенной рекомендательной системы;\n",
    "- Ожидаемое количество участников теста: 6000.\n",
    "- Ожидаемый эффект: за 14 дней с момента регистрации в системе пользователи покажут улучшение каждой метрики не менее, чем на 10%:\n",
    "    - конверсии в просмотр карточек товаров — событие `product_page`\n",
    "    - просмотры корзины — `product_cart`\n",
    "    - покупки — `purchase`.\n"
   ]
  },
  {
   "cell_type": "markdown",
   "metadata": {},
   "source": [
    "## Описание данных"
   ]
  },
  {
   "cell_type": "markdown",
   "metadata": {},
   "source": [
    "`/datasets/ab_project_marketing_events.csv` — __календарь маркетинговых событий__ на 2020 год;\n",
    "Структура файла:\n",
    "- `name` — название маркетингового события;\n",
    "- `regions` — регионы, в которых будет проводиться рекламная кампания;\n",
    "- `start_dt` — дата начала кампании;\n",
    "- `finish_dt` — дата завершения кампании.\n",
    "\n",
    "`/datasets/final_ab_new_users.csv` — __все пользователи__, зарегистрировавшиеся в интернет-магазине в период с 7 по 21 декабря 2020 года;\n",
    "Структура файла:\n",
    "- `user_id` — идентификатор пользователя;\n",
    "- `first_date` — дата регистрации;\n",
    "- `region` — регион пользователя;\n",
    "- `device` — устройство, с которого происходила регистрация.\n",
    "\n",
    "`/datasets/final_ab_events.csv` — __все события__ новых пользователей в период с 7 декабря 2020 по 4 января 2021 года;\n",
    "Структура файла:\n",
    "- `user_id` — идентификатор пользователя;\n",
    "- `event_dt` — дата и время события;\n",
    "- `event_name` — тип события;\n",
    "- `details` — дополнительные данные о событии. Например, для покупок, `purchase`, в этом поле хранится стоимость покупки в долларах.\n",
    "\n",
    "`/datasets/final_ab_participants.csv` — __таблица участников тестов__.\n",
    "Структура файла:\n",
    "- `user_id` — идентификатор пользователя;\n",
    "- `ab_test` — название теста;\n",
    "- `group` — группа пользователя."
   ]
  },
  {
   "cell_type": "markdown",
   "metadata": {},
   "source": [
    "# Загрузка данных"
   ]
  },
  {
   "cell_type": "markdown",
   "metadata": {},
   "source": [
    "## Календарь"
   ]
  },
  {
   "cell_type": "code",
   "execution_count": 2,
   "metadata": {},
   "outputs": [
    {
     "ename": "FileNotFoundError",
     "evalue": "[Errno 2] No such file or directory: 'datasets/ab_project_marketing_events.csv'",
     "output_type": "error",
     "traceback": [
      "\u001b[0;31m---------------------------------------------------------------------------\u001b[0m",
      "\u001b[0;31mFileNotFoundError\u001b[0m                         Traceback (most recent call last)",
      "\u001b[0;32m<ipython-input-2-fa0c14337362>\u001b[0m in \u001b[0;36m<module>\u001b[0;34m\u001b[0m\n\u001b[0;32m----> 1\u001b[0;31m \u001b[0mcalendar\u001b[0m \u001b[0;34m=\u001b[0m \u001b[0mpd\u001b[0m\u001b[0;34m.\u001b[0m\u001b[0mread_csv\u001b[0m\u001b[0;34m(\u001b[0m\u001b[0;34m'datasets/ab_project_marketing_events.csv'\u001b[0m\u001b[0;34m)\u001b[0m\u001b[0;34m\u001b[0m\u001b[0;34m\u001b[0m\u001b[0m\n\u001b[0m\u001b[1;32m      2\u001b[0m \u001b[0mcalendar\u001b[0m\u001b[0;34m\u001b[0m\u001b[0;34m\u001b[0m\u001b[0m\n",
      "\u001b[0;32m/opt/anaconda3/lib/python3.8/site-packages/pandas/io/parsers.py\u001b[0m in \u001b[0;36mread_csv\u001b[0;34m(filepath_or_buffer, sep, delimiter, header, names, index_col, usecols, squeeze, prefix, mangle_dupe_cols, dtype, engine, converters, true_values, false_values, skipinitialspace, skiprows, skipfooter, nrows, na_values, keep_default_na, na_filter, verbose, skip_blank_lines, parse_dates, infer_datetime_format, keep_date_col, date_parser, dayfirst, cache_dates, iterator, chunksize, compression, thousands, decimal, lineterminator, quotechar, quoting, doublequote, escapechar, comment, encoding, dialect, error_bad_lines, warn_bad_lines, delim_whitespace, low_memory, memory_map, float_precision, storage_options)\u001b[0m\n\u001b[1;32m    608\u001b[0m     \u001b[0mkwds\u001b[0m\u001b[0;34m.\u001b[0m\u001b[0mupdate\u001b[0m\u001b[0;34m(\u001b[0m\u001b[0mkwds_defaults\u001b[0m\u001b[0;34m)\u001b[0m\u001b[0;34m\u001b[0m\u001b[0;34m\u001b[0m\u001b[0m\n\u001b[1;32m    609\u001b[0m \u001b[0;34m\u001b[0m\u001b[0m\n\u001b[0;32m--> 610\u001b[0;31m     \u001b[0;32mreturn\u001b[0m \u001b[0m_read\u001b[0m\u001b[0;34m(\u001b[0m\u001b[0mfilepath_or_buffer\u001b[0m\u001b[0;34m,\u001b[0m \u001b[0mkwds\u001b[0m\u001b[0;34m)\u001b[0m\u001b[0;34m\u001b[0m\u001b[0;34m\u001b[0m\u001b[0m\n\u001b[0m\u001b[1;32m    611\u001b[0m \u001b[0;34m\u001b[0m\u001b[0m\n\u001b[1;32m    612\u001b[0m \u001b[0;34m\u001b[0m\u001b[0m\n",
      "\u001b[0;32m/opt/anaconda3/lib/python3.8/site-packages/pandas/io/parsers.py\u001b[0m in \u001b[0;36m_read\u001b[0;34m(filepath_or_buffer, kwds)\u001b[0m\n\u001b[1;32m    460\u001b[0m \u001b[0;34m\u001b[0m\u001b[0m\n\u001b[1;32m    461\u001b[0m     \u001b[0;31m# Create the parser.\u001b[0m\u001b[0;34m\u001b[0m\u001b[0;34m\u001b[0m\u001b[0;34m\u001b[0m\u001b[0m\n\u001b[0;32m--> 462\u001b[0;31m     \u001b[0mparser\u001b[0m \u001b[0;34m=\u001b[0m \u001b[0mTextFileReader\u001b[0m\u001b[0;34m(\u001b[0m\u001b[0mfilepath_or_buffer\u001b[0m\u001b[0;34m,\u001b[0m \u001b[0;34m**\u001b[0m\u001b[0mkwds\u001b[0m\u001b[0;34m)\u001b[0m\u001b[0;34m\u001b[0m\u001b[0;34m\u001b[0m\u001b[0m\n\u001b[0m\u001b[1;32m    463\u001b[0m \u001b[0;34m\u001b[0m\u001b[0m\n\u001b[1;32m    464\u001b[0m     \u001b[0;32mif\u001b[0m \u001b[0mchunksize\u001b[0m \u001b[0;32mor\u001b[0m \u001b[0miterator\u001b[0m\u001b[0;34m:\u001b[0m\u001b[0;34m\u001b[0m\u001b[0;34m\u001b[0m\u001b[0m\n",
      "\u001b[0;32m/opt/anaconda3/lib/python3.8/site-packages/pandas/io/parsers.py\u001b[0m in \u001b[0;36m__init__\u001b[0;34m(self, f, engine, **kwds)\u001b[0m\n\u001b[1;32m    817\u001b[0m             \u001b[0mself\u001b[0m\u001b[0;34m.\u001b[0m\u001b[0moptions\u001b[0m\u001b[0;34m[\u001b[0m\u001b[0;34m\"has_index_names\"\u001b[0m\u001b[0;34m]\u001b[0m \u001b[0;34m=\u001b[0m \u001b[0mkwds\u001b[0m\u001b[0;34m[\u001b[0m\u001b[0;34m\"has_index_names\"\u001b[0m\u001b[0;34m]\u001b[0m\u001b[0;34m\u001b[0m\u001b[0;34m\u001b[0m\u001b[0m\n\u001b[1;32m    818\u001b[0m \u001b[0;34m\u001b[0m\u001b[0m\n\u001b[0;32m--> 819\u001b[0;31m         \u001b[0mself\u001b[0m\u001b[0;34m.\u001b[0m\u001b[0m_engine\u001b[0m \u001b[0;34m=\u001b[0m \u001b[0mself\u001b[0m\u001b[0;34m.\u001b[0m\u001b[0m_make_engine\u001b[0m\u001b[0;34m(\u001b[0m\u001b[0mself\u001b[0m\u001b[0;34m.\u001b[0m\u001b[0mengine\u001b[0m\u001b[0;34m)\u001b[0m\u001b[0;34m\u001b[0m\u001b[0;34m\u001b[0m\u001b[0m\n\u001b[0m\u001b[1;32m    820\u001b[0m \u001b[0;34m\u001b[0m\u001b[0m\n\u001b[1;32m    821\u001b[0m     \u001b[0;32mdef\u001b[0m \u001b[0mclose\u001b[0m\u001b[0;34m(\u001b[0m\u001b[0mself\u001b[0m\u001b[0;34m)\u001b[0m\u001b[0;34m:\u001b[0m\u001b[0;34m\u001b[0m\u001b[0;34m\u001b[0m\u001b[0m\n",
      "\u001b[0;32m/opt/anaconda3/lib/python3.8/site-packages/pandas/io/parsers.py\u001b[0m in \u001b[0;36m_make_engine\u001b[0;34m(self, engine)\u001b[0m\n\u001b[1;32m   1048\u001b[0m             )\n\u001b[1;32m   1049\u001b[0m         \u001b[0;31m# error: Too many arguments for \"ParserBase\"\u001b[0m\u001b[0;34m\u001b[0m\u001b[0;34m\u001b[0m\u001b[0;34m\u001b[0m\u001b[0m\n\u001b[0;32m-> 1050\u001b[0;31m         \u001b[0;32mreturn\u001b[0m \u001b[0mmapping\u001b[0m\u001b[0;34m[\u001b[0m\u001b[0mengine\u001b[0m\u001b[0;34m]\u001b[0m\u001b[0;34m(\u001b[0m\u001b[0mself\u001b[0m\u001b[0;34m.\u001b[0m\u001b[0mf\u001b[0m\u001b[0;34m,\u001b[0m \u001b[0;34m**\u001b[0m\u001b[0mself\u001b[0m\u001b[0;34m.\u001b[0m\u001b[0moptions\u001b[0m\u001b[0;34m)\u001b[0m  \u001b[0;31m# type: ignore[call-arg]\u001b[0m\u001b[0;34m\u001b[0m\u001b[0;34m\u001b[0m\u001b[0m\n\u001b[0m\u001b[1;32m   1051\u001b[0m \u001b[0;34m\u001b[0m\u001b[0m\n\u001b[1;32m   1052\u001b[0m     \u001b[0;32mdef\u001b[0m \u001b[0m_failover_to_python\u001b[0m\u001b[0;34m(\u001b[0m\u001b[0mself\u001b[0m\u001b[0;34m)\u001b[0m\u001b[0;34m:\u001b[0m\u001b[0;34m\u001b[0m\u001b[0;34m\u001b[0m\u001b[0m\n",
      "\u001b[0;32m/opt/anaconda3/lib/python3.8/site-packages/pandas/io/parsers.py\u001b[0m in \u001b[0;36m__init__\u001b[0;34m(self, src, **kwds)\u001b[0m\n\u001b[1;32m   1865\u001b[0m \u001b[0;34m\u001b[0m\u001b[0m\n\u001b[1;32m   1866\u001b[0m         \u001b[0;31m# open handles\u001b[0m\u001b[0;34m\u001b[0m\u001b[0;34m\u001b[0m\u001b[0;34m\u001b[0m\u001b[0m\n\u001b[0;32m-> 1867\u001b[0;31m         \u001b[0mself\u001b[0m\u001b[0;34m.\u001b[0m\u001b[0m_open_handles\u001b[0m\u001b[0;34m(\u001b[0m\u001b[0msrc\u001b[0m\u001b[0;34m,\u001b[0m \u001b[0mkwds\u001b[0m\u001b[0;34m)\u001b[0m\u001b[0;34m\u001b[0m\u001b[0;34m\u001b[0m\u001b[0m\n\u001b[0m\u001b[1;32m   1868\u001b[0m         \u001b[0;32massert\u001b[0m \u001b[0mself\u001b[0m\u001b[0;34m.\u001b[0m\u001b[0mhandles\u001b[0m \u001b[0;32mis\u001b[0m \u001b[0;32mnot\u001b[0m \u001b[0;32mNone\u001b[0m\u001b[0;34m\u001b[0m\u001b[0;34m\u001b[0m\u001b[0m\n\u001b[1;32m   1869\u001b[0m         \u001b[0;32mfor\u001b[0m \u001b[0mkey\u001b[0m \u001b[0;32min\u001b[0m \u001b[0;34m(\u001b[0m\u001b[0;34m\"storage_options\"\u001b[0m\u001b[0;34m,\u001b[0m \u001b[0;34m\"encoding\"\u001b[0m\u001b[0;34m,\u001b[0m \u001b[0;34m\"memory_map\"\u001b[0m\u001b[0;34m,\u001b[0m \u001b[0;34m\"compression\"\u001b[0m\u001b[0;34m)\u001b[0m\u001b[0;34m:\u001b[0m\u001b[0;34m\u001b[0m\u001b[0;34m\u001b[0m\u001b[0m\n",
      "\u001b[0;32m/opt/anaconda3/lib/python3.8/site-packages/pandas/io/parsers.py\u001b[0m in \u001b[0;36m_open_handles\u001b[0;34m(self, src, kwds)\u001b[0m\n\u001b[1;32m   1360\u001b[0m         \u001b[0mLet\u001b[0m \u001b[0mthe\u001b[0m \u001b[0mreaders\u001b[0m \u001b[0mopen\u001b[0m \u001b[0mIOHanldes\u001b[0m \u001b[0mafter\u001b[0m \u001b[0mthey\u001b[0m \u001b[0mare\u001b[0m \u001b[0mdone\u001b[0m \u001b[0;32mwith\u001b[0m \u001b[0mtheir\u001b[0m \u001b[0mpotential\u001b[0m \u001b[0mraises\u001b[0m\u001b[0;34m.\u001b[0m\u001b[0;34m\u001b[0m\u001b[0;34m\u001b[0m\u001b[0m\n\u001b[1;32m   1361\u001b[0m         \"\"\"\n\u001b[0;32m-> 1362\u001b[0;31m         self.handles = get_handle(\n\u001b[0m\u001b[1;32m   1363\u001b[0m             \u001b[0msrc\u001b[0m\u001b[0;34m,\u001b[0m\u001b[0;34m\u001b[0m\u001b[0;34m\u001b[0m\u001b[0m\n\u001b[1;32m   1364\u001b[0m             \u001b[0;34m\"r\"\u001b[0m\u001b[0;34m,\u001b[0m\u001b[0;34m\u001b[0m\u001b[0;34m\u001b[0m\u001b[0m\n",
      "\u001b[0;32m/opt/anaconda3/lib/python3.8/site-packages/pandas/io/common.py\u001b[0m in \u001b[0;36mget_handle\u001b[0;34m(path_or_buf, mode, encoding, compression, memory_map, is_text, errors, storage_options)\u001b[0m\n\u001b[1;32m    640\u001b[0m                 \u001b[0merrors\u001b[0m \u001b[0;34m=\u001b[0m \u001b[0;34m\"replace\"\u001b[0m\u001b[0;34m\u001b[0m\u001b[0;34m\u001b[0m\u001b[0m\n\u001b[1;32m    641\u001b[0m             \u001b[0;31m# Encoding\u001b[0m\u001b[0;34m\u001b[0m\u001b[0;34m\u001b[0m\u001b[0;34m\u001b[0m\u001b[0m\n\u001b[0;32m--> 642\u001b[0;31m             handle = open(\n\u001b[0m\u001b[1;32m    643\u001b[0m                 \u001b[0mhandle\u001b[0m\u001b[0;34m,\u001b[0m\u001b[0;34m\u001b[0m\u001b[0;34m\u001b[0m\u001b[0m\n\u001b[1;32m    644\u001b[0m                 \u001b[0mioargs\u001b[0m\u001b[0;34m.\u001b[0m\u001b[0mmode\u001b[0m\u001b[0;34m,\u001b[0m\u001b[0;34m\u001b[0m\u001b[0;34m\u001b[0m\u001b[0m\n",
      "\u001b[0;31mFileNotFoundError\u001b[0m: [Errno 2] No such file or directory: 'datasets/ab_project_marketing_events.csv'"
     ]
    }
   ],
   "source": [
    "calendar = pd.read_csv('datasets/ab_project_marketing_events.csv')\n",
    "calendar"
   ]
  },
  {
   "cell_type": "code",
   "execution_count": null,
   "metadata": {},
   "outputs": [],
   "source": [
    "calendar.info()"
   ]
  },
  {
   "cell_type": "code",
   "execution_count": null,
   "metadata": {},
   "outputs": [],
   "source": [
    "calendar.duplicated().sum()"
   ]
  },
  {
   "cell_type": "markdown",
   "metadata": {},
   "source": [
    "В данном DataFrame всего лишь 14 строк и 4 колонки. Пропусков нет и дубликатов тоже. Есть смысл преобразовать время в `datetime`."
   ]
  },
  {
   "cell_type": "markdown",
   "metadata": {},
   "source": [
    "## Все пользователи"
   ]
  },
  {
   "cell_type": "code",
   "execution_count": null,
   "metadata": {
    "scrolled": true
   },
   "outputs": [],
   "source": [
    "users = pd.read_csv('datasets/final_ab_new_users.csv')\n",
    "users"
   ]
  },
  {
   "cell_type": "markdown",
   "metadata": {},
   "source": [
    "Нас будут интересовать __только пользователи из региона EU__"
   ]
  },
  {
   "cell_type": "code",
   "execution_count": null,
   "metadata": {},
   "outputs": [],
   "source": [
    "users = users.query('region == \"EU\"')"
   ]
  },
  {
   "cell_type": "code",
   "execution_count": null,
   "metadata": {},
   "outputs": [],
   "source": [
    "users.info()"
   ]
  },
  {
   "cell_type": "code",
   "execution_count": null,
   "metadata": {},
   "outputs": [],
   "source": [
    "users.duplicated().sum()"
   ]
  },
  {
   "cell_type": "markdown",
   "metadata": {},
   "source": [
    "Тут уже 46720 строки и 4 колонки. Дубликтов и пропусков нет. Даты необходимо перевести в формат `datetime`. Можно заменить название `first_date` на `reg_dt`. Так будет понятнее."
   ]
  },
  {
   "cell_type": "markdown",
   "metadata": {},
   "source": [
    "## События новых пользователей"
   ]
  },
  {
   "cell_type": "code",
   "execution_count": null,
   "metadata": {},
   "outputs": [],
   "source": [
    "events = pd.read_csv('datasets/final_ab_events.csv')\n",
    "events"
   ]
  },
  {
   "cell_type": "markdown",
   "metadata": {},
   "source": [
    "Нас интересуют __только события пользователей из региона EU__"
   ]
  },
  {
   "cell_type": "code",
   "execution_count": null,
   "metadata": {},
   "outputs": [],
   "source": [
    "eu_users = users['user_id'].unique()\n",
    "events = events.query(\"user_id in @eu_users\")"
   ]
  },
  {
   "cell_type": "code",
   "execution_count": null,
   "metadata": {},
   "outputs": [],
   "source": [
    "events.info()"
   ]
  },
  {
   "cell_type": "code",
   "execution_count": null,
   "metadata": {},
   "outputs": [],
   "source": [
    "events.duplicated().sum()"
   ]
  },
  {
   "cell_type": "markdown",
   "metadata": {},
   "source": [
    "20564 строки и 4 столбца. Имеются пропуски в столбце `details`, но это из-за того, что не для всех типов событий детали указаны. Дубликотов нет. \n",
    "\n",
    "Дату опять-таки нужно конвертировать в `datetime`. Кстати, видим, что __реальные даты теста 12-07 по 12-30, а не по 01-04__, как заявлено в описании теста."
   ]
  },
  {
   "cell_type": "markdown",
   "metadata": {},
   "source": [
    "## Участники тестов"
   ]
  },
  {
   "cell_type": "code",
   "execution_count": null,
   "metadata": {
    "scrolled": true
   },
   "outputs": [],
   "source": [
    "participants = pd.read_csv('datasets/final_ab_participants.csv')\n",
    "participants"
   ]
  },
  {
   "cell_type": "markdown",
   "metadata": {},
   "source": [
    "Нас интересуют только данные теста `recommender_system_test`, но тут могут быть пересечения с параллельным тестом, т.е. пользователи, которые принимали участие в обоих тестированиях."
   ]
  },
  {
   "cell_type": "code",
   "execution_count": null,
   "metadata": {
    "scrolled": true
   },
   "outputs": [],
   "source": [
    "participants.query('ab_test == \"recommender_system_test\"').merge(participants.query('ab_test == \"interface_eu_test\"'), on='user_id')"
   ]
  },
  {
   "cell_type": "markdown",
   "metadata": {},
   "source": [
    "Видим, что 1602 пользователя приняли участие в обоих тестах.\n",
    "\n",
    "Поскольку только __пользователям группы B второго теста (interface_eu)__ показывали какую-то дополнительную измененную картинку сайта, которая могла бы повлиять на наше исследование, то удалим их."
   ]
  },
  {
   "cell_type": "code",
   "execution_count": null,
   "metadata": {},
   "outputs": [],
   "source": [
    "interface_eu_group_B = participants.query('ab_test == \"interface_eu_test\" and group == \"B\"')['user_id']\n",
    "len (interface_eu_group_B)"
   ]
  },
  {
   "cell_type": "code",
   "execution_count": null,
   "metadata": {},
   "outputs": [],
   "source": [
    "len(participants.query('ab_test == \"recommender_system_test\"'))"
   ]
  },
  {
   "cell_type": "code",
   "execution_count": null,
   "metadata": {},
   "outputs": [],
   "source": [
    "participants = participants.query('ab_test == \"recommender_system_test\" and user_id not in @interface_eu_group_B')\n",
    "participants.info()"
   ]
  },
  {
   "cell_type": "markdown",
   "metadata": {},
   "source": [
    "Таким образом мы потеряли около 800 пользователей, что чуствительно, но не смертельно.\n",
    "\n",
    "Осталось 5918 человек. Посмотрим, все ли в порядке и все ли они все из EU?"
   ]
  },
  {
   "cell_type": "code",
   "execution_count": null,
   "metadata": {},
   "outputs": [],
   "source": [
    "len(set(participants['user_id']).intersection(set(users['user_id'])))"
   ]
  },
  {
   "cell_type": "markdown",
   "metadata": {},
   "source": [
    "Оказывается не все! Значит нужно удалить лишних:"
   ]
  },
  {
   "cell_type": "code",
   "execution_count": null,
   "metadata": {},
   "outputs": [],
   "source": [
    "participants = participants.query('user_id in @eu_users')\n",
    "participants.info()"
   ]
  },
  {
   "cell_type": "markdown",
   "metadata": {
    "variables": {
     "len(participants)": "5568"
    }
   },
   "source": [
    "В итоге у нас __{{len(participants)}} участников__."
   ]
  },
  {
   "cell_type": "markdown",
   "metadata": {},
   "source": [
    "Также оставим записи только об интересующих нас пользователей в таблицах users и events"
   ]
  },
  {
   "cell_type": "code",
   "execution_count": null,
   "metadata": {},
   "outputs": [],
   "source": [
    "users = users.query('user_id in @participants.user_id')\n",
    "users"
   ]
  },
  {
   "cell_type": "code",
   "execution_count": null,
   "metadata": {},
   "outputs": [],
   "source": [
    "events = events.query('user_id in @participants.user_id')\n",
    "events"
   ]
  },
  {
   "cell_type": "code",
   "execution_count": null,
   "metadata": {},
   "outputs": [],
   "source": [
    "participants.duplicated().sum()"
   ]
  },
  {
   "cell_type": "markdown",
   "metadata": {},
   "source": [
    "Тут у нас 5568 строк и 3 колонки. Дубликатов и пропусков нет. Все типы в порядке."
   ]
  },
  {
   "cell_type": "markdown",
   "metadata": {},
   "source": [
    "## Выводы по загрузке"
   ]
  },
  {
   "cell_type": "markdown",
   "metadata": {},
   "source": [
    "- Загрузили 4 таблицы. В данных не обнаружено дубликатов. Пропуски встречаются только в одном столбце `details` таблицы `events`, они объяснимы, делать с ними ничего не нужно.\n",
    "\n",
    "- Оставили в таблице участники `participants` только тех, кто участвовал в нужном нам тесте и не был в группе B параллельного теста. Затем оставили только интересующих нас пользователей в таблицах `users` и `events`.\n",
    "\n",
    "- Во всех датафреймах оставили только пользователей и события пользователей из EU.\n",
    "\n",
    "Необходимые преобразования:\n",
    "\n",
    "- Везде, где необходимо: перевести время в формат `datetime`\n",
    "\n",
    "- В датафрейме `users` заменить название столбца `first_date` на `reg_dt`."
   ]
  },
  {
   "cell_type": "markdown",
   "metadata": {},
   "source": [
    "# Предобработка данных"
   ]
  },
  {
   "cell_type": "markdown",
   "metadata": {},
   "source": [
    "## Замена названия столбца в `users`"
   ]
  },
  {
   "cell_type": "code",
   "execution_count": null,
   "metadata": {},
   "outputs": [],
   "source": [
    "users = users.rename(columns={\"first_date\":\"reg_dt\"})\n",
    "users.columns"
   ]
  },
  {
   "cell_type": "markdown",
   "metadata": {},
   "source": [
    "## Замена типов времени"
   ]
  },
  {
   "cell_type": "code",
   "execution_count": null,
   "metadata": {},
   "outputs": [],
   "source": [
    "def dt_to_datetime(df):\n",
    "    for col in df.columns:\n",
    "        if \"_dt\" in col:\n",
    "            df[col] = pd.to_datetime(df[col])\n",
    "            \n",
    "df_list = [calendar, users, events, participants]            \n",
    "            \n",
    "for df in df_list:\n",
    "    dt_to_datetime(df)\n",
    "    print(df.info())\n",
    "    print(\" \")\n",
    "    "
   ]
  },
  {
   "cell_type": "markdown",
   "metadata": {},
   "source": [
    "## Вывод по предобработке"
   ]
  },
  {
   "cell_type": "markdown",
   "metadata": {},
   "source": [
    "- Заменили названия столбца в `users` с `first_date` на `reg_dt`\n",
    "- Заменили типы всех столбцов с датой на `datetime`"
   ]
  },
  {
   "cell_type": "markdown",
   "metadata": {},
   "source": [
    "# EDA"
   ]
  },
  {
   "cell_type": "markdown",
   "metadata": {},
   "source": [
    "## Исходные группы теста"
   ]
  },
  {
   "cell_type": "markdown",
   "metadata": {},
   "source": [
    "Сформируем нужную таблицу с информацией о пользователях из нашего теста, совершавших действия."
   ]
  },
  {
   "cell_type": "code",
   "execution_count": null,
   "metadata": {},
   "outputs": [],
   "source": [
    "participants = participants.merge(users, on='user_id')\n",
    "participants"
   ]
  },
  {
   "cell_type": "code",
   "execution_count": null,
   "metadata": {
    "scrolled": true
   },
   "outputs": [],
   "source": [
    "events_participants = events.merge(participants, on='user_id')\n",
    "events_participants\n"
   ]
  },
  {
   "cell_type": "code",
   "execution_count": null,
   "metadata": {},
   "outputs": [],
   "source": [
    "first_event = events_participants['event_dt'].min()\n",
    "last_event = events_participants['event_dt'].max()\n",
    "print('Саммая раняя дата события: ', first_event)\n",
    "print('Саммая поздняя дата события: ', last_event)"
   ]
  },
  {
   "cell_type": "markdown",
   "metadata": {},
   "source": [
    "Мы хотим, чтобы у нас были данные за 14 дней с момента регистрации, но реально, как мы видим, самая поздняя дата это 12-30, т.е. __пользователи зарегистрировавшиеся начиная с 18 числа уже не соотвествуют требованию о 14-дневной длительности теста__. Тут конечно проявляется плохой тайминг теста около новогодних праздников. \n",
    "\n",
    "Вероятно, стоит удалить таких пользователей из рассмотрения."
   ]
  },
  {
   "cell_type": "code",
   "execution_count": null,
   "metadata": {},
   "outputs": [],
   "source": [
    "events_participants = events_participants.query('reg_dt < \"2020-12-18\"')\n",
    "len(events_participants)"
   ]
  },
  {
   "cell_type": "code",
   "execution_count": null,
   "metadata": {},
   "outputs": [],
   "source": [
    "users14 = events_participants['user_id'].unique()\n",
    "participants = participants.query('reg_dt < \"2020-12-18\"')"
   ]
  },
  {
   "cell_type": "code",
   "execution_count": null,
   "metadata": {},
   "outputs": [],
   "source": [
    "users_at_least_one_event_count = events_participants['user_id'].nunique()"
   ]
  },
  {
   "cell_type": "code",
   "execution_count": null,
   "metadata": {},
   "outputs": [],
   "source": [
    "print(\"Реальное число участников теста:\", len(participants))\n",
    "print(\"Реальное число участников теста, совершивших хоть одно действие:\", users_at_least_one_event_count)\n",
    "print(\"Реальное число событий в тесте:\", len(events_participants))\n",
    "print(\"Реальное число событий на участника теста: {:.2f}\".format(len(events_participants) / len(participants)))"
   ]
  },
  {
   "cell_type": "code",
   "execution_count": null,
   "metadata": {},
   "outputs": [],
   "source": [
    "participants_groups = participants['group'].value_counts()\n",
    "participants_groups"
   ]
  },
  {
   "cell_type": "code",
   "execution_count": null,
   "metadata": {},
   "outputs": [],
   "source": [
    "A_to_B_ratio = (participants_groups['A'] / participants_groups['B']).round(2)"
   ]
  },
  {
   "cell_type": "markdown",
   "metadata": {
    "variables": {
     "A_to_B_ratio": "1.37",
     "len(participants)": "3869",
     "users_at_least_one_event_count": "1880"
    }
   },
   "source": [
    "Видим, что __реальное кол-во участников теста {{len(participants)}}__, а если смотреть только на тех, кто совершали какие-то действия, то получится __{{users_at_least_one_event_count}}__.\n",
    "\n",
    "Соотношение групп всех участников тест A к В: {{A_to_B_ratio}} к 1. Это не очень хорошее соотношение групп, обычно стремятся сделать их равными. Но все же какие-то выводы можно будет сделать."
   ]
  },
  {
   "cell_type": "markdown",
   "metadata": {},
   "source": [
    "## Пересечение выборок A и B"
   ]
  },
  {
   "cell_type": "code",
   "execution_count": null,
   "metadata": {},
   "outputs": [],
   "source": [
    "participants_A = participants.query('group == \"A\"')\n",
    "participants_B = participants.query('group == \"B\"')\n",
    "len(participants_A.merge(participants_B, on='user_id'))"
   ]
  },
  {
   "cell_type": "markdown",
   "metadata": {},
   "source": [
    "__Пересечения выборок не обнаружено__"
   ]
  },
  {
   "cell_type": "markdown",
   "metadata": {},
   "source": [
    "## Конверсия в воронке"
   ]
  },
  {
   "cell_type": "markdown",
   "metadata": {},
   "source": [
    "Посмотрим сколько у нас всего событий и уникальных пользователей по событиям:"
   ]
  },
  {
   "cell_type": "code",
   "execution_count": null,
   "metadata": {},
   "outputs": [],
   "source": [
    "events_count = events_participants.groupby('event_name')['user_id'].agg(['count', 'nunique']).sort_index()\n",
    "events_count = events_count.iloc[[0,2,1,3]] \n",
    "events_count = events_count.rename(columns = {'count':'event_count', 'nunique':'user_count'})\n",
    "events_count"
   ]
  },
  {
   "cell_type": "code",
   "execution_count": null,
   "metadata": {},
   "outputs": [],
   "source": [
    "fig = go.Figure(go.Funnel(\n",
    "    #y = [\"Посетителей\",\"Добавили товар в корзину\", \"Начали оформлять заказ\", \"Оплатили\"],\n",
    "    y = events_count.index,\n",
    "    x = events_count['user_count'],\n",
    "    textposition = \"inside\",\n",
    "    textinfo = \"value + percent initial + percent previous\",\n",
    "    opacity = 0.9, \n",
    "    marker = {\n",
    "        \"color\": [\"skyblue\", \"lightsalmon\", \"tan\", \"seagreen\"],\n",
    "        \"line\": {\n",
    "            \"width\": [4, 2, 2, 3, 1, 1], \n",
    "            \"color\": [\"wheat\", \"wheat\", \"wheat\", \"wheat\"]\n",
    "        }\n",
    "    },\n",
    "    connector = {\n",
    "        \"line\": {\n",
    "            \"color\": \"wheat\", \"dash\": \"dot\", \"width\": 3\n",
    "        }\n",
    "    },\n",
    "    hoverinfo = 'skip',\n",
    "    #name = 'Воронка событий'\n",
    "    )\n",
    "    )\n",
    "fig.update_layout(\n",
    "    title=\"Воронка событий, количество пользователей\"\n",
    "    #xaxis_title=\"X Axis Title\",\n",
    "    #yaxis_title=\"Y Axis Title\",\n",
    "    #legend_title=\"Legend Title\",\n",
    "    #font=dict(\n",
    "        #family=\"Courier New, monospace\",\n",
    "        #size=18,\n",
    "        #color=\"RebeccaPurple\"\n",
    "    )\n",
    "\n",
    "fig.show()"
   ]
  },
  {
   "cell_type": "markdown",
   "metadata": {},
   "source": [
    "- К просмотру карточки продукта `product_page` переходят 61% залогинившихся пользователей\n",
    "\n",
    "- До корзины `product_cart` доходят где-то половина из тех, кто смотрел карточку продукта и треть из залогинившихся\n",
    "\n",
    "- Покупку совершили примерно столько же пользователей, что добрались до корзины"
   ]
  },
  {
   "cell_type": "markdown",
   "metadata": {},
   "source": [
    "## Распределение событий на пользователя в выборках"
   ]
  },
  {
   "cell_type": "code",
   "execution_count": null,
   "metadata": {},
   "outputs": [],
   "source": [
    "group_count = events_participants.groupby('group')['user_id'].agg(['count', 'nunique'])\n",
    "group_count = group_count.rename(columns = {'count':'event_count', 'nunique':'user_count'})\n",
    "\n",
    "group_count['event_per_user'] = group_count['event_count'] / group_count ['user_count'] \n",
    "\n",
    "print(\"Действия совершали {0} человек из {1}\".format(group_count['user_count'].sum(), participants['user_id'].nunique()))\n",
    "group_count.round(2)"
   ]
  },
  {
   "cell_type": "code",
   "execution_count": null,
   "metadata": {},
   "outputs": [],
   "source": [
    "users_with_events_A_to_B_ratio = (group_count.loc['A', 'user_count'] / group_count.loc['B', 'user_count']).round(2)"
   ]
  },
  {
   "cell_type": "markdown",
   "metadata": {
    "variables": {
     "A_to_B_ratio": "1.37",
     "users_with_events_A_to_B_ratio": "2.36"
    }
   },
   "source": [
    "Тут уже соотношение групп A и B существенно выше в пользу группы A, __почти {{users_with_events_A_to_B_ratio}}:1__, вместо {{A_to_B_ratio}} : 1.\n",
    "\n",
    "Это значит, что __в группе В гораздо больше пользователей не дошли до логина__."
   ]
  },
  {
   "cell_type": "code",
   "execution_count": null,
   "metadata": {},
   "outputs": [],
   "source": [
    "group_count.loc['A','user_count'] / group_count.loc['B','user_count']"
   ]
  },
  {
   "cell_type": "code",
   "execution_count": null,
   "metadata": {
    "scrolled": true
   },
   "outputs": [],
   "source": [
    "events_count_group = events_participants.groupby(['event_name', 'group'])['user_id'].agg(['count','nunique']).reset_index()\n",
    "events_count_group['event_user'] = events_count_group['count'] / events_count_group['nunique']\n",
    "events_count_group = events_count_group.rename(columns = {'count':'event_count', 'nunique':'user_count'})\n",
    "events_count_group.round(2)"
   ]
  },
  {
   "cell_type": "markdown",
   "metadata": {
    "variables": {
     "group_count.loc['A','event_per_user'].round(1)": "7.2",
     "group_count.loc['B','event_per_user'].round(1)": "6.1"
    }
   },
   "source": [
    "Среднее число событий на пользователя в контрольной группе A - {{group_count.loc['A','event_per_user'].round(1)}} . В группе В - {{group_count.loc['B','event_per_user'].round(1)}}. Заметим, что мы считаем только тех пользователей, которые совершали действия.\n",
    "\n",
    "Видим, что __в группе A и событий и пользователей больше__, и кроме того __выше число событий на пользователя__, как в целом, так и в разбивке по событиям."
   ]
  },
  {
   "cell_type": "markdown",
   "metadata": {},
   "source": [
    "Посмотрим на распределение событий по пользователям"
   ]
  },
  {
   "cell_type": "code",
   "execution_count": null,
   "metadata": {},
   "outputs": [],
   "source": [
    "events_per_user = events_participants.groupby(['user_id', 'group'])['event_name']\\\n",
    "    .count().sort_values().reset_index().reset_index()\n",
    "events_per_user = events_per_user.rename(columns={'event_name':'event_count'})\n",
    "events_per_user\n",
    "with sns.axes_style('whitegrid'):\n",
    "    fig, ax = plt.subplots(figsize=(12,7))\n",
    "    sns.scatterplot(data = events_per_user, x='index', y='event_count', hue='group')\n",
    "    plt.title('Распределение количества событий на пользователя')\n",
    "    plt.xlabel('Номер пользователя')\n",
    "    plt.ylabel('Количество событий')\n",
    "    plt.show()"
   ]
  },
  {
   "cell_type": "code",
   "execution_count": null,
   "metadata": {},
   "outputs": [],
   "source": [
    "users_per_count = events_per_user.groupby(['event_count', 'group'])['user_id']\\\n",
    "    .count().reset_index()\n",
    "\n",
    "with sns.axes_style('darkgrid'):\n",
    "    fig, ax = plt.subplots(figsize=(12,7))\n",
    "    sns.barplot(data=users_per_count, x='event_count', y='user_id', hue='group')\n",
    "    plt.title('Распределение числа пользователей по количеству совершенных действий')\n",
    "    plt.xlabel('Количество событий')\n",
    "    plt.ylabel('Количество пользователей')\n",
    "    plt.show()"
   ]
  },
  {
   "cell_type": "markdown",
   "metadata": {},
   "source": [
    "По двум построенным графикам видим, что __20 - нормальное число событий на пользователя__, а больше уже большая редкость (0.1% от общего числа участников из обеих групп). Больше 25 событий встречается только в группе B. \n",
    "\n",
    "Сами распределения имеют схожую форму, напоминающую скошенное нормальное распределение, __максимум у обоих в 6 событиях__. Т.е. чаще всего видим 6 событий на пользователя, совершавшего действия.\n",
    "\n",
    "Любопытно, что есть провалы в 5, 7, 11, 13, 14, 17, 19 событиях. Видимо это связано с тем, что у нас 4 основных события и пользователь сделав одно, вероятно сделает и другое. Например, 12 событий скорее всего означает 3 полных цикла покупки по 4 действия."
   ]
  },
  {
   "cell_type": "code",
   "execution_count": null,
   "metadata": {},
   "outputs": [],
   "source": [
    "users_per_count.query('event_count > 20')['user_id'].sum()/len(participants)*100"
   ]
  },
  {
   "cell_type": "markdown",
   "metadata": {},
   "source": [
    "## Как заполнялись выборки во времени"
   ]
  },
  {
   "cell_type": "code",
   "execution_count": null,
   "metadata": {},
   "outputs": [],
   "source": [
    "participants"
   ]
  },
  {
   "cell_type": "code",
   "execution_count": null,
   "metadata": {},
   "outputs": [],
   "source": [
    "#Уникальные даты регистрации пользователей + id + group\n",
    "reg_dates = participants[['user_id', 'group', 'reg_dt']].drop_duplicates()\n",
    "reg_dates_ticks = reg_dates['reg_dt'].dt.date.drop_duplicates()\n",
    "\n",
    "#Даты регистрации по группам\n",
    "reg_dates_A = reg_dates.query('group == \"A\"')['reg_dt']\n",
    "reg_dates_B = reg_dates.query('group == \"B\"')['reg_dt']\n",
    "\n",
    "with sns.axes_style('darkgrid'):\n",
    "    ax = plt.hist(reg_dates_A, bins=11, alpha=0.5, label=\"A\")\n",
    "    arr = plt.hist(reg_dates_B, bins=11, alpha = 0.5, label = \"B\" )\n",
    "    plt.legend()\n",
    "    plt.xticks(reg_dates_ticks, rotation=90)\n",
    "    plt.title('Распределение количества новых пользователей\\n (показано отношение A/B)')\n",
    "    plt.xlabel('Дата')\n",
    "    plt.ylabel('Количество пользователей')\n",
    "    for i in range(11):\n",
    "        plt.text(ax[1][i],ax[0][i],'{:.2f}'.format(ax[0][i] / arr[0][i]), ha='left')\n",
    "    plt.savefig('zapolnenie.png')    \n",
    "    plt.show()"
   ]
  },
  {
   "cell_type": "code",
   "execution_count": null,
   "metadata": {},
   "outputs": [],
   "source": [
    "#Уникальные даты событий\n",
    "dates = events_participants['event_dt'].dt.date.drop_duplicates()\n",
    "\n",
    "#Уникальные даты регистрации пользователей + id + group\n",
    "reg_dates = events_participants[['user_id', 'group', 'reg_dt']].drop_duplicates()\n",
    "\n",
    "#Даты регистрации по группам\n",
    "reg_dates_A = reg_dates.query('group == \"A\"')['reg_dt']\n",
    "reg_dates_B = reg_dates.query('group == \"B\"')['reg_dt']\n",
    "\n",
    "with sns.axes_style('darkgrid'):\n",
    "    plt.hist(reg_dates_A, bins=14, alpha=0.5, label=\"A\")\n",
    "    plt.hist(reg_dates_B, bins=14, alpha = 0.5, label = \"B\" )\n",
    "    plt.legend()\n",
    "    plt.xticks(dates, rotation=90)\n",
    "    plt.title('Распределение количества новых пользователей, совершивших хоть одно действие')\n",
    "    plt.xlabel('Дата')\n",
    "    plt.ylabel('Количество пользователей')\n",
    "    plt.show()"
   ]
  },
  {
   "cell_type": "markdown",
   "metadata": {},
   "source": [
    "Видим, что выборки заполнялись не однородно во времени, как в смысле кол-ва участников теста в целом, так и в смысле соотнношения групп. \n",
    "\n",
    "__Все это не есть хорошо__. В нормальном тесте заполняемость обеих выборок должна быть однородной, а тут у нас налицо явные всплески, а также разное соотношение кол-ва пользоваталей по дням. Так быть не должно."
   ]
  },
  {
   "cell_type": "markdown",
   "metadata": {},
   "source": [
    "## Распределение числа событий по дням"
   ]
  },
  {
   "cell_type": "code",
   "execution_count": null,
   "metadata": {},
   "outputs": [],
   "source": [
    "#Строит таблицу с накопительным числом событий на каждую дату из @dates\n",
    "events_cum = dates.apply(\n",
    "lambda x: events_participants[events_participants['event_dt'].dt.date <= x]\\\n",
    "    [['event_dt', 'user_id']].agg({\n",
    "        'event_dt':'max',\n",
    "        'user_id':'count'\n",
    "        }\n",
    "    )\n",
    ")\n",
    "events_cum = events_cum.rename(columns={'event_dt':'date', 'user_id':'event_count'}).sort_values('date')\n",
    "events_cum['date'] = events_cum['date'].dt.date\n",
    "events_cum\n",
    "with sns.axes_style('darkgrid'):\n",
    "    sns.lineplot(data = events_cum, x='date', y='event_count')\n",
    "    plt.xticks(rotation=90)\n",
    "    plt.title('Накопительное количество событий по дням')\n",
    "    plt.xlabel('Дата')\n",
    "    plt.ylabel('Количество событий')\n",
    "    plt.show()"
   ]
  },
  {
   "cell_type": "code",
   "execution_count": null,
   "metadata": {
    "scrolled": true
   },
   "outputs": [],
   "source": [
    "events_A = events_participants.query('group == \"A\"')\n",
    "events_B = events_participants.query('group == \"B\"')\n",
    "\n",
    "with sns.axes_style('darkgrid'):\n",
    "    plt.hist(events_A['event_dt'].dt.date, bins=23, alpha=0.5, label = 'A')\n",
    "    plt.hist(events_B['event_dt'].dt.date, bins=23, alpha=0.5, label = 'B')\n",
    "    plt.legend()\n",
    "    plt.xticks(dates, rotation=90)\n",
    "    plt.title('Распределение числа событий по дням и по группам')\n",
    "    plt.xlabel('Дата')\n",
    "    plt.ylabel('Количество событий')\n",
    "    plt.savefig('event_distr.png')\n",
    "    plt.show()"
   ]
  },
  {
   "cell_type": "code",
   "execution_count": null,
   "metadata": {},
   "outputs": [],
   "source": [
    "with sns.axes_style('darkgrid'):\n",
    "    plt.hist(events_A['event_dt'].dt.date, bins=23, alpha=0.5, label = 'A', density=True)\n",
    "    plt.hist(events_B['event_dt'].dt.date, bins=23, alpha=0.5, label = 'B', density=True)\n",
    "    plt.legend()\n",
    "    plt.xticks(dates, rotation=90)\n",
    "    plt.title('Распределение числа событий по дням и по группам, нормированное')\n",
    "    plt.xlabel('Дата')\n",
    "    plt.ylabel('Плотность')\n",
    "    plt.show()"
   ]
  },
  {
   "cell_type": "markdown",
   "metadata": {},
   "source": [
    "Видим, что число событий нарастает линейно до 14 числа, затем продолжает нарастать линейно но быстрее до 18 числа, а потом замедляет свой рост к 29 числу. С 29 до 30 числа почти нет изменений.\n",
    "\n",
    "Таким образом __всплеск прироста числа событий приходится на 14 - 18 число__. Этот всплеск характерен для обоих распределений, но особенно для A. Именно на этом всплеске группа A резко вырывается вперед.\n",
    "\n",
    "В целом распределения количества событий для групп очень похожи за исключением первой недели. Это объясняется разной скоростью притока пользователей, которую мы наблюдали ранее.\n",
    "\n",
    "Также видим, что __30 числа нет событий в группе A__ (и всего 4 события в группе B, причем ни одной покупки)."
   ]
  },
  {
   "cell_type": "code",
   "execution_count": null,
   "metadata": {},
   "outputs": [],
   "source": [
    "date = datetime.date(2020, 12, 30)\n",
    "events_B[events_B['event_dt'].dt.date == date]"
   ]
  },
  {
   "cell_type": "markdown",
   "metadata": {},
   "source": [
    "## Вывод по EDA"
   ]
  },
  {
   "cell_type": "markdown",
   "metadata": {
    "variables": {
     "A_to_B_ratio": "1.37",
     "users_with_events_A_to_B_ratio": "2.36"
    }
   },
   "source": [
    "__Конверсия в воронке__:\n",
    "\n",
    "- До логина доходят меньше 50% участников теста\n",
    "- К просмотру карточки продукта `product_page` переходят 61% залогинившихся пользователей\n",
    "- До корзины `product_cart` доходят половина из тех, кто смотрел карточку продукта и треть из залогинившихся\n",
    "- Покупку совершили примерно столько же пользователей, что добрались до корзины\n",
    "\n",
    "__События и пользователи__:\n",
    "\n",
    "- Соотношение числа пользователей в группах A и В примерно {{A_to_B_ratio}} к 1, но если смотреть на совершивших хоть одно действие, то соотношение уже {{users_with_events_A_to_B_ratio}}:1, т.е. в группе B конверсия в логин более, чем вдвое меньше, чем в группе A.\n",
    "\n",
    "- Выборки не пересекаются\n",
    "\n",
    "- Среднее число событий на пользователя в контрольной группе A - 7,2. В группе В - 6,1. В группе A и событий и пользователей больше, и кроме того выше число событий на пользователя, как в целом, так и в разбивке по событиям. Заметим, что речь идет о пользователях, которые совершили хотя бы одно действие. \n",
    "\n",
    "- Распределения событий по пользователям (и пользователей по количеству совершенных действий) визуально не отличаются в разбивке по группам A и B. \n",
    "\n",
    "- Ничтожное число пользователей (0,1%) совершает более 20 действий.\n",
    "\n",
    "- Пользователи склонны совершать определенные количества действий, например 6, 8, 12. Это связано с тем, что обычный полный цикл покупки содержит 4 действия.\n",
    "\n",
    "__События по датам__:\n",
    "\n",
    "- Пользователи из разных групп появляются у нас не одновременно. Сначала быстрее регистирируются пользователи группы B, но начиная со второй недели A делает резкий скачок.\n",
    "- Все события в выборке совершались между 7 и 30 декабря. При этом 30 декабря почти не было событий (только 4 события группы B)\n",
    "- В распределении событий по дням преобладает линейная динамика с несколькими переломами. Быстрее всего число событий растет с 14 по 18 декабря. Это логично, если учесть, что мы ограничили корректный тест набором до 17 декабря включительно.\n",
    "- Распределения числа событий по дням для групп A и B схожи в середине и в последней трети. Различие есть только в первую неделю эксперимента. Тут группа A и В идут почти вровень, затем A делает резкий скачок. Это объясняется неоднородным заполнением групп A и B во времени.\n",
    "- На период теста начиная с 25 декабря приходится акция Christmas & New Year Promo. Но судя по графикам, никакого влияния на поведеление пользователей она не оказывает.\n",
    "\n",
    "\n"
   ]
  },
  {
   "cell_type": "markdown",
   "metadata": {},
   "source": [
    "# A/B-тест для конверсий"
   ]
  },
  {
   "cell_type": "markdown",
   "metadata": {},
   "source": [
    "## Временное сравнение конверсий"
   ]
  },
  {
   "cell_type": "code",
   "execution_count": null,
   "metadata": {
    "scrolled": true
   },
   "outputs": [],
   "source": [
    "dates_groups = events_participants[['event_dt', 'group']]\n",
    "dates_groups['event_dt'] = dates_groups['event_dt'].dt.date\n",
    "dates_groups = dates_groups.sort_values('event_dt').drop_duplicates()\n",
    "dates_groups.tail()"
   ]
  },
  {
   "cell_type": "code",
   "execution_count": null,
   "metadata": {
    "scrolled": true
   },
   "outputs": [],
   "source": [
    "def cum_users(df, date_name):\n",
    "    '''\n",
    "    Take df and date_name and make a table of cumulative total unique users in group\n",
    "    up to and including the given date \n",
    "    \n",
    "    Return this table with date_name transfered to 'date'\n",
    "    '''\n",
    "    result = dates_groups.apply(\n",
    "        lambda x: df[np.logical_and(\n",
    "            df[date_name].dt.date <= x['event_dt'],\n",
    "            df['group'] == x['group']\n",
    "        )][[date_name, 'user_id', 'group']].agg({\n",
    "            date_name:'max',\n",
    "            'user_id':'nunique',\n",
    "            'group':'max'\n",
    "        }), axis=1\n",
    "    )\n",
    "    result[date_name] = result[date_name].dt.date\n",
    "    result = result.rename(columns={date_name:'date'})\n",
    "    return(result)\n",
    "\n",
    "cum_users(events_participants.query('event_name == \"purchase\"'), 'event_dt').tail(30)"
   ]
  },
  {
   "cell_type": "markdown",
   "metadata": {},
   "source": [
    "Строим таблицу общего накопительного количества пользователей в группах по датам:"
   ]
  },
  {
   "cell_type": "code",
   "execution_count": null,
   "metadata": {
    "scrolled": true
   },
   "outputs": [],
   "source": [
    "all_cum_cnt = cum_users(participants, 'reg_dt')\n",
    "all_cum_cnt = all_cum_cnt.rename(columns = {'user_id':'user_total_cnt'}).drop_duplicates()\n",
    "all_cum_cnt"
   ]
  },
  {
   "cell_type": "code",
   "execution_count": null,
   "metadata": {},
   "outputs": [],
   "source": [
    "#Define max total counts for groups A and B\n",
    "all_cum_cnt_max_A = all_cum_cnt.query('group==\"A\"')['user_total_cnt'].max()\n",
    "all_cum_cnt_max_B = all_cum_cnt.query('group==\"B\"')['user_total_cnt'].max()\n",
    "        \n",
    "\n",
    "def cum_graph_conv(event):\n",
    "    '''\n",
    "    Take event name\n",
    "    Return graph of A/B - 1 cumulative conversion ratio\n",
    "    '''\n",
    "    #filter by event\n",
    "    df = events_participants.query('event_name == @event')\n",
    "    \n",
    "    #apply cum_users to make table with cum counts for users in event\n",
    "    event_cum_cnt = cum_users(df, 'event_dt')\n",
    "    event_cum_cnt = event_cum_cnt.rename(columns={'user_id':'user_event_cnt'})\n",
    "    \n",
    "    #merge with all_cum_cnt and divide by total to get conversion\n",
    "    total_data = event_cum_cnt.merge(all_cum_cnt, on=['date', 'group'], how='left')#.drop_duplicates()\n",
    "    \n",
    "    #fill missing total with max value in each group\n",
    "    total_data.loc[total_data['group']=='A', 'user_total_cnt'] = total_data.loc[total_data['group']=='A', 'user_total_cnt'].fillna(all_cum_cnt_max_A)\n",
    "    total_data.loc[total_data['group']=='B', 'user_total_cnt'] = total_data.loc[total_data['group']=='B', 'user_total_cnt'].fillna(all_cum_cnt_max_B)\n",
    "    \n",
    "    total_data['conversion'] = total_data['user_event_cnt']/ total_data['user_total_cnt']\n",
    "    \n",
    "    #make merged table for each group and calculcate the value we need \n",
    "    data_A = total_data.query('group == \"A\"')[['date', 'conversion']]\n",
    "    data_B = total_data.query('group == \"B\"')[['date', 'conversion']]\n",
    "    merged = data_A.merge(data_B, on='date', suffixes = ['_A', '_B'])\n",
    "    merged['ratio'] = merged['conversion_A'] / merged['conversion_B'] - 1\n",
    "    \n",
    "    with sns.axes_style('darkgrid'):\n",
    "        sns.lineplot(data = merged, x='date', y='ratio')\n",
    "        plt.axhline(y=0, color='black', linestyle='--')\n",
    "        plt.xticks(rotation=90)\n",
    "        plt.title(f'Относительная накопительная конверсия A/B-1 для события {event}')\n",
    "        plt.xlabel('Дата')\n",
    "        plt.ylabel('Отношений конверсий')\n",
    "        plt.show()\n",
    "\n",
    "\n",
    "events_list = events_count.index\n",
    "for event in events_list:\n",
    "    cum_graph_conv(event)      \n"
   ]
  },
  {
   "cell_type": "markdown",
   "metadata": {},
   "source": [
    "Как говорится, все ясно без слов. Конверсии в группе А по всем событиям примерно с 10 числа становятся больше конверсий группы B, причем эта разница только увеличивается со временем. \n",
    "\n",
    "Продолжать тест нет смысла, B явно хуже, чем A."
   ]
  },
  {
   "cell_type": "markdown",
   "metadata": {},
   "source": [
    "## Статистический тест"
   ]
  },
  {
   "cell_type": "markdown",
   "metadata": {},
   "source": [
    "Скорее в образовательных целях проведем стат.тест долей"
   ]
  },
  {
   "cell_type": "code",
   "execution_count": null,
   "metadata": {},
   "outputs": [],
   "source": [
    "ALPHA = .05"
   ]
  },
  {
   "cell_type": "code",
   "execution_count": null,
   "metadata": {},
   "outputs": [],
   "source": [
    "participants_groups.name = 'group_total'"
   ]
  },
  {
   "cell_type": "code",
   "execution_count": null,
   "metadata": {},
   "outputs": [],
   "source": [
    "event_user_count_groups = events_participants.groupby(['event_name', 'group']).agg({'user_id':'nunique'}).reset_index()\n",
    "event_user_count_groups = event_user_count_groups.join(participants_groups, on='group')\n",
    "#event_user_count_groups = event_user_count_groups.rename(columns={'user_id':'user_count'})\n",
    "event_user_count_groups"
   ]
  },
  {
   "cell_type": "markdown",
   "metadata": {},
   "source": [
    "Проведем односторонние тесты, чтобы проверить разницу долей событий в группах. У нас будет 4 теста, а значит довольно высокая вероятность ошибки 1 рода хотя бы в одном из них."
   ]
  },
  {
   "cell_type": "code",
   "execution_count": null,
   "metadata": {},
   "outputs": [],
   "source": [
    "st.binom.pmf(1, 4, ALPHA)"
   ]
  },
  {
   "cell_type": "markdown",
   "metadata": {},
   "source": [
    "Поэтому сделаем поправку Бонферрони и поделим уровень значимости на 4 "
   ]
  },
  {
   "cell_type": "code",
   "execution_count": null,
   "metadata": {},
   "outputs": [],
   "source": [
    "ALPHA /= 4\n",
    "ALPHA"
   ]
  },
  {
   "cell_type": "code",
   "execution_count": null,
   "metadata": {},
   "outputs": [],
   "source": [
    "st.binom.pmf(1, 4, ALPHA)"
   ]
  },
  {
   "cell_type": "markdown",
   "metadata": {},
   "source": [
    "Теперь коллективная ошибка первого рода будет происходить с приемлимой вероятностью 4.8%."
   ]
  },
  {
   "cell_type": "code",
   "execution_count": null,
   "metadata": {},
   "outputs": [],
   "source": [
    "def test_share_eq (event_name, group_id_1, group_id_2):\n",
    "    # Функция проводит z-test для равенства долей события в двух группах\n",
    "    # На вход получает название события и два id групп\n",
    "    #print('Тест на равенство долей')\n",
    "    print(f'Нулевая гипотеза: доли события {event_name} в группах {group_id_1}, {group_id_2} отличаются ровно на 10% в пользу группы {group_id_2}')\n",
    "    print('Альтернативная гипотеза: доли отличаются меньше, чем на 10%')\n",
    "    print('Уровень значимости:', ALPHA)\n",
    "    print(' ')\n",
    "    data = event_user_count_groups.query('event_name == @event_name')\n",
    "    data_1 = data.query('group == @group_id_1').reset_index()\n",
    "    data_2 = data.query('group == @group_id_2').reset_index()\n",
    "    #print(data_1)\n",
    "    #print(data_2)\n",
    "\n",
    "    # пропорция успехов в первой группе:\n",
    "    p1 = data_1['user_id']/ data_1['group_total']\n",
    "    p1 = p1[0]\n",
    "    print(f'Доля группы {group_id_1}', p1)\n",
    "\n",
    "    # пропорция успехов во второй группе:\n",
    "    p2 = data_2['user_id']/ data_2['group_total']\n",
    "    p2 = p2[0]\n",
    "    print(f'Доля группы {group_id_2}', p2)\n",
    "\n",
    "    # пропорция успехов в комбинированном датасете:\n",
    "    p_combined = (data_1['user_id']+ data_2['user_id']) / (data_1['group_total']+ data_2['group_total'])\n",
    "    p_combined = p_combined[0]\n",
    "    print('Общая доля:', p_combined)\n",
    "    print(' ')\n",
    "    # разница пропорций в датасетах\n",
    "    difference = p2 - p1 - 0.1\n",
    "    \n",
    "    z_value = difference / mth.sqrt(p_combined * (1 - p_combined) * (1/data_1['group_total'][0] + 1/data_2['group_total'][0]))\n",
    "\n",
    "    # задаем стандартное нормальное распределение (среднее 0, ст.отклонение 1)\n",
    "    distr = st.norm(0, 1) \n",
    "\n",
    "    p_value = (1 - distr.cdf(abs(z_value)))\n",
    "\n",
    "    print('p-значение: {0:.15f}'.format(p_value))\n",
    "\n",
    "    if (p_value < ALPHA):\n",
    "        print(\"Отвергаем нулевую гипотезу: отличие менее, чем на 10%\")\n",
    "    else:\n",
    "        print(\"Не получилось отвергнуть нулевую гипотезу, нет оснований считать отличие долей больше 10%\")\n",
    "    print(' ')\n",
    "    print('--------------------------------------------------------------')\n",
    "    print(' ')\n",
    "\n",
    "    "
   ]
  },
  {
   "cell_type": "code",
   "execution_count": null,
   "metadata": {},
   "outputs": [],
   "source": [
    "def test_share_all(event_list, group1, group2):\n",
    "    test_counter = 0\n",
    "    for event in event_list:\n",
    "        test_share_eq(event, group1, group2)\n",
    "        test_counter+=1\n",
    "    return(test_counter)    "
   ]
  },
  {
   "cell_type": "code",
   "execution_count": null,
   "metadata": {},
   "outputs": [],
   "source": [
    "test_cnt = 0\n",
    "test_cnt += test_share_all(events_list, \"A\", \"B\")\n",
    "test_cnt"
   ]
  },
  {
   "cell_type": "markdown",
   "metadata": {},
   "source": [
    "В приципе уже до проверки гипотез можно было сделать вывод, что доли событий из группы B гораздо меньше долей событий из группы A. __Контрольная группа намного лучше, чем конкурирующая, причем не только по целевым показателям конверсии, но и по логину пользователей__."
   ]
  },
  {
   "cell_type": "markdown",
   "metadata": {},
   "source": [
    "# Итоги"
   ]
  },
  {
   "cell_type": "markdown",
   "metadata": {},
   "source": [
    "## Основные этапы работы"
   ]
  },
  {
   "cell_type": "markdown",
   "metadata": {},
   "source": [
    "- Выделили из данных необходимую информацию\n",
    "- Отфильтровали пользователей соотвествующих условиям нашего теста\n",
    "- Посмотрели на размеры групп, распределение событий по пользователям\n",
    "- Построили воронку событий\n",
    "- Посмотрели на заполнение групп пользователями по времени\n",
    "- Построили распределение количества событий по времени\n",
    "- Построили график накопительной относительной конверсии A/B-1\n",
    "- Провели статиситический тест на равенство долей событий в группах.\n"
   ]
  },
  {
   "cell_type": "markdown",
   "metadata": {},
   "source": [
    "## Выводы"
   ]
  },
  {
   "cell_type": "markdown",
   "metadata": {},
   "source": [
    "- Главный вывод: __тест проведен некорректно__, в связи с неоднородным заполнением выборок A и B во времени, а также различными размерами самих выборок. Кроме того зявленный интервал теста, на деле оказался короче, все события заканчиваются 30-12, а не 01-04. Пришлось сократить и возможные даты регистрации в тесте.\n",
    "\n",
    "<img src='zapolnenie.PNG' width=\"500\" />\n",
    "\n",
    "\n",
    "- Было выбрано не лучшее время для проведения теста: оно включило в себя как период задолго до католического Рождества, так и непосредственно неделю перед рождеством, а также период после праздника. Это естественно сказалось на активности пользователей, которая также очень неоднородна во времени\n",
    "\n",
    "<img src='event_distr.PNG' width=\"500\" />\n",
    "\n",
    "- Конечно, если доверять результатам, то новая рекомендательная система хуже старой. Это показывают и графики накопительной конверсии A/B-1, и статистические тесты. Но повторим, что этот вывод и все последующие нуждаются в доп. проверке.\n",
    "\n",
    "- Группа B лишь в первую неделю смотрелась в среднем лучше группы A по конверсии, затем конверсия группы A по всем событиям опередила конверсию группы B, причем разница непрерывно нарастала.\n",
    "\n",
    "- Надо отметить, что почти половина пользователей в тесте вообще не совершила никаких действий в исследуемый период. Это самая весомая потеря и тут нужно разбираться, почему так произошло.\n",
    "\n",
    "- Конверсия в purchase в итоге около 18% по группе A и всего 9% в группе B.\n",
    "\n",
    "- Новогодняя промо акция не оказала влияния на поведение пользователей в группах и в целом"
   ]
  },
  {
   "cell_type": "code",
   "execution_count": null,
   "metadata": {},
   "outputs": [],
   "source": []
  }
 ],
 "metadata": {
  "kernelspec": {
   "display_name": "Python 3",
   "language": "python",
   "name": "python3"
  },
  "language_info": {
   "codemirror_mode": {
    "name": "ipython",
    "version": 3
   },
   "file_extension": ".py",
   "mimetype": "text/x-python",
   "name": "python",
   "nbconvert_exporter": "python",
   "pygments_lexer": "ipython3",
   "version": "3.8.8"
  },
  "toc": {
   "base_numbering": 1,
   "nav_menu": {},
   "number_sections": true,
   "sideBar": true,
   "skip_h1_title": false,
   "title_cell": "Table of Contents",
   "title_sidebar": "Contents",
   "toc_cell": true,
   "toc_position": {
    "height": "388.8px",
    "left": "49px",
    "top": "111.6px",
    "width": "284.391px"
   },
   "toc_section_display": true,
   "toc_window_display": true
  }
 },
 "nbformat": 4,
 "nbformat_minor": 4
}
